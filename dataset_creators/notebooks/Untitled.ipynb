{
 "cells": [
  {
   "cell_type": "code",
   "execution_count": 2,
   "id": "c965973e-ab8a-44cf-8ff6-ec8f94864db3",
   "metadata": {},
   "outputs": [],
   "source": [
    "from datasets import load_dataset"
   ]
  },
  {
   "cell_type": "code",
   "execution_count": 4,
   "id": "0cb6c31a-b31b-4ded-987a-ce2617844b5f",
   "metadata": {},
   "outputs": [
    {
     "name": "stderr",
     "output_type": "stream",
     "text": [
      "Reusing dataset cnn_dailymail (/scratch/ramprasad.sa/huggingface_datasets/cnn_dailymail/3.0.0/3.0.0/0107f7388b5c6fae455a5661bcd134fc22da53ea75852027040d8d1e997f101f)\n"
     ]
    },
    {
     "data": {
      "application/vnd.jupyter.widget-view+json": {
       "model_id": "21faa5c7ac624a5caca396022ee74fa1",
       "version_major": 2,
       "version_minor": 0
      },
      "text/plain": [
       "HBox(children=(FloatProgress(value=0.0, description='Downloading', max=1930.0, style=ProgressStyle(description…"
      ]
     },
     "metadata": {},
     "output_type": "display_data"
    },
    {
     "name": "stdout",
     "output_type": "stream",
     "text": [
      "\n"
     ]
    },
    {
     "data": {
      "application/vnd.jupyter.widget-view+json": {
       "model_id": "c0ee455b8be34f65a845103663178dc5",
       "version_major": 2,
       "version_minor": 0
      },
      "text/plain": [
       "HBox(children=(FloatProgress(value=0.0, description='Downloading', max=954.0, style=ProgressStyle(description_…"
      ]
     },
     "metadata": {},
     "output_type": "display_data"
    },
    {
     "name": "stderr",
     "output_type": "stream",
     "text": [
      "Using custom data configuration default\n"
     ]
    },
    {
     "name": "stdout",
     "output_type": "stream",
     "text": [
      "\n",
      "Downloading and preparing dataset xsum/default (download: 245.38 MiB, generated: 507.60 MiB, post-processed: Unknown size, total: 752.98 MiB) to /scratch/ramprasad.sa/huggingface_datasets/xsum/default/1.2.0/4957825a982999fbf80bca0b342793b01b2611e021ef589fb7c6250b3577b499...\n"
     ]
    },
    {
     "data": {
      "application/vnd.jupyter.widget-view+json": {
       "model_id": "b7b2528feffa455ba3bac0f41b8776d8",
       "version_major": 2,
       "version_minor": 0
      },
      "text/plain": [
       "HBox(children=(FloatProgress(value=0.0, description='Downloading', max=254582292.0, style=ProgressStyle(descri…"
      ]
     },
     "metadata": {},
     "output_type": "display_data"
    },
    {
     "name": "stdout",
     "output_type": "stream",
     "text": [
      "\n"
     ]
    },
    {
     "data": {
      "application/vnd.jupyter.widget-view+json": {
       "model_id": "",
       "version_major": 2,
       "version_minor": 0
      },
      "text/plain": [
       "HBox(children=(FloatProgress(value=1.0, bar_style='info', layout=Layout(width='20px'), max=1.0), HTML(value=''…"
      ]
     },
     "metadata": {},
     "output_type": "display_data"
    },
    {
     "data": {
      "application/vnd.jupyter.widget-view+json": {
       "model_id": "",
       "version_major": 2,
       "version_minor": 0
      },
      "text/plain": [
       "HBox(children=(FloatProgress(value=1.0, bar_style='info', layout=Layout(width='20px'), max=1.0), HTML(value=''…"
      ]
     },
     "metadata": {},
     "output_type": "display_data"
    },
    {
     "data": {
      "application/vnd.jupyter.widget-view+json": {
       "model_id": "",
       "version_major": 2,
       "version_minor": 0
      },
      "text/plain": [
       "HBox(children=(FloatProgress(value=1.0, bar_style='info', layout=Layout(width='20px'), max=1.0), HTML(value=''…"
      ]
     },
     "metadata": {},
     "output_type": "display_data"
    },
    {
     "name": "stdout",
     "output_type": "stream",
     "text": [
      "Dataset xsum downloaded and prepared to /scratch/ramprasad.sa/huggingface_datasets/xsum/default/1.2.0/4957825a982999fbf80bca0b342793b01b2611e021ef589fb7c6250b3577b499. Subsequent calls will reuse this data.\n"
     ]
    }
   ],
   "source": [
    "cnndm_dataset = load_dataset(\"ccdv/cnn_dailymail\", '3.0.0', split = 'test', cache_dir = '/scratch/ramprasad.sa/huggingface_datasets')\n",
    "\n",
    "xsum_dataset = load_dataset(\"xsum\", split = 'test', cache_dir = '/scratch/ramprasad.sa/huggingface_datasets')"
   ]
  },
  {
   "cell_type": "code",
   "execution_count": 6,
   "id": "816bd70a-88da-431e-913f-2a300bb66c51",
   "metadata": {},
   "outputs": [
    {
     "name": "stderr",
     "output_type": "stream",
     "text": [
      "Using custom data configuration default\n",
      "Reusing dataset billsum (/scratch/ramprasad.sa/huggingface_datasets/billsum/default/3.0.0/d1e95173aed3acb71327864be74ead49b578522e4c7206048b2f2e5351b57959)\n"
     ]
    }
   ],
   "source": [
    "billsum = load_dataset(\"billsum\", split=\"test\", cache_dir = '/scratch/ramprasad.sa/huggingface_datasets')"
   ]
  },
  {
   "cell_type": "code",
   "execution_count": 8,
   "id": "a4ef85e8-181b-4b70-a0cb-9cada05f0a90",
   "metadata": {},
   "outputs": [
    {
     "data": {
      "text/plain": [
       "22824"
      ]
     },
     "execution_count": 8,
     "metadata": {},
     "output_type": "execute_result"
    }
   ],
   "source": [
    "len(cnndm_dataset)+  len(xsum_dataset)"
   ]
  },
  {
   "cell_type": "code",
   "execution_count": 9,
   "id": "c03055a1-c394-4e66-8e79-5d24615262e1",
   "metadata": {},
   "outputs": [
    {
     "data": {
      "text/plain": [
       "3269"
      ]
     },
     "execution_count": 9,
     "metadata": {},
     "output_type": "execute_result"
    }
   ],
   "source": [
    "len(billsum)"
   ]
  },
  {
   "cell_type": "code",
   "execution_count": 10,
   "id": "cb4f3805-abe0-4155-aa7d-67c3c19a8a79",
   "metadata": {},
   "outputs": [
    {
     "name": "stderr",
     "output_type": "stream",
     "text": [
      "No config specified, defaulting to: pub_med_summarization_dataset/section\n",
      "Reusing dataset pub_med_summarization_dataset (/scratch/ramprasad.sa/huggingface_datasets/pub_med_summarization_dataset/section/1.0.0/f765ec606c790e8c5694b226814a13f1974ba4ea98280989edaffb152ded5e2b)\n"
     ]
    }
   ],
   "source": [
    "pubmed = load_dataset(\"ccdv/pubmed-summarization\", split=\"test\", cache_dir = '/scratch/ramprasad.sa/huggingface_datasets')"
   ]
  },
  {
   "cell_type": "code",
   "execution_count": 11,
   "id": "3a852824-2809-43c3-b01c-6d06a21a5d5a",
   "metadata": {},
   "outputs": [
    {
     "data": {
      "text/plain": [
       "6658"
      ]
     },
     "execution_count": 11,
     "metadata": {},
     "output_type": "execute_result"
    }
   ],
   "source": [
    "len(pubmed)"
   ]
  },
  {
   "cell_type": "code",
   "execution_count": null,
   "id": "5707ca51-7a8b-49a6-aa2d-02576d86c63c",
   "metadata": {},
   "outputs": [],
   "source": []
  }
 ],
 "metadata": {
  "kernelspec": {
   "display_name": "llm",
   "language": "python",
   "name": "llm"
  },
  "language_info": {
   "codemirror_mode": {
    "name": "ipython",
    "version": 3
   },
   "file_extension": ".py",
   "mimetype": "text/x-python",
   "name": "python",
   "nbconvert_exporter": "python",
   "pygments_lexer": "ipython3",
   "version": "3.8.16"
  }
 },
 "nbformat": 4,
 "nbformat_minor": 5
}

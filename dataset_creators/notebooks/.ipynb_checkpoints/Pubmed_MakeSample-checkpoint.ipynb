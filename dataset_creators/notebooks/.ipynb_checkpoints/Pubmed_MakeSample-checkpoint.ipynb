{
 "cells": [
  {
   "cell_type": "code",
   "execution_count": 3,
   "id": "02abb778-2e8b-4291-80fc-8e97f9d0ab94",
   "metadata": {},
   "outputs": [],
   "source": [
    "from transformers import T5Tokenizer, T5ForConditionalGeneration\n",
    "import tiktoken\n",
    "from datasets import load_dataset\n",
    "from tqdm import tqdm\n",
    "import dataset_creators.config as config\n",
    "import pandas as pd\n",
    "import os\n",
    "import uuid\n",
    "import tqdm"
   ]
  },
  {
   "cell_type": "code",
   "execution_count": 5,
   "id": "93be2436",
   "metadata": {},
   "outputs": [
    {
     "name": "stderr",
     "output_type": "stream",
     "text": [
      "No config specified, defaulting to: pubmed-summarization/section\n",
      "Found cached dataset pubmed-summarization (/scratch/ramprasad.sa/huggingface_datasets/ccdv___pubmed-summarization/section/1.0.0/f765ec606c790e8c5694b226814a13f1974ba4ea98280989edaffb152ded5e2b)\n"
     ]
    }
   ],
   "source": [
    "\n",
    "dataset = load_dataset(\"ccdv/pubmed-summarization\", split=\"test\", cache_dir = '/scratch/ramprasad.sa/huggingface_datasets')"
   ]
  },
  {
   "cell_type": "code",
   "execution_count": 6,
   "id": "6aed7b2f",
   "metadata": {},
   "outputs": [],
   "source": [
    "\n",
    "def check_prompt_token_limits(article, instructions, tokenizer, token_limit):\n",
    "    counter = 0\n",
    "    for key, instruction in instructions.items():\n",
    "        prompt = f'Article: {article}\\n{instruction}'\n",
    "        prompt_len = len(tokenizer.encode(prompt))\n",
    "        if prompt_len < token_limit:\n",
    "            counter += 1 \n",
    "    return counter \n",
    "\n",
    "def get_shortlisted_data(articles, reference_summaries, ids = [], token_limit = 4096, dataset = 'xsum'):\n",
    "    \n",
    "    flan_tokenizer = T5Tokenizer.from_pretrained(\"google/flan-t5-xl\")\n",
    "    flan_instructions = config.instructions[f'{dataset}_flant5']\n",
    "    \n",
    "    gpt_tokenizer = tiktoken.encoding_for_model(\"gpt-3.5-turbo\")\n",
    "    gpt_instructions = config.instructions[f'{dataset}_gpt3']\n",
    "    \n",
    "    shortlisted_articles = []\n",
    "    shortlisted_reference_summaries = []\n",
    "    \n",
    "    shortlisted_ids = []\n",
    "    \n",
    "    for idx, article in enumerate(articles):\n",
    "        add_article = 0 \n",
    "        \n",
    "        flan_counter = check_prompt_token_limits(article, flan_instructions, flan_tokenizer, token_limit)\n",
    "        add_article += flan_counter\n",
    "        \n",
    "        gpt_counter = check_prompt_token_limits(article, gpt_instructions, gpt_tokenizer, token_limit)\n",
    "        add_article += gpt_counter\n",
    "        \n",
    "\n",
    "        if add_article == 4:\n",
    "            shortlisted_articles.append(article)\n",
    "            shortlisted_reference_summaries.append(reference_summaries[idx])\n",
    "            \n",
    "            if not ids:\n",
    "                article_id = str(uuid.uuid4())\n",
    "            else:\n",
    "                article_id = ids[idx]\n",
    "            \n",
    "            shortlisted_ids.append(article_id)\n",
    "            \n",
    "    return shortlisted_articles, shortlisted_reference_summaries, shortlisted_ids\n",
    "\n",
    "\n",
    "def make_sample_pubmed(data_path, token_limit = 4096):\n",
    "    dataset = load_dataset(\"ccdv/pubmed-summarization\", split=\"test\", cache_dir = '/scratch/ramprasad.sa/huggingface_datasets')\n",
    "    articles = dataset['article']\n",
    "    reference_summaries = dataset['abstract']\n",
    "    \n",
    "    \n",
    "    \n",
    "    shortlisted_data = {'article': [], 'reference_summary': [], 'id': [], 'origin': []}\n",
    "    \n",
    "    shortlisted_articles, shortlisted_reference_summaries, shortlisted_ids = get_shortlisted_data(articles, reference_summaries, dataset = 'pubmed')\n",
    "    shortlisted_data['article'] += shortlisted_articles\n",
    "    shortlisted_data['reference_summary'] += shortlisted_reference_summaries\n",
    "    shortlisted_data['id'] += shortlisted_ids\n",
    "    shortlisted_data['origin'] += ['pubmed'] * len(shortlisted_ids)\n",
    "            \n",
    "    isExist = os.path.exists(data_path)\n",
    "    if not isExist:\n",
    "        os.makedirs(data_path)\n",
    "    \n",
    "    df = pd.DataFrame(shortlisted_data)\n",
    "    df.to_csv(f'{data_path}/test_sample.csv')\n",
    "    return df\n",
    "\n"
   ]
  },
  {
   "cell_type": "code",
   "execution_count": 7,
   "id": "46a751f4",
   "metadata": {},
   "outputs": [
    {
     "name": "stderr",
     "output_type": "stream",
     "text": [
      "No config specified, defaulting to: pubmed-summarization/section\n",
      "Found cached dataset pubmed-summarization (/scratch/ramprasad.sa/huggingface_datasets/ccdv___pubmed-summarization/section/1.0.0/f765ec606c790e8c5694b226814a13f1974ba4ea98280989edaffb152ded5e2b)\n",
      "Token indices sequence length is longer than the specified maximum sequence length for this model (4625 > 512). Running this sequence through the model will result in indexing errors\n"
     ]
    }
   ],
   "source": [
    "shortlisted_data = make_sample_pubmed('/home/ramprasad.sa/factual_annotation_llm_summaries/datasets/pubmed')\n",
    "# pd.DataFrame(shortlisted_data)"
   ]
  },
  {
   "cell_type": "code",
   "execution_count": 8,
   "id": "37cf6154",
   "metadata": {},
   "outputs": [
    {
     "data": {
      "text/html": [
       "<div>\n",
       "<style scoped>\n",
       "    .dataframe tbody tr th:only-of-type {\n",
       "        vertical-align: middle;\n",
       "    }\n",
       "\n",
       "    .dataframe tbody tr th {\n",
       "        vertical-align: top;\n",
       "    }\n",
       "\n",
       "    .dataframe thead th {\n",
       "        text-align: right;\n",
       "    }\n",
       "</style>\n",
       "<table border=\"1\" class=\"dataframe\">\n",
       "  <thead>\n",
       "    <tr style=\"text-align: right;\">\n",
       "      <th></th>\n",
       "      <th>article</th>\n",
       "      <th>reference_summary</th>\n",
       "      <th>id</th>\n",
       "      <th>origin</th>\n",
       "    </tr>\n",
       "  </thead>\n",
       "  <tbody>\n",
       "    <tr>\n",
       "      <th>0</th>\n",
       "      <td>congenital adrenal hyperplasia ( cah ) refers ...</td>\n",
       "      <td>congenital adrenal hyperplasia is a group of a...</td>\n",
       "      <td>f05ee546-a3c4-40fb-b604-9497cb165de8</td>\n",
       "      <td>pubmed</td>\n",
       "    </tr>\n",
       "    <tr>\n",
       "      <th>1</th>\n",
       "      <td>the family is the cornerstone of human social ...</td>\n",
       "      <td>background : since the family is a social syst...</td>\n",
       "      <td>7bca5d77-7541-4ff9-a46f-d446b72dd9cd</td>\n",
       "      <td>pubmed</td>\n",
       "    </tr>\n",
       "    <tr>\n",
       "      <th>2</th>\n",
       "      <td>development of human societies and industriali...</td>\n",
       "      <td>background and objective :   anxiety and depre...</td>\n",
       "      <td>0fc68a72-a6d3-4ec9-8f43-61124446a064</td>\n",
       "      <td>pubmed</td>\n",
       "    </tr>\n",
       "    <tr>\n",
       "      <th>3</th>\n",
       "      <td>male macroprolactinomas ( mprl ) are usually r...</td>\n",
       "      <td>background : suppurative meningitis ( sm ) or ...</td>\n",
       "      <td>86ed3313-6fde-46d4-b555-0afd6821f378</td>\n",
       "      <td>pubmed</td>\n",
       "    </tr>\n",
       "    <tr>\n",
       "      <th>4</th>\n",
       "      <td>the femoral head often leads to healing compli...</td>\n",
       "      <td>fracture of the femoral neck continues to be a...</td>\n",
       "      <td>861ad9de-1ed4-4dc2-94f3-b4ec29b8e99e</td>\n",
       "      <td>pubmed</td>\n",
       "    </tr>\n",
       "    <tr>\n",
       "      <th>...</th>\n",
       "      <td>...</td>\n",
       "      <td>...</td>\n",
       "      <td>...</td>\n",
       "      <td>...</td>\n",
       "    </tr>\n",
       "    <tr>\n",
       "      <th>3499</th>\n",
       "      <td>odorant binding proteins ( obps ) were identif...</td>\n",
       "      <td>odorant - binding proteins ( obps ) were disco...</td>\n",
       "      <td>543ed531-f820-48f4-ba82-bb7cd18b0f56</td>\n",
       "      <td>pubmed</td>\n",
       "    </tr>\n",
       "    <tr>\n",
       "      <th>3500</th>\n",
       "      <td>minimally invasive surgery was first described...</td>\n",
       "      <td>purposethis study aimed to comparatively evalu...</td>\n",
       "      <td>29d98812-1c9e-456b-9e7c-1836a5d7c478</td>\n",
       "      <td>pubmed</td>\n",
       "    </tr>\n",
       "    <tr>\n",
       "      <th>3501</th>\n",
       "      <td>a 60-year - old male patient was referred to a...</td>\n",
       "      <td>warthin 's tumor is the second most common typ...</td>\n",
       "      <td>e7456860-d6cc-4811-955b-69eea48b860c</td>\n",
       "      <td>pubmed</td>\n",
       "    </tr>\n",
       "    <tr>\n",
       "      <th>3502</th>\n",
       "      <td>they almost always require open reduction and ...</td>\n",
       "      <td>introduction : subtrochanteric fractures have ...</td>\n",
       "      <td>bc18fe1d-dd83-4523-a52c-b9bf465b8d78</td>\n",
       "      <td>pubmed</td>\n",
       "    </tr>\n",
       "    <tr>\n",
       "      <th>3503</th>\n",
       "      <td>renal transplantation rates are low among pati...</td>\n",
       "      <td>we describe a successful living donor liver tr...</td>\n",
       "      <td>6899d499-8931-469f-b1f6-2f06e02d9193</td>\n",
       "      <td>pubmed</td>\n",
       "    </tr>\n",
       "  </tbody>\n",
       "</table>\n",
       "<p>3504 rows × 4 columns</p>\n",
       "</div>"
      ],
      "text/plain": [
       "                                                article   \n",
       "0     congenital adrenal hyperplasia ( cah ) refers ...  \\\n",
       "1     the family is the cornerstone of human social ...   \n",
       "2     development of human societies and industriali...   \n",
       "3     male macroprolactinomas ( mprl ) are usually r...   \n",
       "4     the femoral head often leads to healing compli...   \n",
       "...                                                 ...   \n",
       "3499  odorant binding proteins ( obps ) were identif...   \n",
       "3500  minimally invasive surgery was first described...   \n",
       "3501  a 60-year - old male patient was referred to a...   \n",
       "3502  they almost always require open reduction and ...   \n",
       "3503  renal transplantation rates are low among pati...   \n",
       "\n",
       "                                      reference_summary   \n",
       "0     congenital adrenal hyperplasia is a group of a...  \\\n",
       "1     background : since the family is a social syst...   \n",
       "2     background and objective :   anxiety and depre...   \n",
       "3     background : suppurative meningitis ( sm ) or ...   \n",
       "4     fracture of the femoral neck continues to be a...   \n",
       "...                                                 ...   \n",
       "3499  odorant - binding proteins ( obps ) were disco...   \n",
       "3500  purposethis study aimed to comparatively evalu...   \n",
       "3501  warthin 's tumor is the second most common typ...   \n",
       "3502  introduction : subtrochanteric fractures have ...   \n",
       "3503  we describe a successful living donor liver tr...   \n",
       "\n",
       "                                        id  origin  \n",
       "0     f05ee546-a3c4-40fb-b604-9497cb165de8  pubmed  \n",
       "1     7bca5d77-7541-4ff9-a46f-d446b72dd9cd  pubmed  \n",
       "2     0fc68a72-a6d3-4ec9-8f43-61124446a064  pubmed  \n",
       "3     86ed3313-6fde-46d4-b555-0afd6821f378  pubmed  \n",
       "4     861ad9de-1ed4-4dc2-94f3-b4ec29b8e99e  pubmed  \n",
       "...                                    ...     ...  \n",
       "3499  543ed531-f820-48f4-ba82-bb7cd18b0f56  pubmed  \n",
       "3500  29d98812-1c9e-456b-9e7c-1836a5d7c478  pubmed  \n",
       "3501  e7456860-d6cc-4811-955b-69eea48b860c  pubmed  \n",
       "3502  bc18fe1d-dd83-4523-a52c-b9bf465b8d78  pubmed  \n",
       "3503  6899d499-8931-469f-b1f6-2f06e02d9193  pubmed  \n",
       "\n",
       "[3504 rows x 4 columns]"
      ]
     },
     "execution_count": 8,
     "metadata": {},
     "output_type": "execute_result"
    }
   ],
   "source": [
    "shortlisted_data"
   ]
  },
  {
   "cell_type": "code",
   "execution_count": 6,
   "id": "cacbc8d3",
   "metadata": {
    "scrolled": true
   },
   "outputs": [
    {
     "data": {
      "text/plain": [
       "6658"
      ]
     },
     "execution_count": 6,
     "metadata": {},
     "output_type": "execute_result"
    }
   ],
   "source": [
    "len(dataset['abstract'])"
   ]
  },
  {
   "cell_type": "code",
   "execution_count": 9,
   "id": "8f29ab02",
   "metadata": {},
   "outputs": [
    {
     "data": {
      "text/plain": [
       "\"research on the implications of anxiety in parkinson 's disease ( pd ) has been neglected despite its prevalence in nearly 50% of patients and its negative impact on quality of life . \\n previous reports have noted that neuropsychiatric symptoms impair cognitive performance in pd patients ; however , to date , no study has directly compared pd patients with and without anxiety to examine the impact of anxiety on cognitive impairments in pd . \\n this study compared cognitive performance across 50 pd participants with and without anxiety ( 17 pda+ ; 33 pda ) , who underwent neurological and neuropsychological assessment . \\n group performance was compared across the following cognitive domains : simple attention / visuomotor processing speed , executive function ( e.g. , set - shifting ) , working memory , language , and memory / new verbal learning . \\n results showed that pda+ performed significantly worse on the digit span forward and backward test and part b of the trail making task ( tmt - b ) compared to the pda group . \\n there were no group differences in verbal fluency , logical memory , or tmt - a performance . in conclusion , \\n anxiety in pd has a measurable impact on working memory and attentional set - shifting .\""
      ]
     },
     "execution_count": 9,
     "metadata": {},
     "output_type": "execute_result"
    }
   ],
   "source": [
    "dataset['abstract'][0]"
   ]
  },
  {
   "cell_type": "code",
   "execution_count": null,
   "id": "e43ef3a1",
   "metadata": {},
   "outputs": [],
   "source": []
  }
 ],
 "metadata": {
  "kernelspec": {
   "display_name": "llm",
   "language": "python",
   "name": "llm"
  },
  "language_info": {
   "codemirror_mode": {
    "name": "ipython",
    "version": 3
   },
   "file_extension": ".py",
   "mimetype": "text/x-python",
   "name": "python",
   "nbconvert_exporter": "python",
   "pygments_lexer": "ipython3",
   "version": "3.8.16"
  }
 },
 "nbformat": 4,
 "nbformat_minor": 5
}

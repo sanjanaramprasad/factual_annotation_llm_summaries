{
 "cells": [
  {
   "cell_type": "code",
   "execution_count": 47,
   "id": "1cdcfac5",
   "metadata": {},
   "outputs": [],
   "source": [
    "from models.GPT_3.gpt3 import GPTInference\n",
    "from models.Flan_t5.flan_t5 import FlanT5Inference"
   ]
  },
  {
   "cell_type": "code",
   "execution_count": 48,
   "id": "61b7ef52",
   "metadata": {},
   "outputs": [],
   "source": [
    "import pandas as pd\n",
    "import dataset_creators.config as config"
   ]
  },
  {
   "cell_type": "code",
   "execution_count": 49,
   "id": "ffd828d9",
   "metadata": {},
   "outputs": [
    {
     "data": {
      "application/vnd.jupyter.widget-view+json": {
       "model_id": "58d5bce71f484cccb03dd310d869e146",
       "version_major": 2,
       "version_minor": 0
      },
      "text/plain": [
       "Loading checkpoint shards:   0%|          | 0/2 [00:00<?, ?it/s]"
      ]
     },
     "metadata": {},
     "output_type": "display_data"
    }
   ],
   "source": [
    "parent_path = '/home/ramprasad.sa/factual_annotation_llm_summaries'\n",
    "dataset_path = 'datasets/news'\n",
    "\n",
    "# dataset_path_map = {'xsum': 'datasets/news_sample/xsum_sample.csv', 'cnndm': 'datasets/news_sample/cnndm_sample.csv'}\n",
    "model_map = {'gpt3' : GPTInference(), 'flant5': FlanT5Inference()}"
   ]
  },
  {
   "cell_type": "code",
   "execution_count": 50,
   "id": "5c93d633",
   "metadata": {},
   "outputs": [],
   "source": [
    "\n",
    "def generate_summaries(dset, model, filter_keys = [], num_samples = 5):\n",
    "    df = pd.read_csv(f'{parent_path}/datasets/{dset}/test_sample.csv')\n",
    "    if filter_keys:\n",
    "        print(f'{filter_keys[0]} == {filter_keys[1]}')\n",
    "        df = df[df[filter_keys[0]] == filter_keys[1]]\n",
    "    df = df[:num_samples]\n",
    "    model_class = model_map[model]\n",
    "    instructions = config.instructions\n",
    "    \n",
    "    summaries = {}\n",
    "    for idx, row in df.iterrows():\n",
    "        if idx %10 == 0:\n",
    "            print(idx)\n",
    "        article = row['article']\n",
    "        summary = row['reference_summary']\n",
    "        instruction = instructions[f'{dset}_{model}']\n",
    "        for instr_key, instr in instruction.items():\n",
    "            \n",
    "            summary = model_class.get_news_response(article, instr)\n",
    "            if instr_key not in summaries:\n",
    "                summaries[instr_key] = []\n",
    "            summaries[instr_key].append(summary)\n",
    "    for column_key, vals in summaries.items():\n",
    "        df[column_key] = vals \n",
    "    df['system_id'] = [model] * len(df)\n",
    "    return df"
   ]
  },
  {
   "cell_type": "code",
   "execution_count": 51,
   "id": "eb8c593e",
   "metadata": {},
   "outputs": [],
   "source": [
    "# from random import shuffle\n",
    "# model = 'flan_t5'\n",
    "# dset = 'news'\n",
    "# df_xsum = get_news_summaries('news', 'flan_t5', ['origin', 'xsum'])\n",
    "# df_cnndm = get_news_summaries('news', 'flan_t5', ['origin', 'cnndm'])\n",
    "# df_news = pd.concat([df_xsum, df_cnndm])\n",
    "# # shuffle(df_news)\n",
    "# df_news.to_csv(f'{parent_path}/datasets/{dset}/{model}_test_sample.csv')"
   ]
  },
  {
   "cell_type": "code",
   "execution_count": 30,
   "id": "0553b6e5",
   "metadata": {},
   "outputs": [],
   "source": [
    "df = pd.read_csv(f'{parent_path}/datasets/{dset}/test_sample.csv', encoding='utf-8')"
   ]
  },
  {
   "cell_type": "code",
   "execution_count": 31,
   "id": "611dbb9b",
   "metadata": {},
   "outputs": [
    {
     "data": {
      "text/plain": [
       "'With the advances in the field of glycosciences and an increasing number of structures elucidated and applied in all areas of the field, the need for reliable approaches to the synthesis of glycans has grown exponentially.1 Traditional glycan synthesis in solution involves iteration of glycosylation and deprotection steps with interim purification for practically every intermediate. Some advanced strategies based on either chemoselective or selective activation of building blocks help to streamline the oligosaccharide assembly significantly.2 However, no universal route to the chemical synthesis of glycans can be established, which dramatically hinders progress in glycosciences, whereas other biopolymers, peptides3,4 and oligonucleotides,5 can be produced by machines. Solid-phase synthesis eliminates the need for conventional reaction work-up and purification of intermediates,6\\\\xe2\\\\x80\\\\x938 and offers promising automation amenability. Since early efforts in 2001,9 Seeberger et al. developed a dedicated automated oligosaccharide synthesizer in 201210 that was later commercialized as Glyconeer 2.1.11Also in 2012, we reported High Performance Liquid Chromatography equipment-based Automation (HPLC-A) of solid-phase synthesis.12 The general idea for developing the HPLC-A is that a computer interface coupled with standard HPLC components will allow recording a successful automated sequence as a computer program that can then be reproduced with the \\\\xe2\\\\x80\\\\x9cpress of a button.\\\\xe2\\\\x80\\\\x9dHowever, solid-phase synthesis of glycans suffers from certain inherent weaknesses. \\\\xe2\\\\x80\\\\x9cThe chemistry and biology of carbohydrates has been a Cinderella field,\\\\xe2\\\\x80\\\\x9d13 and the area of solid-phase synthesis wherein everything has been \\\\xe2\\\\x80\\\\x9cborrowed\\\\xe2\\\\x80\\\\x9d from other fields illustrates this problem very clearly. For example, instead of developing dedicated supports, commercial resins designed specifically for peptide or nucleotide solid-phase synthesis14\\\\xe2\\\\x80\\\\x9316 are meticulously evaluated to determine their possible suitability for glycan synthesis, which often demands different characteristics.17 While HPLC-A and other automated approaches have a potential to revolutionize the way glycan synthesis is conducted, all current platforms suffer from inherent weakness of solid-phase synthesis as applied to glycans, among which is poor compatibility of existing commercial resins. Reported herein is the first step of our strategic goal to tackle all key weaknesses of the solid-phase synthesis, both automated and manual.All traditional resins are based on polystyrene, but differ in functionalization/crosslinking, albeit none were designed specifically with the solid-phase synthesis of glycans in mind.18 Seeberger automation platform relies on the Merrifield resin. Our original HPLC-A set-up was based on Tentagel, a polystyrene grafted with PEG chains.12 Later on, we identified JandaJel polystyrene resin crosslinked with tetrahydrofuran-derived chains as a more suitable support for HPLC-A19 due to its better swelling properties compared to the traditional Merrifield resin. Cross-linked polystyrenes are mechanically stable and can be obtained on a large scale from broadly available and inexpensive precursors. However, phenol-based cross-linking used in JandaJel (1, Fig. 1) may potentially have marginal stability under strongly (Lewis) acidic conditions, such as large amounts of trimethylsilyl trifluoromethanesulfonate (TMSOTf)20 commonly employed in the solid-phase synthesis of glycans.Although this degradation was not thought to significantly hinder general progress, we came to the realization that beads designed for peptides do not have the necessary properties suitable for glycan solid-phase synthesis. Researchers working with polymer-supported glycan synthesis often encounter limited swelling, marginal chemical stability, resin poisoning, reagent trapping, etc. To address this potential weakness, described herein is the investigation of benzyl alcohol-derived ethylene glycol chain cross-linking (2, Fig. 1) due to the anticipated greater stability of such structures under (strongly) acidic reaction conditions.21,22 This type of resin was first synthesized by Itsuno et al.,22 but its application in solid-phase synthesis is unknown. Interestingly, benzylic attachments have been considered by Janda and co-workers,23,24 but were deemed inferior due to their marginal stability toward strongly basic reagents, such as BuLi. To increase the swelling properties in polar protic solvents, we chose to replace the tetrahydrofuran chain used by Janda with diethylene glycol (DEG) derived structure 2 depicted in Fig. 1. Ethylene-glycol,25 its homologs, and other similar molecules24 have been previously investigated as crosslinkers, but the application of such resins in solid-phase synthesis is unknown.22Crosslinked monomer 2 was synthesized using paravinylbenzyl chloride 3 and diethylene glycol 4 in the presence of NaH in DMF, affording the desired compound in a good yield of 85% (Scheme 1). The cross-linked monomer 2 was then used in the synthesis of a 2% cross-linked polymer 6. For this purpose, a mixture of monomers 2, 3, and 5 in a respective ratio of 2/10/88 (w/w/w) was polymerized in the presence of benzoyl peroxide, sodium chloride, and Arabic gum in water at 85 \\\\xc2\\\\xb0C for 16 h following a procedure previously described by Janda.20 The desired polymer 6 was then purified using a Soxhlet extractor and i-PrOH. The chlorobenzyl group was further functionalized following Gabriel\\\\xe2\\\\x80\\\\x99s synthesis protocol, wherein the chloride was displaced with phthalimide in DMF at 55 \\\\xc2\\\\xb0C. The resulting phthaloyl group was then removed with hydrazine hydrate in a mixture of MeOH and chloroform. This two-step procedure produced PanzaGel 7 equipped with the primary amine functional groups (Scheme 1) with a nominal loading capacity of 1.0 mmol g\\\\xe2\\\\x88\\\\x921.Then, the swelling properties of the polymer were investigated. Swelling was measured following described procedures,26 using a syringe equipped with a sintered frit. The volume of dry resin was measured, then solvent was introduced in the syringe and the mixture was allowed to equilibrate for 1 h. After being vortexed, extra solvent was removed using another syringe. As listed in Table 1, polymer 7 has much better swelling properties when compared to the Merrifield resin, both in polar and non-polar solvents. In addition, polymer 7 showed similar swelling volumes to those reported for JandaJel.20 Notably, PanzaGel exhibits better swelling in MeOH than that of both Merrifield\\\\xe2\\\\x80\\\\x99s resin and JandaJel.A set of experiments was then conducted to determine physical properties of the resin. Thermal degradation properties of PanzaGel were assessed by thermogravimetric analysis (TGA). As shown in Fig. 2, the thermal decomposition of PanzaGel 7 was investigated at various temperatures. PanzaGel was found thermally stable up to 360 \\\\xc2\\\\xb0C, but about 97% weight loss occurs by 460 \\\\xc2\\\\xb0C. To assess the chemical stability of PanzaGel, the polymer was treated with trimethylsilyl trifluoromethanesulfonate, as this Lewis acid was found to degrade JandaJel.20 Upon treatment of 100 mg of resin with 100 \\\\xce\\\\xbcL of TMSOTf in 1.0 mL of methylene chloride for 1 h, which exceeds the typical conditions employed in chemical glycosylations using polymer supports, no decomposition was observed. The thermal decomposition temperature and the SEM images of the polymer showed no significant difference before and after the treatment with TMSOTf. PanzaGel treated with TMSOTf decomposed by about 85% upon heating to 600 \\\\xc2\\\\xb0C leaving behind a residue, indicating a chemical structure unaltered by the prolonged contact with the acid.The prepared polymer was also investigated by scanning electron microscopy. As shown in Fig. 3, polymer 7 was prepared in a shape of monospheres with an average size of 157.64 \\\\xce\\\\xbcm (average of 30 polymer beads). Nitrogen adsorption/desorption isotherm plots have been used to evaluate the pore volume (Vp) and the surface area (S) of the synthesized material. The total pore volume was calculated as 0.0033 mL g\\\\xe2\\\\x88\\\\x921. The BET surface area was found to be 0.84 m2 g\\\\xe2\\\\x88\\\\x921.To evaluate synthetic applications of the novel resin, we moved on to synthesize disaccharide 8 and pentasaccharide 9 (Fig. 4). Our labs have recently achieved a full automation of the synthesis of oligosaccharides using a two-way split valve.27 Differently from our previous experimental set up involving reagent delivery with a preparative autosampler,19,27,28 herein we investigated an HPLC system equipped with an analytical autosampler instead. This module is common on HPLC systems, which would allow to broaden the scope of HPLC-A.To accommodate this adjustment, a higher concentration of donor 11 (0.12 mmol, 7.2 equiv.) were dissolved in 2.7 mL of methylene chloride and the donor solution was split in two vials, containing 1.6 and 1.1 mL of solution, respectively. The autosampler was programmed to draw 500 \\\\xce\\\\xbcL (0.024 mmol) of donor 11 solution per injection. The autosampler was also programmed to draw 100 \\\\xce\\\\xbcL (0.025 mmol) of TMSOTf solution in methylene chloride per injection. Donor and promoter were mixed in the needle seat and injected towards the HPLC column, loaded with 50 mg of acceptor-bound resin 10 (0.0165 mmol). The activated donor is allowed to saturate the column for 1.0 min at a flow rate of 1.0 mL min\\\\xe2\\\\x88\\\\x921. After that, the flow rate was lowered to 0.05 mL min\\\\xe2\\\\x88\\\\x921 to maximize the time of exposure of the resin-bound glycosyl acceptor to the glycosyl donor. The flow rate was kept at the minimum level (0.05 mL min\\\\xe2\\\\x88\\\\x921) for 10 min, then increased back to 1.0 mL min\\\\xe2\\\\x88\\\\x921, using fresh CH2Cl2 to wash the column from the unreacted and hydrolyzed donor. This washing step is needed to prepare the resin for new injections of donor 11 and TMSOTf solutions. The same operation was repeated four additional times and the glycosylation sequence was completed by alternating washings with methylene chloride and DMF (see the ESI,\\\\xe2\\\\x80\\\\xa0 for details).This completes the synthetic sequence needed for the synthesis of disaccharide 8. For the synthesis of pentasaccharide 9, the temporary Fmoc protecting group was removed using a 40% solution of piperidine in DMF following the glycosylation step. Three injections of the piperidine solution were performed, and the reaction was followed using the variable wavelength detector set at 301 nm. The sequence was completed by washings alternating CH2Cl2 and DMF. Last, the polystyrene resin was reacidified through injecting 100 \\\\xce\\\\xbcL of the TMSOTf solution previously used for glycosylation. The two reactions were repeated as needed to afford the target glycan 9. As previously described, the two-way split valve diverts the flow to a collection flask. The compounds are then cleaved using a 1 M solution of sodium methoxide in MeOH/MeOH/CH2Cl2 (1.5/1/1, v/v). Through a series a post-automation steps the target glycans 8 and 9 were isolated in 80% and 30% yields, respectively. Noticeably, both syntheses were conducted at room temperature and without utilizing strictly anhydrous reaction conditions or inert atmosphere.In conclusion, PanzaGel, a new polystyrene-based resin for polymer supported glycan synthesis has been developed. The resin that was designed specifically for glycan synthesis in mind. PanzaGel incorporated best features of common polymeric supports for peptide synthesis: high stability of Merrifield resin and greater swelling JandaJel. PanzaGel has better swelling properties than used Merrifield resin and swells better in polar solvents than JandaJel. The glycan synthesis performed at the end of this study showcased how the improved polymeric support works in application to the HPLC-A. The target oligosaccharides were obtained using the HPLC-A experimental set-up containing the split valve, similar to that recently introduced by us.27 The current application makes use of a standard HPLC analytical autosampler. New programming/injection sequences were developed specifically for this modified set-up. A new solid support for oligosaccharide synthesis will increase the attractiveness of all synthetic and automated technologies, setting the ground for further improvements, which could include grafting to improve swelling in polar solvents. The synthesis of the new resin is fairly straightforward, and the length of the cross-linker and its composition can easily be varied to achieve best results in terms of swelling, mechanical and chemical stability, flow-through applicability, and loading capacity. PanzaGel can be synthesized in many shapes and dimensions: we are currently pursuing the synthesis and application of monolithic resins in a cylinder shape that are more suitable for the in-column, flow-through applications in HPLC-A.'"
      ]
     },
     "execution_count": 31,
     "metadata": {},
     "output_type": "execute_result"
    }
   ],
   "source": [
    "df['article'].values[0]"
   ]
  },
  {
   "cell_type": "code",
   "execution_count": 32,
   "id": "3f32b062",
   "metadata": {},
   "outputs": [
    {
     "name": "stdout",
     "output_type": "stream",
     "text": [
      "0\n"
     ]
    },
    {
     "data": {
      "text/html": [
       "<div>\n",
       "<style scoped>\n",
       "    .dataframe tbody tr th:only-of-type {\n",
       "        vertical-align: middle;\n",
       "    }\n",
       "\n",
       "    .dataframe tbody tr th {\n",
       "        vertical-align: top;\n",
       "    }\n",
       "\n",
       "    .dataframe thead th {\n",
       "        text-align: right;\n",
       "    }\n",
       "</style>\n",
       "<table border=\"1\" class=\"dataframe\">\n",
       "  <thead>\n",
       "    <tr style=\"text-align: right;\">\n",
       "      <th></th>\n",
       "      <th>Unnamed: 0</th>\n",
       "      <th>article</th>\n",
       "      <th>reference_summary</th>\n",
       "      <th>id</th>\n",
       "      <th>origin</th>\n",
       "      <th>Generic_summary</th>\n",
       "      <th>Faithful_summary</th>\n",
       "      <th>system_id</th>\n",
       "    </tr>\n",
       "  </thead>\n",
       "  <tbody>\n",
       "    <tr>\n",
       "      <th>0</th>\n",
       "      <td>0</td>\n",
       "      <td>congenital adrenal hyperplasia ( cah ) refers ...</td>\n",
       "      <td>congenital adrenal hyperplasia is a group of a...</td>\n",
       "      <td>f05ee546-a3c4-40fb-b604-9497cb165de8</td>\n",
       "      <td>pubmed</td>\n",
       "      <td>a retrospective study of 29 patients with cong...</td>\n",
       "      <td>a retrospective study of 29 patients with cong...</td>\n",
       "      <td>flant5</td>\n",
       "    </tr>\n",
       "    <tr>\n",
       "      <th>1</th>\n",
       "      <td>1</td>\n",
       "      <td>the family is the cornerstone of human social ...</td>\n",
       "      <td>background : since the family is a social syst...</td>\n",
       "      <td>7bca5d77-7541-4ff9-a46f-d446b72dd9cd</td>\n",
       "      <td>pubmed</td>\n",
       "      <td>the purpose of this study was to analyze the s...</td>\n",
       "      <td>the purpose of this study was to analyze the s...</td>\n",
       "      <td>flant5</td>\n",
       "    </tr>\n",
       "    <tr>\n",
       "      <th>2</th>\n",
       "      <td>2</td>\n",
       "      <td>development of human societies and industriali...</td>\n",
       "      <td>background and objective :   anxiety and depre...</td>\n",
       "      <td>0fc68a72-a6d3-4ec9-8f43-61124446a064</td>\n",
       "      <td>pubmed</td>\n",
       "      <td>iran is a country with a high prevalence of ca...</td>\n",
       "      <td>, the most important complication of heart sur...</td>\n",
       "      <td>flant5</td>\n",
       "    </tr>\n",
       "    <tr>\n",
       "      <th>3</th>\n",
       "      <td>3</td>\n",
       "      <td>male macroprolactinomas ( mprl ) are usually r...</td>\n",
       "      <td>background : suppurative meningitis ( sm ) or ...</td>\n",
       "      <td>86ed3313-6fde-46d4-b555-0afd6821f378</td>\n",
       "      <td>pubmed</td>\n",
       "      <td>suppurative meningitis is a rare complication ...</td>\n",
       "      <td>suppurative meningitis is a rare complication ...</td>\n",
       "      <td>flant5</td>\n",
       "    </tr>\n",
       "    <tr>\n",
       "      <th>4</th>\n",
       "      <td>4</td>\n",
       "      <td>the femoral head often leads to healing compli...</td>\n",
       "      <td>fracture of the femoral neck continues to be a...</td>\n",
       "      <td>861ad9de-1ed4-4dc2-94f3-b4ec29b8e99e</td>\n",
       "      <td>pubmed</td>\n",
       "      <td>femoral neck fractures are a common cause of n...</td>\n",
       "      <td>We report a case of non - union of the fractur...</td>\n",
       "      <td>flant5</td>\n",
       "    </tr>\n",
       "  </tbody>\n",
       "</table>\n",
       "</div>"
      ],
      "text/plain": [
       "   Unnamed: 0                                            article   \n",
       "0           0  congenital adrenal hyperplasia ( cah ) refers ...  \\\n",
       "1           1  the family is the cornerstone of human social ...   \n",
       "2           2  development of human societies and industriali...   \n",
       "3           3  male macroprolactinomas ( mprl ) are usually r...   \n",
       "4           4  the femoral head often leads to healing compli...   \n",
       "\n",
       "                                   reference_summary   \n",
       "0  congenital adrenal hyperplasia is a group of a...  \\\n",
       "1  background : since the family is a social syst...   \n",
       "2  background and objective :   anxiety and depre...   \n",
       "3  background : suppurative meningitis ( sm ) or ...   \n",
       "4  fracture of the femoral neck continues to be a...   \n",
       "\n",
       "                                     id  origin   \n",
       "0  f05ee546-a3c4-40fb-b604-9497cb165de8  pubmed  \\\n",
       "1  7bca5d77-7541-4ff9-a46f-d446b72dd9cd  pubmed   \n",
       "2  0fc68a72-a6d3-4ec9-8f43-61124446a064  pubmed   \n",
       "3  86ed3313-6fde-46d4-b555-0afd6821f378  pubmed   \n",
       "4  861ad9de-1ed4-4dc2-94f3-b4ec29b8e99e  pubmed   \n",
       "\n",
       "                                     Generic_summary   \n",
       "0  a retrospective study of 29 patients with cong...  \\\n",
       "1  the purpose of this study was to analyze the s...   \n",
       "2  iran is a country with a high prevalence of ca...   \n",
       "3  suppurative meningitis is a rare complication ...   \n",
       "4  femoral neck fractures are a common cause of n...   \n",
       "\n",
       "                                    Faithful_summary system_id  \n",
       "0  a retrospective study of 29 patients with cong...    flant5  \n",
       "1  the purpose of this study was to analyze the s...    flant5  \n",
       "2  , the most important complication of heart sur...    flant5  \n",
       "3  suppurative meningitis is a rare complication ...    flant5  \n",
       "4  We report a case of non - union of the fractur...    flant5  "
      ]
     },
     "execution_count": 32,
     "metadata": {},
     "output_type": "execute_result"
    }
   ],
   "source": [
    "model = 'flant5'\n",
    "dset = 'pubmed'\n",
    "df_dset = get_news_summaries(dset, model)\n",
    "df_dset"
   ]
  },
  {
   "cell_type": "code",
   "execution_count": 33,
   "id": "59b6feeb",
   "metadata": {},
   "outputs": [],
   "source": [
    "df_dset.to_csv(f'{parent_path}/datasets/{dset}/{model}_test_sample.csv')"
   ]
  },
  {
   "cell_type": "code",
   "execution_count": 28,
   "id": "89097961",
   "metadata": {},
   "outputs": [],
   "source": [
    "import math \n",
    "import string \n",
    "import re\n",
    "\n",
    "import json \n",
    "\n",
    "import pandas as pd \n",
    "import sqlite3\n",
    "\n",
    "\n",
    "\n",
    "create_table_generated_summaries_str =  '''CREATE TABLE generated_summaries (\n",
    "    uuid INTEGER PRIMARY KEY AUTOINCREMENT, \n",
    "    summary_uuid TEXT NOT NULL ,\n",
    "    summ_id TEXT NOT NULL, \n",
    "    system_id TEXT NOT NULL, \n",
    "    summary TEXT NOT NULL,\n",
    "    article TEXT\n",
    ");'''\n",
    "\n",
    "create_table_label_str = '''CREATE TABLE label (\n",
    "    uuid INTEGER PRIMARY KEY AUTOINCREMENT, \n",
    "    user_id TEXT NOT NULL,\n",
    "    summary_uuid TEXT NOT NULL,\n",
    "    summ_id TEXT NOT NULL, \n",
    "    system_id TEXT NOT NULL,\n",
    "    label_type TEXT NOT NULL,\n",
    "    summary TEXT NOT NULL,\n",
    "    nonfactual_sentences ENUM NOT NULL,\n",
    "    article TEXT\n",
    ");'''\n"
   ]
  },
  {
   "cell_type": "code",
   "execution_count": 38,
   "id": "9f582c5a",
   "metadata": {},
   "outputs": [],
   "source": [
    "\n",
    "def connect_to_db(db_path):\n",
    "    conn = sqlite3.connect(db_path)\n",
    "    c = conn.cursor()\n",
    "    return conn, c \n",
    "\n",
    "def create_table(create_str, db_path):\n",
    "    conn, c = connect_to_db(db_path)\n",
    "    c.execute('''%s'''%(create_str))\n",
    "    conn.commit()\n",
    "    conn.close()\n",
    "\n",
    "def add_data(filename, db_path):\n",
    "    df = pd.read_csv(filename)\n",
    "    conn, c = connect_to_db(db_path)\n",
    "    for idx, row in df.iterrows():\n",
    "        summ_uuid = row['id']\n",
    "        article = row['article']\n",
    "        generic_summary = row['Generic_summary']\n",
    "        faithful_summary = row['Faithful_summary']\n",
    "        system_id = row['system_id']\n",
    "        origin = row['origin']\n",
    "        \n",
    "        summary_uuid_generic = f'{summ_uuid}_{system_id}_gen'\n",
    "        summary_uuid_faith = f'{summ_uuid}_{system_id}_faith'\n",
    "        c.execute(\"\"\"INSERT INTO generated_summaries (summary_uuid, summ_id, system_id, summary, article) VALUES (?, ?, ?, ?, ?)\"\"\",\n",
    "                                                        (summary_uuid_generic, \n",
    "                                                        f'{origin}_generic',\n",
    "                                                        system_id,\n",
    "                                                        generic_summary,\n",
    "                                                        article))\n",
    "\n",
    "\n",
    "        c.execute(\"\"\"INSERT INTO generated_summaries (summary_uuid, summ_id, system_id, summary, article) VALUES (?, ?, ?, ?, ?)\"\"\",\n",
    "                                                        (summary_uuid_faith, \n",
    "                                                        f'{origin}_faithful',\n",
    "                                                        system_id,\n",
    "                                                        faithful_summary,\n",
    "                                                        article))\n",
    "\n",
    "    all_summaries = c.execute(\"\"\"SELECT * from generated_summaries\"\"\").fetchall()\n",
    "    print('Added %d generated summaries'%(len(all_summaries)))\n",
    "    conn.commit()\n",
    "    conn.close()\n",
    "    \n",
    "def create_tables(db_path, force_new = True):\n",
    "    create_cmds = {\n",
    "        'generated_summaries': create_table_generated_summaries_str,\n",
    "        'label': create_table_label_str\n",
    "    }\n",
    "    \n",
    "    for table_name, create_str in create_cmds.items():\n",
    "        table_results = c.execute(f\"SELECT name FROM sqlite_master WHERE type='table' AND name='{table_name}';\").fetchall()\n",
    "        print(table_results)\n",
    "        if table_results:\n",
    "            if force_new:\n",
    "                c.execute(f'DROP table {table_name};')\n",
    "            else:\n",
    "                continue\n",
    "#         else:\n",
    "        create_table(create_str, db_path)\n",
    "            \n",
    "    "
   ]
  },
  {
   "cell_type": "code",
   "execution_count": 39,
   "id": "b9ed8342",
   "metadata": {},
   "outputs": [],
   "source": [
    "db_path = '/home/ramprasad.sa/factual_annotation_llm_summaries/datasets/news/news_sample_summaries.db'"
   ]
  },
  {
   "cell_type": "code",
   "execution_count": 40,
   "id": "e555b5e3",
   "metadata": {},
   "outputs": [],
   "source": [
    "conn, c = connect_to_db(db_path)\n",
    "# table_name = 'generated_summaries'\n",
    "# c.execute(f\"SELECT name FROM sqlite_master WHERE type='table' AND name='{table_name}';\").fetchall()"
   ]
  },
  {
   "cell_type": "code",
   "execution_count": 44,
   "id": "07a3f18f",
   "metadata": {},
   "outputs": [
    {
     "name": "stdout",
     "output_type": "stream",
     "text": [
      "[('generated_summaries',)]\n",
      "[('label',)]\n"
     ]
    }
   ],
   "source": [
    "create_tables(db_path, force_new = False)"
   ]
  },
  {
   "cell_type": "code",
   "execution_count": 45,
   "id": "e1fea4de",
   "metadata": {},
   "outputs": [
    {
     "name": "stdout",
     "output_type": "stream",
     "text": [
      "Added 40 generated summaries\n"
     ]
    }
   ],
   "source": [
    "filename = '/home/ramprasad.sa/factual_annotation_llm_summaries/datasets/news/gpt3_test_sample.csv'\n",
    "add_data(filename, db_path)"
   ]
  },
  {
   "cell_type": "code",
   "execution_count": 46,
   "id": "ad3ae746",
   "metadata": {},
   "outputs": [
    {
     "data": {
      "text/plain": [
       "40"
      ]
     },
     "execution_count": 46,
     "metadata": {},
     "output_type": "execute_result"
    }
   ],
   "source": [
    " len(c.execute(\"\"\"SELECT * from generated_summaries\"\"\").fetchall())"
   ]
  },
  {
   "cell_type": "code",
   "execution_count": null,
   "id": "e0b30e1f",
   "metadata": {},
   "outputs": [],
   "source": []
  }
 ],
 "metadata": {
  "kernelspec": {
   "display_name": "llm",
   "language": "python",
   "name": "llm"
  },
  "language_info": {
   "codemirror_mode": {
    "name": "ipython",
    "version": 3
   },
   "file_extension": ".py",
   "mimetype": "text/x-python",
   "name": "python",
   "nbconvert_exporter": "python",
   "pygments_lexer": "ipython3",
   "version": "3.8.16"
  }
 },
 "nbformat": 4,
 "nbformat_minor": 5
}

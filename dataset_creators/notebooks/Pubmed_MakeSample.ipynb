{
 "cells": [
  {
   "cell_type": "code",
   "execution_count": 2,
   "id": "02abb778-2e8b-4291-80fc-8e97f9d0ab94",
   "metadata": {
    "tags": []
   },
   "outputs": [],
   "source": [
    "from transformers import T5Tokenizer, T5ForConditionalGeneration\n",
    "import tiktoken\n",
    "from datasets import load_dataset\n",
    "from tqdm import tqdm\n",
    "import dataset_creators.config as config\n",
    "import pandas as pd\n",
    "import os\n",
    "import uuid\n",
    "import tqdm"
   ]
  },
  {
   "cell_type": "code",
   "execution_count": 3,
   "id": "08a0c5ac-dea7-43f5-a156-06a889dd9057",
   "metadata": {
    "tags": []
   },
   "outputs": [
    {
     "name": "stderr",
     "output_type": "stream",
     "text": [
      "No config specified, defaulting to: pubmed-summarization/section\n",
      "Found cached dataset pubmed-summarization (/scratch/ramprasad.sa/huggingface_datasets/ccdv___pubmed-summarization/section/1.0.0/f765ec606c790e8c5694b226814a13f1974ba4ea98280989edaffb152ded5e2b)\n"
     ]
    }
   ],
   "source": [
    "dataset = load_dataset(\"ccdv/pubmed-summarization\", split=\"test\", cache_dir = '/scratch/ramprasad.sa/huggingface_datasets')\n",
    "    \n",
    "    \n",
    "    "
   ]
  },
  {
   "cell_type": "code",
   "execution_count": 5,
   "id": "374f1929-ef8b-4480-83cc-7647e1987a0e",
   "metadata": {
    "tags": []
   },
   "outputs": [
    {
     "data": {
      "text/plain": [
       "\"anxiety affects quality of life in those living with parkinson 's disease ( pd ) more so than overall cognitive status , motor deficits , apathy , and depression [ 13 ] . \\n although anxiety and depression are often related and coexist in pd patients , recent research suggests that anxiety rather than depression is the most prominent and prevalent mood disorder in pd [ 5 , 6 ] . yet , \\n our current understanding of anxiety and its impact on cognition in pd , as well as its neural basis and best treatment practices , remains meager and lags far behind that of depression . \\n overall , neuropsychiatric symptoms in pd have been shown to be negatively associated with cognitive performance . \\n for example , higher depression scores have been correlated with lower scores on the mini - mental state exam ( mmse ) [ 8 , 9 ] as well as tests of memory and executive functions ( e.g. , attention ) [ 1014 ] . \\n likewise , apathy and anhedonia in pd patients have been associated with executive dysfunction [ 10 , 1523 ] . \\n however , few studies have specifically investigated the relationship between anxiety and cognition in pd . \\n one study showed a strong negative relationship between anxiety ( both state and trait ) and overall cognitive performance ( measured by the total of the repeatable battery for the assessment of neuropsychological status index ) within a sample of 27 pd patients . \\n furthermore , trait anxiety was negatively associated with each of the cognitive domains assessed by the rbans ( i.e. , immediate memory , visuospatial construction , language , attention , and delayed memory ) . \\n two further studies have examined whether anxiety differentially affects cognition in patients with left - sided dominant pd ( lpd ) versus right - sided dominant pd ( rpd ) ; however , their findings were inconsistent . \\n the first study found that working memory performance was worse in lpd patients with anxiety compared to rpd patients with anxiety , whereas the second study reported that , in lpd , apathy but not anxiety was associated with performance on nonverbally mediated executive functions and visuospatial tasks ( e.g. , tmt - b , wms - iii spatial span ) , while in rpd , anxiety but not apathy significantly correlated with performance on verbally mediated tasks ( e.g. , clock reading test and boston naming test ) . \\n furthermore , anxiety was significantly correlated with neuropsychological measures of attention and executive and visuospatial functions . taken together , \\n it is evident that there are limited and inconsistent findings describing the relationship between anxiety and cognition in pd and more specifically how anxiety might influence particular domains of cognition such as attention and memory and executive functioning . \\n it is also striking that , to date , no study has examined the influence of anxiety on cognition in pd by directly comparing groups of pd patients with and without anxiety while excluding depression . \\n given that research on healthy young adults suggests that anxiety reduces processing capacity and impairs processing efficiency , especially in the central executive and attentional systems of working memory [ 26 , 27 ] , we hypothesized that pd patients with anxiety would show impairments in attentional set - shifting and working memory compared to pd patients without anxiety . \\n furthermore , since previous work , albeit limited , has focused on the influence of symptom laterality on anxiety and cognition , we also explored this relationship . \\n seventeen pd patients with anxiety and thirty - three pd patients without anxiety were included in this study ( see table 1 ) . \\n the cross - sectional data from these participants was taken from a patient database that has been compiled over the past 8 years ( since 2008 ) at the parkinson 's disease research clinic at the brain and mind centre , university of sydney . \\n inclusion criteria involved a diagnosis of idiopathic pd according to the united kingdom parkinson 's disease society brain bank criteria   and were confirmed by a neurologist ( sjgl ) . \\n patients also had to have an adequate proficiency in english and have completed a full neuropsychological assessment . \\n ten patients in this study ( 5 pd with anxiety ; 5 pd without anxiety ) were taking psychotropic drugs ( i.e. , benzodiazepine or selective serotonin reuptake inhibitor ) . \\n patients were also excluded if they had other neurological disorders , psychiatric disorders other than affective disorders ( such as anxiety ) , or if they reported a score greater than six on the depression subscale of the hospital anxiety and depression scale ( hads ) . \\n thus , all participants who scored within a  depressed  ( hads - d > 6 ) range were excluded from this study , in attempt to examine a refined sample of pd patients with and without anxiety in order to determine the independent effect of anxiety on cognition . \\n this research was approved by the human research ethics committee of the university of sydney , and written informed consent was obtained from all participants . \\n self - reported hads was used to assess anxiety in pd and has been previously shown to be a useful measure of clinical anxiety in pd . \\n a cut - off score of > 8 on the anxiety subscale of the hads ( hads - a ) was used to identify pd cases with anxiety ( pda+ ) , while a cut - off score of < 6 on the hads - a was used to identify pd cases without anxiety ( pda ) . \\n this criterion was more stringent than usual ( > 7 cut - off score ) , in effort to create distinct patient groups . \\n the neurological evaluation rated participants according to hoehn and yahr ( h&y ) stages   and assessed their motor symptoms using part iii of the revised mds task force unified parkinson 's disease rating scale ( updrs ) . in a similar way \\n this was determined by calculating a total left and right score from rigidity items 3035 , voluntary movement items 3643 , and tremor items 5057 from the mds - updrs part iii ( see table 1 ) . \\n processing speed was assessed using the trail making test , part a ( tmt - a , z - score ) . \\n attentional set - shifting was measured using the trail making test , part b ( tmt - b , z - score ) . \\n working memory was assessed using the digit span forward and backward subtest of the wechsler memory scale - iii ( raw scores ) . \\n language was assessed with semantic and phonemic verbal fluency via the controlled oral word associated test ( cowat animals and letters , z - score ) . \\n the ability to retain learned verbal memory was assessed using the logical memory subtest from the wechsler memory scale - iii ( lm - i z - score , lm - ii z - score , % lm retention z - score ) . the mini - mental state examination ( mmse ) \\n demographic , clinical , and neuropsychological variables were compared between the two groups with the independent t - test or mann  whitney u test , depending on whether the variable met parametric assumptions . \\n chi - square tests were used to examine gender and symptom laterality differences between groups . \\n all analyses employed an alpha level of p < 0.05 and were two - tailed . \\n spearman correlations were performed separately in each group to examine associations between anxiety and/or depression ratings and cognitive functions . \\n as expected , the pda+ group reported significant greater levels of anxiety on the hads - a ( u = 0 , p < 0.001 ) and higher total score on the hads ( u = 1 , p < 0.001 ) compared to the pda group ( table 1 ) . \\n groups were matched in age ( t(48 ) = 1.31 , p = 0.20 ) , disease duration ( u = 259 , p = 0.66 ) , updrs - iii score ( u = 250.5 , p = 0.65 ) , h&y ( u = 245 , p = 0.43 ) , ledd ( u = 159.5 , p = 0.80 ) , and depression ( hads - d ) ( u = 190.5 , p = 0.06 ) . \\n additionally , all groups were matched in the distribution of gender (  = 0.098 , p = 0.75 ) and side - affected (  = 0.765 , p = 0.38 ) . \\n there were no group differences for tmt - a performance ( u = 256 , p = 0.62 ) ( table 2 ) ; however , the pda+ group had worse performance on the trail making test part b ( t(46 ) = 2.03 , p = 0.048 ) compared to the pda group ( figure 1 ) . \\n the pda+ group also demonstrated significantly worse performance on the digit span forward subtest ( t(48 ) = 2.22 , p = 0.031 ) and backward subtest ( u = 190.5 , p = 0.016 ) compared to the pda group ( figures 2(a ) and 2(b ) ) . \\n neither semantic verbal fluency ( t(47 ) = 0.70 , p = 0.49 ) nor phonemic verbal fluency ( t(47 ) = 0.39 , p = 0.70 ) differed between groups . \\n logical memory i immediate recall test ( u = 176 , p = 0.059 ) showed a trend that the pda+ group had worse new verbal learning and immediate recall abilities than the pda group . however , logical memory ii test performance ( u = 219 , p = 0.204 ) and logical memory % retention ( u = 242.5 , p = 0.434 ) did not differ between groups . \\n there were also no differences between groups in global cognition ( mmse ) ( u = 222.5 , p = 0.23 ) . \\n participants were split into lpd and rpd , and then further group differences were examined between pda+ and pda. importantly , the groups remained matched in age , disease duration , updrs - iii , dde , h&y stage , and depression but remained significantly different on self - reported anxiety . \\n lpda+ demonstrated worse performance on the digit span forward test ( t(19 ) = 2.29 , p = 0.033 ) compared to lpda , whereas rpda+ demonstrated worse performance on the digit span backward test ( u = 36.5 , p = 0.006 ) , lm - i immediate recall ( u = 37.5 , p = 0.008 ) , and lm - ii ( u = 45.0 , p = 0.021 ) but not lm % retention ( u = 75.5 , p = 0.39 ) compared to rpda. \\n this study is the first to directly compare cognition between pd patients with and without anxiety . \\n the findings confirmed our hypothesis that anxiety negatively influences attentional set - shifting and working memory in pd . \\n more specifically , we found that pd patients with anxiety were more impaired on the trail making test part b which assessed attentional set - shifting , on both digit span tests which assessed working memory and attention , and to a lesser extent on the logical memory test which assessed memory and new verbal learning compared to pd patients without anxiety . taken together , \\n these findings suggest that anxiety in pd may reduce processing capacity and impair processing efficiency , especially in the central executive and attentional systems of working memory in a similar way as seen in young healthy adults [ 26 , 27 ] . \\n although the neurobiology of anxiety in pd remains unknown , many researchers have postulated that anxiety disorders are related to neurochemical changes that occur during the early , premotor stages of pd - related degeneration [ 37 , 38 ] such as nigrostriatal dopamine depletion , as well as cell loss within serotonergic and noradrenergic brainstem nuclei ( i.e. , raphe nuclei and locus coeruleus , resp . , which provide massive inputs to corticolimbic regions ) . over time \\n , chronic dysregulation of adrenocortical and catecholamine functions can lead to hippocampal damage as well as dysfunctional prefrontal neural circuitries [ 39 , 40 ] , which play a key role in memory and attention . \\n recent functional neuroimaging work has suggested that enhanced hippocampal activation during executive functioning and working memory tasks may represent compensatory processes for impaired frontostriatal functions in pd patients compared to controls . therefore , chronic stress from anxiety , \\n for example , may disrupt compensatory processes in pd patients and explain the cognitive impairments specifically in working memory and attention seen in pd patients with anxiety . \\n it has also been suggested that hyperactivation within the putamen may reflect a compensatory striatal mechanism to maintain normal working memory performance in pd patients ; however , losing this compensatory activation has been shown to contribute to poor working memory performance . \\n anxiety in mild pd has been linked to reduced putamen dopamine uptake which becomes more extensive as the disease progresses . \\n this further supports the notion that anxiety may disrupt compensatory striatal mechanisms as well , providing another possible explanation for the cognitive impairments observed in pd patients with anxiety in this study . \\n noradrenergic and serotonergic systems should also be considered when trying to explain the mechanisms by which anxiety may influence cognition in pd . although these neurotransmitter systems are relatively understudied in pd cognition , treating the noradrenergic and serotonergic systems has shown beneficial effects on cognition in pd . \\n selective serotonin reuptake inhibitor , citalopram , was shown to improve response inhibition deficits in pd , while noradrenaline reuptake blocker , atomoxetine , has been recently reported to have promising effects on cognition in pd [ 45 , 46 ] . \\n overall , very few neuroimaging studies have been conducted in pd in order to understand the neural correlates of pd anxiety and its underlying neural pathology . \\n future research should focus on relating anatomical changes and neurochemical changes to neural activation in order to gain a clearer understanding on how these pathologies affect anxiety in pd . to further understand how anxiety and cognitive dysfunction are related , \\n future research should focus on using advanced structural and function imaging techniques to explain both cognitive and neural breakdowns that are associated with anxiety in pd patients . \\n research has indicated that those with amnestic mild cognitive impairment who have more neuropsychiatric symptoms have a greater risk of developing dementia compared to those with fewer neuropsychiatric symptoms . \\n future studies should also examine whether treating neuropsychiatric symptoms might impact the progression of cognitive decline and improve cognitive impairments in pd patients . \\n previous studies have used pd symptom laterality as a window to infer asymmetrical dysfunction of neural circuits . \\n for example , lpd patients have greater inferred right hemisphere pathology , whereas rpd patients have greater inferred left hemisphere pathology . \\n thus , cognitive domains predominantly subserved by the left hemisphere ( e.g. , verbally mediated tasks of executive function and verbal memory ) might be hypothesized to be more affected in rpd than lpd ; however , this remains controversial . \\n it has also been suggested that since anxiety is a common feature of left hemisphere involvement [ 48 , 49 ] , cognitive domains subserved by the left hemisphere may also be more strongly related to anxiety . \\n results from this study showed selective verbal memory deficits in rpd patients with anxiety compared to rpd without anxiety , whereas lpd patients with anxiety had greater attentional / working memory deficits compared to lpd without anxiety . \\n although these results align with previous research , interpretations of these findings should be made with caution due to the small sample size in the lpd comparison specifically . \\n recent work has suggested that the hads questionnaire may underestimate the burden of anxiety related symptomology and therefore be a less sensitive measure of anxiety in pd [ 30 , 50 ] . in addition , our small sample size also limited the statistical power for detecting significant findings . \\n based on these limitations , our findings are likely conservative and underrepresent the true impact anxiety has on cognition in pd . additionally , the current study employed a very brief neuropsychological assessment including one or two tests for each cognitive domain . \\n future studies are encouraged to collect a more complex and comprehensive battery from a larger sample of pd participants in order to better understand the role anxiety plays on cognition in pd . \\n another limitation of this study was the absence of diagnostic interviews to characterize participants ' psychiatric symptoms and specify the type of anxiety disorders included in this study . \\n future studies should perform diagnostic interviews with participants ( e.g. , using dsm - v criteria ) rather than relying on self - reported measures to group participants , in order to better understand whether the type of anxiety disorder ( e.g. , social anxiety , phobias , panic disorders , and generalized anxiety ) influences cognitive performance differently in pd . \\n one advantage the hads questionnaire provided over other anxiety scales was that it assessed both anxiety and depression simultaneously and allowed us to control for coexisting depression . \\n although there was a trend that the pda+ group self - reported higher levels of depression than the pda group , all participants included in the study scored < 6 on the depression subscale of the hads . \\n controlling for depression while assessing anxiety has been identified as a key shortcoming in the majority of recent work . \\n considering many previous studies have investigated the influence of depression on cognition in pd without accounting for the presence of anxiety and the inconsistent findings reported to date , we recommend that future research should try to disentangle the influence of anxiety versus depression on cognitive impairments in pd . considering the growing number of clinical trials for treating depression , there are few if any for the treatment of anxiety in pd . \\n anxiety is a key contributor to decreased quality of life in pd and greatly requires better treatment options . \\n moreover , anxiety has been suggested to play a key role in freezing of gait ( fog ) , which is also related to attentional set - shifting [ 52 , 53 ] . \\n future research should examine the link between anxiety , set - shifting , and fog , in order to determine whether treating anxiety might be a potential therapy for improving fog .\""
      ]
     },
     "execution_count": 5,
     "metadata": {},
     "output_type": "execute_result"
    }
   ],
   "source": []
  },
  {
   "cell_type": "code",
   "execution_count": 26,
   "id": "93be2436",
   "metadata": {
    "tags": []
   },
   "outputs": [
    {
     "data": {
      "application/vnd.jupyter.widget-view+json": {
       "model_id": "2688685f998c4477b382df9237e066ef",
       "version_major": 2,
       "version_minor": 0
      },
      "text/plain": [
       "Downloading readme:   0%|          | 0.00/1.08k [00:00<?, ?B/s]"
      ]
     },
     "metadata": {},
     "output_type": "display_data"
    },
    {
     "name": "stdout",
     "output_type": "stream",
     "text": [
      "Downloading and preparing dataset None/None (download: 861.23 MiB, generated: 1.75 GiB, post-processed: Unknown size, total: 2.59 GiB) to /scratch/ramprasad.sa/huggingface_datasets/Blaise-g___parquet/Blaise-g--SumPubmed-24235d54ca935614/0.0.0/2a3b91fbd88a2c90d1dbbb32b460cf621d31bd5b05b934492fdef7d8d6f236ec...\n"
     ]
    },
    {
     "data": {
      "application/vnd.jupyter.widget-view+json": {
       "model_id": "205ff0f8bbb14217a13b6accbabd8a1d",
       "version_major": 2,
       "version_minor": 0
      },
      "text/plain": [
       "Downloading data files:   0%|          | 0/3 [00:00<?, ?it/s]"
      ]
     },
     "metadata": {},
     "output_type": "display_data"
    },
    {
     "data": {
      "application/vnd.jupyter.widget-view+json": {
       "model_id": "00e22763727046ef8d9ebfd1cc24665b",
       "version_major": 2,
       "version_minor": 0
      },
      "text/plain": [
       "Downloading data:   0%|          | 0.00/181M [00:00<?, ?B/s]"
      ]
     },
     "metadata": {},
     "output_type": "display_data"
    },
    {
     "data": {
      "application/vnd.jupyter.widget-view+json": {
       "model_id": "5c92a849ac094dc5be9fb5c57c1ab1a5",
       "version_major": 2,
       "version_minor": 0
      },
      "text/plain": [
       "Downloading data:   0%|          | 0.00/180M [00:00<?, ?B/s]"
      ]
     },
     "metadata": {},
     "output_type": "display_data"
    },
    {
     "data": {
      "application/vnd.jupyter.widget-view+json": {
       "model_id": "90f80e473615479fa2856d7772dc9a54",
       "version_major": 2,
       "version_minor": 0
      },
      "text/plain": [
       "Downloading data:   0%|          | 0.00/181M [00:00<?, ?B/s]"
      ]
     },
     "metadata": {},
     "output_type": "display_data"
    },
    {
     "data": {
      "application/vnd.jupyter.widget-view+json": {
       "model_id": "6439d13e74544203b2a32e44ab936bf8",
       "version_major": 2,
       "version_minor": 0
      },
      "text/plain": [
       "Downloading data:   0%|          | 0.00/181M [00:00<?, ?B/s]"
      ]
     },
     "metadata": {},
     "output_type": "display_data"
    },
    {
     "data": {
      "application/vnd.jupyter.widget-view+json": {
       "model_id": "e11b9219b8464cebb73c43b7e93a4bcd",
       "version_major": 2,
       "version_minor": 0
      },
      "text/plain": [
       "Downloading data:   0%|          | 0.00/90.0M [00:00<?, ?B/s]"
      ]
     },
     "metadata": {},
     "output_type": "display_data"
    },
    {
     "data": {
      "application/vnd.jupyter.widget-view+json": {
       "model_id": "8ea8372f2fcb48d8931eed592e24f7f3",
       "version_major": 2,
       "version_minor": 0
      },
      "text/plain": [
       "Downloading data:   0%|          | 0.00/90.3M [00:00<?, ?B/s]"
      ]
     },
     "metadata": {},
     "output_type": "display_data"
    },
    {
     "data": {
      "application/vnd.jupyter.widget-view+json": {
       "model_id": "15ef10b9d6b74518916cecf996302593",
       "version_major": 2,
       "version_minor": 0
      },
      "text/plain": [
       "Extracting data files:   0%|          | 0/3 [00:00<?, ?it/s]"
      ]
     },
     "metadata": {},
     "output_type": "display_data"
    },
    {
     "data": {
      "application/vnd.jupyter.widget-view+json": {
       "model_id": "",
       "version_major": 2,
       "version_minor": 0
      },
      "text/plain": [
       "Generating train split:   0%|          | 0/26147 [00:00<?, ? examples/s]"
      ]
     },
     "metadata": {},
     "output_type": "display_data"
    },
    {
     "data": {
      "application/vnd.jupyter.widget-view+json": {
       "model_id": "",
       "version_major": 2,
       "version_minor": 0
      },
      "text/plain": [
       "Generating test split:   0%|          | 0/3269 [00:00<?, ? examples/s]"
      ]
     },
     "metadata": {},
     "output_type": "display_data"
    },
    {
     "data": {
      "application/vnd.jupyter.widget-view+json": {
       "model_id": "",
       "version_major": 2,
       "version_minor": 0
      },
      "text/plain": [
       "Generating dev split:   0%|          | 0/3268 [00:00<?, ? examples/s]"
      ]
     },
     "metadata": {},
     "output_type": "display_data"
    },
    {
     "name": "stdout",
     "output_type": "stream",
     "text": [
      "Dataset parquet downloaded and prepared to /scratch/ramprasad.sa/huggingface_datasets/Blaise-g___parquet/Blaise-g--SumPubmed-24235d54ca935614/0.0.0/2a3b91fbd88a2c90d1dbbb32b460cf621d31bd5b05b934492fdef7d8d6f236ec. Subsequent calls will reuse this data.\n"
     ]
    }
   ],
   "source": [
    "from datasets import load_dataset\n",
    "\n",
    "dataset = load_dataset(\"Blaise-g/SumPubmed\", split = \"test\", cache_dir = '/scratch/ramprasad.sa/huggingface_datasets')\n",
    "\n",
    "# dataset = load_dataset(\"ccdv/pubmed-summarization\", split=\"test\", cache_dir = '/scratch/ramprasad.sa/huggingface_datasets')"
   ]
  },
  {
   "cell_type": "code",
   "execution_count": 27,
   "id": "84a16d7b-549f-4b8e-aac6-9b7e9ea8d446",
   "metadata": {
    "tags": []
   },
   "outputs": [
    {
     "data": {
      "text/plain": [
       "Dataset({\n",
       "    features: ['line_text', 'filename_text', 'text', 'shorter_abstract', 'abstract'],\n",
       "    num_rows: 3269\n",
       "})"
      ]
     },
     "execution_count": 27,
     "metadata": {},
     "output_type": "execute_result"
    }
   ],
   "source": [
    "dataset"
   ]
  },
  {
   "cell_type": "code",
   "execution_count": 29,
   "id": "b22a7622-08f6-44d8-a614-3409cd344d55",
   "metadata": {
    "tags": []
   },
   "outputs": [
    {
     "name": "stdout",
     "output_type": "stream",
     "text": [
      " evolutionary molecular biology is mostly concerned with the forces affecting individual genes. however, observations of variable proportions of guanine and cytosine in different species and in different genomic regions of vertebrates have prompted the analysis of forces that may affect the evolution of complete genomes. one particular hypothesis concerns adaptation to high temperatures, proposing that high gc content results from selection favouring g:c pairs over less stable a:t pairs. against initial expectations, there seems to be no direct relationship between the gc content of prokaryotic protein-coding genes and optimal growth temperature. similarly, in the case of vertebrates, it was argued convincingly that the'isochore' structure of high- and low-gc regions is not due to selection, but reflects varying fixation biases of gc over at pairs in the presence of recombination. a clear picture of selection at work emerges only in the study of structured rnas. the ribosomal rnas and transfer rnas of prokaryotes living at high temperatures contain a much larger gc-fraction in their stem regions compared to homologs from prokaryotes living at more moderate temperatures, likely because g-c pairs are more stable to thermal fluctuations than a-u pairs. a similar effect is seen in vertebrates: the ribosomal rna of endothermic animals has a higher gc-content compared to that of ectothermic vertebrates. thus, rnas that require a specific three-dimensional structure to perform their function appear to be under selection for increased thermostability in cellular environments with elevated temperatures, consistent with the thermal adaptation hypothesis. however, a higher gc-content in structural rnas of thermophiles and hyperthermophiles may also have arisen through reasons unrelated to environmental temperatures, e.g., random genetic drift or mutational biases. closely related species often have similar nucleotide composition and similar habitats simply due to their descent from a common ancestor; a statistically significant relationship between gc content and temperature across species might thus reflect nothing more than a close phylogenetic relationship of these species. this is not the case: even after controlling for phylogenetic relationships, the gc content of structural rna remains strongly correlated with optimal growth temperature. thus, genomic effects of thermal adaptation appear to exist at the structural but not the sequence level. just like structural rnas, proteins need to retain their three-dimensional structure in the presence of thermal fluctuations. it hence appears likely that the proteins of thermophilic organisms show corresponding signs of thermal adaptation. several studies indeed report a correlation between amino acid usage and optimal growth temperature of bacteria; however, these studies are based on amino acid usage patterns and not directly on protein thermostability. two further analyses are based directly on large datasets of compositional comparisons that took protein structure into account. in a careful study of biophysical properties of a subset of proteins, glyakina et al. confirmed that those amino acids that lead to stronger electrostatic interactions in protein surfaces are enriched among thermophiles, while certain amino acids that tend to de-stabilise proteins are depleted. in another large scale study of the surfaces of hyperthermophilic proteins, claverie et al. found solvent accessible charged residues to be strongly overrepresented, concluding that the resulting measure of cvp-bias was \"the sole criterion that is able to clearly discriminate hyperthermophilic from mesothermophilic microorganisms on a global genomic basis\". the measures of amino acid composition derived in the two studies are strongly correlated, as they aim to measure the same phenomenon; they differ only in the treatment of three amino acids. thus, amino acid sequence composition is correlated with temperature. however, just as for the gc content of structural rnas, these correlations could simple be due to the close phylogenetic relationships of some thermophiles and hyperthermophiles. using the comparative phylogenetic method, we show here that patterns of amino acid usage between thermophiles, hyperthermophiles and mesophiles are indeed strongly affected by phylogenetic relationships. consequently, previous results from direct sequence comparisons are partly misleading. reassuringly, the two measures of amino acid bias that are derived from studies taking into account the known structure of protein subsets are strongly correlated with optimal growth temperature when extended to complete prokaryotic proteomes, even after controlling for phylogenetic non-independence. can similar effects of thermal adaptation be seen in higher eukaryotes? the proteins of mammals and birds, which are endothermic species, operate at a species-dependent constant temperature of 35-42° celsius. this temperature is significantly higher than the average temperature in fish or reptiles, which are ectothermic species. thus, the same trends observed in prokaryotes may also operate on vertebrate proteins: we hypothesize that compared to ectothermic vertebrates, endothermic animals have proteins with an amino acid composition biased in the same direction as in thermophilic prokaryotes. physiological constraints on multi-cellular animals mean that they cannot live at the temperatures in which prokaryotic thermophiles thrive, and thus we expect their amino acid compositions to be less biased. however, the relationship between amino acid composition and thermal stability is approximately linear between 7°c and 103°c. thus, if thermal adaptation indeed occurred in endothermic animals, it appears likely that the same amino acids as in thermophilic prokaryotes are involved, even if the relevant temperature differences in eukaryotes are substantially smaller than in prokaryotes. here, we test this prediction using data from fully sequenced endothermic and fully sequenced ectothermic vertebrates. we first demonstrate that the erk measure of biased amino acid composition shows a strong correlation with optimal growth temperature when applied to genome-scale prokaryotic data, even after controlling for phylogenetic relatedness. we then proceed to show that the same measures indicate a weak but statistically significant adaptation of protein thermostability to elevated body temperature also in endothermic vertebrates.  genome-wide bias in amino acid composition of thermophilic prokaryotes based on careful structural alignments of proteins, glyakina et al. showed that among the external residues of proteins from thermophilic prokaryotes, three amino acids are enriched, while seven amino acids are depleted compared to mesophilic prokaryotes. this effect is quantified by the combined proportion erk = e + r + k - d - n - q - t - s - h - a. erk is elevated for the exterior regions of proteins from thermophiles compared to mesophiles. it has not yet been tested if this measure, which was developed from an analysis of external residues, is correlated with the optimal growth temperature of individual species when applied to the full amino acid sequences of complete proteomes. applying it to complete amino acid sequences dilutes the signal from the surfaces, but is not expected to lead to any systematic biases. to test this, we used a large set of whole genome sequence data and optimal growth temperature that was previously compiled by zeldovich et al.. this data set contains species, of which are hyperthermophiles, are thermophiles, and are mesophiles. in agreement with earlier observations on the surface regions of a subset of genes, we find a strong correlation between the mean erk of complete proteomes and optimal growth temperature. analogous results are obtained using cvp-bias, a very similar alternative measure of temperature-related amino acid usage. as evident from figure this correlation can mostly be attributed to strong differences between hyperthermophiles, thermophiles, and mesophiles. however, despite large variation in amino acid composition among mesophiles, we do still see a significant correlation of erk with optimal growth temperature among prokaryotes living at moderate temperatures. this is in agreement with a detailed study on the properties of six proteins from microorganism living at temperatures ranging from 7°c to 103°c, which found that compositional features related to thermo-adaptation increase almost linearly with temperature. amino acid usage patterns are strongly affected by phylogeny an appreciable number of species in each of the hyperthermophile, thermophile, and mesophile categories are very closely related to each other. the corresponding data points in figure are thus not statistically independent, and simple correlation statistics as reported above may be misleading. we thus employed the comparative phylogenetic method, which calculates statistically independent contrasts; this eliminates correlations due to common descent. controlling for phylogenetic relatedness indeed leads to very different patterns of amino acid enrichment/depletion compared to simple correlations. in particular, the amino acids a, e, h, i, k, w, and y, which show significant positive or negative correlations with temperature in a naïve analysis, do not show any significant correlations after controlling for phylogenetic non-independence. in contrast, c, m, n, p, and s, which do not show significant correlations with temperature in the naïve analysis, show significant correlations after including phylogeny into the statistical model. in the naïve analysis, there are amino acids which are correlated negatively with growth temperature, while amino acids are correlated positively with growth temperature. after controlling for phylogenetic non-independence, amino acids are correlated negatively with growth temperature, while only amino acids are enriched at high temperatures. thus, the temperature-related patterns seen for individual amino acids depend strongly on evolutionary history. however, we found that erk and cvp- bias, which were both derived including consideration of the protein structure, are still strongly correlated with temperature even after controlling for phylogeny. these results further underline the importance of structural rather than sequence properties in thermal adaptation. organisms living at different ambient temperatures may have different protein repertoires, and thus comparisons of complete genomes are potentially misleading. to circumvent this problem, we performed a complementary analysis restricted to groups of orthologous proteins. we collected amino acid sequence data from species each of hyperthermophiles, thermophiles, and mesophiles. using reciprocal best blast hits, we retained only proteins in each group that had orthologs in at least one of the other groups. comparing the remaining proteins among groups, it is again clear that erkhyperthermophiles >erkthermophiles >erkmesophiles. thus, we confirmed that erk, even when applied to complete amino acid sequences on a genomic scale, is a useful predictor of temperature adaptation in prokaryotes. in the remainder of this paper, we use erk to test for a corresponding effect in vertebrates. we repeated all analyses using the cvp-bias, in each case obtaining qualitatively very similar results; however, as erk and cvp-bias differ only in the treatment of three amino acids, these two measures are not statistically independent. endothermic vertebrates have biased amino acid usage just as in prokaryotes, the body temperatures of fish, amphibians, and reptiles are closely linked to ambient temperatures. consequently, the proteins of these ectothermic or'cold-blooded' vertebrates usually operate below 30° celsius. in contrast, endothermic or'warm-blooded' vertebrates have a thermoregulation system which keeps their body temperatures at a species-specific constant 35-42° celsius. does this relatively small difference in temperature between endothermic and ectothermic vertebrates result in a discernible selection pressure for increased thermal stability of proteins? if so, we expect to see compositional biases in the same direction as in prokaryotes, as the rules connecting amino acid usage and thermostability appear to apply across the complete temperature range encountered by life. p-values are for comparison of endothermic to ectothermic vertebrates, treating each genomic average as a single data point. the two last columns list the proportion of at-rich amino acids and gc-rich amino acids. to test this hypothesis of vertebrate thermo-adaptation, we obtained a total of protein sequences from sequenced species. this included four mammals: human, rat, mouse, and cow; one bird; one reptile, two amphibia, and three fish. analysing the combined amino acid composition of the complete proteomes, we indeed find a small but statistically highly significant shift in erk of endothermic compared to ectothermic vertebrates. as shown in figure there is a strong correlation between the compositional bias of amino acids and the temperature at which the proteins of the species typically act. consistent with our hypothesis, this correlation is mostly due to a systematic difference between ectothermic and endothermic vertebrates. again, we confirmed this result by restricting the analysis to orthologous proteins. among the ectothermic species considered, anolis carolinensis is the closest relative to the endothermic animals and was thus chosen as the reference genome. we identified orthologous proteins in each of the other genomes as reciprocal best blast hits against anolis carolinensis. in pair-wise comparisons, all five endothermic species show a significantly higher average erk compared to orthologous proteins in anolis carolinensis, while this is not the case for any of our amphibia or fish. however, individual proteins in a single species are not truly independent data points, as species-specific compositional biases unrelated to temperature may exist. we thus performed an additional analysis, which treated the average erk across orthologs as a single data point for each of our species. erk is significantly higher for the mammal/bird group compared to the ectothermic group. just as in the prokaryotic analysis, treating closely related species as independent data points could be misleading: similar compositional biases might be due to common descent rather than common physiology. we thus repeated the genome-wide analysis of amino acid bias using the comparative phylogenetic method of independent contrasts. despite the small sample size, we still find a statistically significant correlation between amino acid bias and temperature after controlling for phylogenetic relatedness. chicken have elevated erk compared to reptiles of all ectothermic animal classes, reptiles - which are paraphyletic due to the exclusion of birds - are the closest living relatives to endothermic vertebrates. thus, we wanted to confirm that the elevated erk values are indeed restricted to endothermic animals, by comparing the chicken genome to several hundred recently published protein segments of three further reptilia. based on best blast hits of the segments against the chicken genome, we constructed protein segment alignments between alligator mississippiensis and chicken, segment alignments between chrysemys picta and chicken, and segment alignments between anolis smaragdinus and chicken. erk in chicken protein segments is significantly higher than in each of the three reptilia species. elevated erk is not due to biased gc content the strongest known predictor of amino acid composition at the genomic scale is the gc content of the coding dna sequences. thus, it is conceivable that the biased amino acid composition in endothermic vertebrates is due to gc content variation between the genomes of endothermic and ectothermic vertebrates. however, for the co-orthologs studied here, there are no differences in the usage of at-rich or of gc-rich codons between endothermic and ectothermic genomes. to further exclude gc content as a confounding factor, we investigated aligned orthologous coding sequences of human and danio rerio in more detail. as expected, the human genes encoded proteins with significantly higher erk values than their danio orthologs. if these differences in erk could be fully explained by variation in gc content, we would not expect to see different erk values if we restrict our analysis to those aligned codons that have the same gc content in human and danio. contrary to this expectation, we still see higher erk in the human sequences on these gc-neutral codons. thus, the differences in amino acid composition cannot be simply explained by differences in gc content. elevated erk is not due to purine loading secondary structures of rna sequences are built by the formation of hydrogen bonds between purines and their complementary pyrimidines. purine loading, i.e., the over-representation of purines in coding sequences, thus reduces the potential for self-interactions of the mrna. as self-interactions can interfere with translation, purine loading may be a selected molecular trait. purine loading is found in almost all prokaryotes, and is positively correlated with optimal growth temperature. as biased nucleotide composition can lead to biased amino acid composition, it is conceivable that the observed elevated erk levels in endothermic vertebrates may be a consequence of purine loading. to exclude purine loading as a confounding factor, we employed an analogous strategy as for gc content. when we restrict the alignments of the human - danio rerio orthologs to those codons with the same purine content, we still observe a significantly higher erk value in the human sequences. thus, the biased amino acid composition of proteins from endothermic vertebrates cannot be attributed to purine loading alone. discussion building upon earlier results on aligned structures of prokaryotic protein pairs, we show that genome-wide amino acid usage biases correlates strongly with the optimal growth temperature of bacteria. that erk and cvp measures are derived directly from physicochemical considerations strengthens the notion that it is indeed selection on thermostability which is responsible for this long-recognised trend. while the enrichment or depletion of individual amino acids in thermophilic species is strongly affected by phylogenetic non-independence, the overall biases measured by erk and cvp are robust. applying the same methodology to vertebrate species, we find that mammalian and bird proteomes show a weak but significant increase in erk and cvp-bias compared to ectothermic fish, amphibia and reptilia. this increase cannot simply be explained by biases in nucleotide composition, and remains statistically significant when controlling for phylogenetic non-independence. while the examined dataset of genome sequences is necessarily small and not evenly sampled across vertebrates, we thus have strong evidence for a direct relationship between amino acid bias and the temperature at which vertebrate proteins operate. analogous to the situation in prokaryotes, our findings are most parsimoniously explained by selection for increased stability against thermal fluctuations in endothermic vertebrates. why then do we not see a correlation of amino acid usage bias with environmental temperature when considering only ectothermic vertebrates? apart from an issue of small sample size, this lack of a correlation may be due to the fact that ectothermic vertebrates can rapidly switch between habitats of different temperatures during evolution. this is evident, e.g., from the two xenopus species in our study, which thrive at 18- and 23-28°c, respectively. it should be pointed out that ectotherms are not necessarily cold-blooded, i.e., body temperature in some ectothermic species can reach temperatures as high or higher as in endotherms. furthermore, internal temperature can vary between different body regions of an ectotherm, and can be above the outside temperature. however, the temperatures listed in table are'optimal' temperatures for these species, and internal temperatures will indeed be close to these values. on average, body temperature in endotherms is higher than in ectotherms, and has likely remained stable since the last common ancestors of mammals and of birds. a shift towards stability-increasing amino acids in proteins of endothermic vertebrates mirrors similar effects seen for the nucleotide composition of structural rnas. while the effect for structural rnas appears to be much stronger, this may not be surprising: rna structures are formed by direct bonds between complementary bases, g-c bonds being more stable than a-t bonds. thus, thermostability of rnas is directly related to the gc fraction of sites involved in bond formation. the effect of individual amino acids on the thermostability of proteins is much more subtle: the relevance of different physicochemical properties of amino acids depends on their three-dimensional context within the protein structure. the subtleness of this effect was already seen in prokaryotic proteins, where we found only a weak correlation of amino acid usage bias with optimal growth temperature among mesophiles.  taken together, our results indicate weak but significant genome-wide positive selection on protein structure during the change from ectothermic to endothermic life styles in vertebrates. this molecular process may have been very similar to the adaptation of microorganisms that switch from mesophilic to thermophilic life styles, except that the temperature differences involved were much smaller. \n"
     ]
    }
   ],
   "source": [
    "print(dataset['text'][0])"
   ]
  },
  {
   "cell_type": "code",
   "execution_count": 10,
   "id": "6aed7b2f",
   "metadata": {},
   "outputs": [],
   "source": [
    "\n",
    "def check_prompt_token_limits(article, instructions, tokenizer, token_limit):\n",
    "    counter = 0\n",
    "    for key, instruction in instructions.items():\n",
    "        prompt = f'Article: {article}\\n{instruction}'\n",
    "        prompt_len = len(tokenizer.encode(prompt))\n",
    "        if prompt_len < token_limit:\n",
    "            counter += 1 \n",
    "    return counter \n",
    "\n",
    "def get_shortlisted_data(articles, reference_summaries, ids = [], token_limit = 4096, dataset = 'xsum'):\n",
    "    \n",
    "    flan_tokenizer = T5Tokenizer.from_pretrained(\"google/flan-t5-xl\")\n",
    "    flan_instructions = config.instructions[f'{dataset}_flant5']\n",
    "    \n",
    "    gpt_tokenizer = tiktoken.encoding_for_model(\"gpt-3.5-turbo\")\n",
    "    gpt_instructions = config.instructions[f'{dataset}_gpt3']\n",
    "    \n",
    "    shortlisted_articles = []\n",
    "    shortlisted_reference_summaries = []\n",
    "    \n",
    "    shortlisted_ids = []\n",
    "    \n",
    "    for idx, article in enumerate(tqdm(articles)):\n",
    "        add_article = 0 \n",
    "        \n",
    "        flan_counter = check_prompt_token_limits(article, flan_instructions, flan_tokenizer, token_limit)\n",
    "        add_article += flan_counter\n",
    "        \n",
    "        gpt_counter = check_prompt_token_limits(article, gpt_instructions, gpt_tokenizer, token_limit)\n",
    "        add_article += gpt_counter\n",
    "        \n",
    "\n",
    "        if add_article == 4:\n",
    "            shortlisted_articles.append(article)\n",
    "            shortlisted_reference_summaries.append(reference_summaries[idx])\n",
    "            \n",
    "            if not ids:\n",
    "                article_id = str(uuid.uuid4())\n",
    "            else:\n",
    "                article_id = ids[idx]\n",
    "            \n",
    "            shortlisted_ids.append(article_id)\n",
    "            \n",
    "    return shortlisted_articles, shortlisted_reference_summaries, shortlisted_ids\n",
    "\n",
    "\n",
    "def make_sample_pubmed(data_path, token_limit = 4096):\n",
    "    dataset = load_dataset(\"ccdv/pubmed-summarization\", split=\"test\", cache_dir = '/scratch/ramprasad.sa/huggingface_datasets')\n",
    "    articles = dataset['article']\n",
    "    reference_summaries = dataset['abstract']\n",
    "    \n",
    "    \n",
    "    \n",
    "    shortlisted_data = {'article': [], 'reference_summary': [], 'id': [], 'origin': []}\n",
    "    \n",
    "    shortlisted_articles, shortlisted_reference_summaries, shortlisted_ids = get_shortlisted_data(articles, reference_summaries, dataset = 'pubmed')\n",
    "    shortlisted_data['article'] += shortlisted_articles\n",
    "    shortlisted_data['reference_summary'] += shortlisted_reference_summaries\n",
    "    shortlisted_data['id'] += shortlisted_ids\n",
    "    shortlisted_data['origin'] += ['pubmed'] * len(shortlisted_ids)\n",
    "            \n",
    "    isExist = os.path.exists(data_path)\n",
    "    if not isExist:\n",
    "        os.makedirs(data_path)\n",
    "    \n",
    "    df = pd.DataFrame(shortlisted_data)\n",
    "    df.to_csv(f'{data_path}/test_sample.csv')\n",
    "    return df\n",
    "\n"
   ]
  },
  {
   "cell_type": "code",
   "execution_count": 11,
   "id": "46a751f4",
   "metadata": {},
   "outputs": [
    {
     "name": "stderr",
     "output_type": "stream",
     "text": [
      "No config specified, defaulting to: pubmed-summarization/section\n",
      "Found cached dataset pubmed-summarization (/scratch/ramprasad.sa/huggingface_datasets/ccdv___pubmed-summarization/section/1.0.0/f765ec606c790e8c5694b226814a13f1974ba4ea98280989edaffb152ded5e2b)\n",
      "  0%|                                                                                                                                                                                                                                                  | 0/6658 [00:00<?, ?it/s]Token indices sequence length is longer than the specified maximum sequence length for this model (4625 > 512). Running this sequence through the model will result in indexing errors\n",
      "  1%|█▊                                                                                                                                                                                                                                       | 51/6658 [00:01<04:05, 26.97it/s]\n",
      "\n",
      "KeyboardInterrupt\n",
      "\n"
     ]
    }
   ],
   "source": [
    "shortlisted_data = make_sample_pubmed('/home/ramprasad.sa/factual_annotation_llm_summaries/datasets/pubmed')\n",
    "# pd.DataFrame(shortlisted_data)"
   ]
  },
  {
   "cell_type": "code",
   "execution_count": 8,
   "id": "37cf6154",
   "metadata": {},
   "outputs": [
    {
     "data": {
      "text/html": [
       "<div>\n",
       "<style scoped>\n",
       "    .dataframe tbody tr th:only-of-type {\n",
       "        vertical-align: middle;\n",
       "    }\n",
       "\n",
       "    .dataframe tbody tr th {\n",
       "        vertical-align: top;\n",
       "    }\n",
       "\n",
       "    .dataframe thead th {\n",
       "        text-align: right;\n",
       "    }\n",
       "</style>\n",
       "<table border=\"1\" class=\"dataframe\">\n",
       "  <thead>\n",
       "    <tr style=\"text-align: right;\">\n",
       "      <th></th>\n",
       "      <th>article</th>\n",
       "      <th>reference_summary</th>\n",
       "      <th>id</th>\n",
       "      <th>origin</th>\n",
       "    </tr>\n",
       "  </thead>\n",
       "  <tbody>\n",
       "    <tr>\n",
       "      <th>0</th>\n",
       "      <td>congenital adrenal hyperplasia ( cah ) refers ...</td>\n",
       "      <td>congenital adrenal hyperplasia is a group of a...</td>\n",
       "      <td>f05ee546-a3c4-40fb-b604-9497cb165de8</td>\n",
       "      <td>pubmed</td>\n",
       "    </tr>\n",
       "    <tr>\n",
       "      <th>1</th>\n",
       "      <td>the family is the cornerstone of human social ...</td>\n",
       "      <td>background : since the family is a social syst...</td>\n",
       "      <td>7bca5d77-7541-4ff9-a46f-d446b72dd9cd</td>\n",
       "      <td>pubmed</td>\n",
       "    </tr>\n",
       "    <tr>\n",
       "      <th>2</th>\n",
       "      <td>development of human societies and industriali...</td>\n",
       "      <td>background and objective :   anxiety and depre...</td>\n",
       "      <td>0fc68a72-a6d3-4ec9-8f43-61124446a064</td>\n",
       "      <td>pubmed</td>\n",
       "    </tr>\n",
       "    <tr>\n",
       "      <th>3</th>\n",
       "      <td>male macroprolactinomas ( mprl ) are usually r...</td>\n",
       "      <td>background : suppurative meningitis ( sm ) or ...</td>\n",
       "      <td>86ed3313-6fde-46d4-b555-0afd6821f378</td>\n",
       "      <td>pubmed</td>\n",
       "    </tr>\n",
       "    <tr>\n",
       "      <th>4</th>\n",
       "      <td>the femoral head often leads to healing compli...</td>\n",
       "      <td>fracture of the femoral neck continues to be a...</td>\n",
       "      <td>861ad9de-1ed4-4dc2-94f3-b4ec29b8e99e</td>\n",
       "      <td>pubmed</td>\n",
       "    </tr>\n",
       "    <tr>\n",
       "      <th>...</th>\n",
       "      <td>...</td>\n",
       "      <td>...</td>\n",
       "      <td>...</td>\n",
       "      <td>...</td>\n",
       "    </tr>\n",
       "    <tr>\n",
       "      <th>3499</th>\n",
       "      <td>odorant binding proteins ( obps ) were identif...</td>\n",
       "      <td>odorant - binding proteins ( obps ) were disco...</td>\n",
       "      <td>543ed531-f820-48f4-ba82-bb7cd18b0f56</td>\n",
       "      <td>pubmed</td>\n",
       "    </tr>\n",
       "    <tr>\n",
       "      <th>3500</th>\n",
       "      <td>minimally invasive surgery was first described...</td>\n",
       "      <td>purposethis study aimed to comparatively evalu...</td>\n",
       "      <td>29d98812-1c9e-456b-9e7c-1836a5d7c478</td>\n",
       "      <td>pubmed</td>\n",
       "    </tr>\n",
       "    <tr>\n",
       "      <th>3501</th>\n",
       "      <td>a 60-year - old male patient was referred to a...</td>\n",
       "      <td>warthin 's tumor is the second most common typ...</td>\n",
       "      <td>e7456860-d6cc-4811-955b-69eea48b860c</td>\n",
       "      <td>pubmed</td>\n",
       "    </tr>\n",
       "    <tr>\n",
       "      <th>3502</th>\n",
       "      <td>they almost always require open reduction and ...</td>\n",
       "      <td>introduction : subtrochanteric fractures have ...</td>\n",
       "      <td>bc18fe1d-dd83-4523-a52c-b9bf465b8d78</td>\n",
       "      <td>pubmed</td>\n",
       "    </tr>\n",
       "    <tr>\n",
       "      <th>3503</th>\n",
       "      <td>renal transplantation rates are low among pati...</td>\n",
       "      <td>we describe a successful living donor liver tr...</td>\n",
       "      <td>6899d499-8931-469f-b1f6-2f06e02d9193</td>\n",
       "      <td>pubmed</td>\n",
       "    </tr>\n",
       "  </tbody>\n",
       "</table>\n",
       "<p>3504 rows × 4 columns</p>\n",
       "</div>"
      ],
      "text/plain": [
       "                                                article   \n",
       "0     congenital adrenal hyperplasia ( cah ) refers ...  \\\n",
       "1     the family is the cornerstone of human social ...   \n",
       "2     development of human societies and industriali...   \n",
       "3     male macroprolactinomas ( mprl ) are usually r...   \n",
       "4     the femoral head often leads to healing compli...   \n",
       "...                                                 ...   \n",
       "3499  odorant binding proteins ( obps ) were identif...   \n",
       "3500  minimally invasive surgery was first described...   \n",
       "3501  a 60-year - old male patient was referred to a...   \n",
       "3502  they almost always require open reduction and ...   \n",
       "3503  renal transplantation rates are low among pati...   \n",
       "\n",
       "                                      reference_summary   \n",
       "0     congenital adrenal hyperplasia is a group of a...  \\\n",
       "1     background : since the family is a social syst...   \n",
       "2     background and objective :   anxiety and depre...   \n",
       "3     background : suppurative meningitis ( sm ) or ...   \n",
       "4     fracture of the femoral neck continues to be a...   \n",
       "...                                                 ...   \n",
       "3499  odorant - binding proteins ( obps ) were disco...   \n",
       "3500  purposethis study aimed to comparatively evalu...   \n",
       "3501  warthin 's tumor is the second most common typ...   \n",
       "3502  introduction : subtrochanteric fractures have ...   \n",
       "3503  we describe a successful living donor liver tr...   \n",
       "\n",
       "                                        id  origin  \n",
       "0     f05ee546-a3c4-40fb-b604-9497cb165de8  pubmed  \n",
       "1     7bca5d77-7541-4ff9-a46f-d446b72dd9cd  pubmed  \n",
       "2     0fc68a72-a6d3-4ec9-8f43-61124446a064  pubmed  \n",
       "3     86ed3313-6fde-46d4-b555-0afd6821f378  pubmed  \n",
       "4     861ad9de-1ed4-4dc2-94f3-b4ec29b8e99e  pubmed  \n",
       "...                                    ...     ...  \n",
       "3499  543ed531-f820-48f4-ba82-bb7cd18b0f56  pubmed  \n",
       "3500  29d98812-1c9e-456b-9e7c-1836a5d7c478  pubmed  \n",
       "3501  e7456860-d6cc-4811-955b-69eea48b860c  pubmed  \n",
       "3502  bc18fe1d-dd83-4523-a52c-b9bf465b8d78  pubmed  \n",
       "3503  6899d499-8931-469f-b1f6-2f06e02d9193  pubmed  \n",
       "\n",
       "[3504 rows x 4 columns]"
      ]
     },
     "execution_count": 8,
     "metadata": {},
     "output_type": "execute_result"
    }
   ],
   "source": [
    "shortlisted_data"
   ]
  },
  {
   "cell_type": "code",
   "execution_count": 6,
   "id": "cacbc8d3",
   "metadata": {
    "scrolled": true
   },
   "outputs": [
    {
     "data": {
      "text/plain": [
       "6658"
      ]
     },
     "execution_count": 6,
     "metadata": {},
     "output_type": "execute_result"
    }
   ],
   "source": [
    "len(dataset['abstract'])"
   ]
  },
  {
   "cell_type": "code",
   "execution_count": 9,
   "id": "8f29ab02",
   "metadata": {},
   "outputs": [
    {
     "data": {
      "text/plain": [
       "\"research on the implications of anxiety in parkinson 's disease ( pd ) has been neglected despite its prevalence in nearly 50% of patients and its negative impact on quality of life . \\n previous reports have noted that neuropsychiatric symptoms impair cognitive performance in pd patients ; however , to date , no study has directly compared pd patients with and without anxiety to examine the impact of anxiety on cognitive impairments in pd . \\n this study compared cognitive performance across 50 pd participants with and without anxiety ( 17 pda+ ; 33 pda ) , who underwent neurological and neuropsychological assessment . \\n group performance was compared across the following cognitive domains : simple attention / visuomotor processing speed , executive function ( e.g. , set - shifting ) , working memory , language , and memory / new verbal learning . \\n results showed that pda+ performed significantly worse on the digit span forward and backward test and part b of the trail making task ( tmt - b ) compared to the pda group . \\n there were no group differences in verbal fluency , logical memory , or tmt - a performance . in conclusion , \\n anxiety in pd has a measurable impact on working memory and attentional set - shifting .\""
      ]
     },
     "execution_count": 9,
     "metadata": {},
     "output_type": "execute_result"
    }
   ],
   "source": [
    "dataset['abstract'][0]"
   ]
  },
  {
   "cell_type": "code",
   "execution_count": 2,
   "id": "e43ef3a1",
   "metadata": {
    "tags": []
   },
   "outputs": [
    {
     "data": {
      "text/html": [
       "<div>\n",
       "<style scoped>\n",
       "    .dataframe tbody tr th:only-of-type {\n",
       "        vertical-align: middle;\n",
       "    }\n",
       "\n",
       "    .dataframe tbody tr th {\n",
       "        vertical-align: top;\n",
       "    }\n",
       "\n",
       "    .dataframe thead th {\n",
       "        text-align: right;\n",
       "    }\n",
       "</style>\n",
       "<table border=\"1\" class=\"dataframe\">\n",
       "  <thead>\n",
       "    <tr style=\"text-align: right;\">\n",
       "      <th></th>\n",
       "      <th>Unnamed: 0</th>\n",
       "      <th>article</th>\n",
       "      <th>reference_summary</th>\n",
       "      <th>id</th>\n",
       "      <th>origin</th>\n",
       "    </tr>\n",
       "  </thead>\n",
       "  <tbody>\n",
       "    <tr>\n",
       "      <th>0</th>\n",
       "      <td>0</td>\n",
       "      <td>one way to organize the billions of cells wit...</td>\n",
       "      <td>stem cells divide to reproduce themselves and...</td>\n",
       "      <td>aaee690b-2ccf-467a-8f46-74899e2e1a28</td>\n",
       "      <td>pubmed</td>\n",
       "    </tr>\n",
       "    <tr>\n",
       "      <th>1</th>\n",
       "      <td>1</td>\n",
       "      <td>species identification is essential for large...</td>\n",
       "      <td>the rapid and accurate identification of spec...</td>\n",
       "      <td>9d8cd34c-00cc-44d6-8c18-ea5e4a354292</td>\n",
       "      <td>pubmed</td>\n",
       "    </tr>\n",
       "    <tr>\n",
       "      <th>2</th>\n",
       "      <td>2</td>\n",
       "      <td>rhodococcus equi is one of the most significa...</td>\n",
       "      <td>rhodococcus equi is one of the most significa...</td>\n",
       "      <td>897f6c53-bf0d-4396-8e48-0b8b5ea65252</td>\n",
       "      <td>pubmed</td>\n",
       "    </tr>\n",
       "    <tr>\n",
       "      <th>3</th>\n",
       "      <td>3</td>\n",
       "      <td>the galliformes, a well-known and widely dist...</td>\n",
       "      <td>the galliformes is a well-known and widely di...</td>\n",
       "      <td>1a5a6780-5922-4e14-b76c-fe4726161fa5</td>\n",
       "      <td>pubmed</td>\n",
       "    </tr>\n",
       "    <tr>\n",
       "      <th>4</th>\n",
       "      <td>4</td>\n",
       "      <td>light drives the processes of photosynthesis ...</td>\n",
       "      <td>although specific light attributes, such as c...</td>\n",
       "      <td>f5c29a93-4198-49bb-992d-4a384579ab53</td>\n",
       "      <td>pubmed</td>\n",
       "    </tr>\n",
       "    <tr>\n",
       "      <th>...</th>\n",
       "      <td>...</td>\n",
       "      <td>...</td>\n",
       "      <td>...</td>\n",
       "      <td>...</td>\n",
       "      <td>...</td>\n",
       "    </tr>\n",
       "    <tr>\n",
       "      <th>580</th>\n",
       "      <td>580</td>\n",
       "      <td>the increased use of high-throughput analysis...</td>\n",
       "      <td>in response to the frequently overwhelming ou...</td>\n",
       "      <td>87b4c2a9-c773-4bcf-bcb6-7fdbc3653b45</td>\n",
       "      <td>pubmed</td>\n",
       "    </tr>\n",
       "    <tr>\n",
       "      <th>581</th>\n",
       "      <td>581</td>\n",
       "      <td>evolution leads to genetic diversity the sele...</td>\n",
       "      <td>non-synonymous single nucleotide polymorphism...</td>\n",
       "      <td>683b71f8-9f02-4ab9-bbc0-9aa3312fa336</td>\n",
       "      <td>pubmed</td>\n",
       "    </tr>\n",
       "    <tr>\n",
       "      <th>582</th>\n",
       "      <td>582</td>\n",
       "      <td>although different experimental methods have ...</td>\n",
       "      <td>protein-protein interactions are crucial in c...</td>\n",
       "      <td>20803371-fed1-438a-992c-fa123673229f</td>\n",
       "      <td>pubmed</td>\n",
       "    </tr>\n",
       "    <tr>\n",
       "      <th>583</th>\n",
       "      <td>583</td>\n",
       "      <td>scarless, site-directed mutagenesis on a bact...</td>\n",
       "      <td>a variety of techniques have been described w...</td>\n",
       "      <td>f8e7647b-eb91-4bf2-996e-57d046d4bb2d</td>\n",
       "      <td>pubmed</td>\n",
       "    </tr>\n",
       "    <tr>\n",
       "      <th>584</th>\n",
       "      <td>584</td>\n",
       "      <td>eukaryotic cells, from yeast to human, contai...</td>\n",
       "      <td>the 26s proteasome is the proteolytic machine...</td>\n",
       "      <td>c712778e-7704-430f-b199-dff866e5f58e</td>\n",
       "      <td>pubmed</td>\n",
       "    </tr>\n",
       "  </tbody>\n",
       "</table>\n",
       "<p>585 rows × 5 columns</p>\n",
       "</div>"
      ],
      "text/plain": [
       "     Unnamed: 0                                            article   \n",
       "0             0   one way to organize the billions of cells wit...  \\\n",
       "1             1   species identification is essential for large...   \n",
       "2             2   rhodococcus equi is one of the most significa...   \n",
       "3             3   the galliformes, a well-known and widely dist...   \n",
       "4             4   light drives the processes of photosynthesis ...   \n",
       "..          ...                                                ...   \n",
       "580         580   the increased use of high-throughput analysis...   \n",
       "581         581   evolution leads to genetic diversity the sele...   \n",
       "582         582   although different experimental methods have ...   \n",
       "583         583   scarless, site-directed mutagenesis on a bact...   \n",
       "584         584   eukaryotic cells, from yeast to human, contai...   \n",
       "\n",
       "                                     reference_summary   \n",
       "0     stem cells divide to reproduce themselves and...  \\\n",
       "1     the rapid and accurate identification of spec...   \n",
       "2     rhodococcus equi is one of the most significa...   \n",
       "3     the galliformes is a well-known and widely di...   \n",
       "4     although specific light attributes, such as c...   \n",
       "..                                                 ...   \n",
       "580   in response to the frequently overwhelming ou...   \n",
       "581   non-synonymous single nucleotide polymorphism...   \n",
       "582   protein-protein interactions are crucial in c...   \n",
       "583   a variety of techniques have been described w...   \n",
       "584   the 26s proteasome is the proteolytic machine...   \n",
       "\n",
       "                                       id  origin  \n",
       "0    aaee690b-2ccf-467a-8f46-74899e2e1a28  pubmed  \n",
       "1    9d8cd34c-00cc-44d6-8c18-ea5e4a354292  pubmed  \n",
       "2    897f6c53-bf0d-4396-8e48-0b8b5ea65252  pubmed  \n",
       "3    1a5a6780-5922-4e14-b76c-fe4726161fa5  pubmed  \n",
       "4    f5c29a93-4198-49bb-992d-4a384579ab53  pubmed  \n",
       "..                                    ...     ...  \n",
       "580  87b4c2a9-c773-4bcf-bcb6-7fdbc3653b45  pubmed  \n",
       "581  683b71f8-9f02-4ab9-bbc0-9aa3312fa336  pubmed  \n",
       "582  20803371-fed1-438a-992c-fa123673229f  pubmed  \n",
       "583  f8e7647b-eb91-4bf2-996e-57d046d4bb2d  pubmed  \n",
       "584  c712778e-7704-430f-b199-dff866e5f58e  pubmed  \n",
       "\n",
       "[585 rows x 5 columns]"
      ]
     },
     "execution_count": 2,
     "metadata": {},
     "output_type": "execute_result"
    }
   ],
   "source": [
    "df = pd.read_csv('/home/ramprasad.sa/factual_annotation_llm_summaries/datasets/pubmed/test_sample.csv')\n",
    "df"
   ]
  },
  {
   "cell_type": "code",
   "execution_count": 19,
   "id": "8b6ecb40",
   "metadata": {
    "tags": []
   },
   "outputs": [],
   "source": [
    "import pandas as pd"
   ]
  },
  {
   "cell_type": "code",
   "execution_count": 20,
   "id": "5d447bd3-eef2-431a-a0f1-f36b14211dee",
   "metadata": {
    "tags": []
   },
   "outputs": [],
   "source": [
    "df = pd.read_csv('/home/ramprasad.sa/factual_annotation_llm_summaries/datasets/pubmed/test_sample.csv')\n"
   ]
  },
  {
   "cell_type": "code",
   "execution_count": 1,
   "id": "06e8b79b-6fcb-4b46-b3fe-9a317d8e4f6c",
   "metadata": {
    "tags": []
   },
   "outputs": [],
   "source": [
    "import accelerate"
   ]
  },
  {
   "cell_type": "code",
   "execution_count": 2,
   "id": "d9548a8c-51a3-45d6-890e-438ad1e4caef",
   "metadata": {
    "tags": []
   },
   "outputs": [
    {
     "ename": "ImportError",
     "evalue": "DeepSpeed is not installed => run `pip install deepspeed` or build it from source.",
     "output_type": "error",
     "traceback": [
      "\u001b[0;31m---------------------------------------------------------------------------\u001b[0m",
      "\u001b[0;31mImportError\u001b[0m                               Traceback (most recent call last)",
      "Cell \u001b[0;32mIn[2], line 11\u001b[0m\n\u001b[1;32m      5\u001b[0m \u001b[38;5;66;03m# Prepare deepspeed\u001b[39;00m\n\u001b[1;32m      6\u001b[0m deepspeed \u001b[38;5;241m=\u001b[39m accelerate\u001b[38;5;241m.\u001b[39mDeepSpeedPlugin(gradient_accumulation_steps\u001b[38;5;241m=\u001b[39m\u001b[38;5;241m1\u001b[39m,\n\u001b[1;32m      7\u001b[0m                                        zero3_init_flag\u001b[38;5;241m=\u001b[39m\u001b[38;5;28;01mFalse\u001b[39;00m,\n\u001b[1;32m      8\u001b[0m                                        zero_stage\u001b[38;5;241m=\u001b[39m\u001b[38;5;241m3\u001b[39m,\n\u001b[1;32m      9\u001b[0m                                        offload_optimizer_device\u001b[38;5;241m=\u001b[39m\u001b[38;5;124m\"\u001b[39m\u001b[38;5;124mcuda\u001b[39m\u001b[38;5;124m\"\u001b[39m,\n\u001b[1;32m     10\u001b[0m                                        offload_param_device\u001b[38;5;241m=\u001b[39m\u001b[38;5;124m\"\u001b[39m\u001b[38;5;124mcpu\u001b[39m\u001b[38;5;124m\"\u001b[39m)\n\u001b[0;32m---> 11\u001b[0m accelerator \u001b[38;5;241m=\u001b[39m \u001b[43maccelerate\u001b[49m\u001b[38;5;241;43m.\u001b[39;49m\u001b[43mAccelerator\u001b[49m\u001b[43m(\u001b[49m\u001b[43mdeepspeed_plugin\u001b[49m\u001b[38;5;241;43m=\u001b[39;49m\u001b[43mdeepspeed\u001b[49m\u001b[43m)\u001b[49m\n\u001b[1;32m     12\u001b[0m accelerate\u001b[38;5;241m.\u001b[39mstate\u001b[38;5;241m.\u001b[39mAcceleratorState()\u001b[38;5;241m.\u001b[39mdeepspeed_plugin\u001b[38;5;241m.\u001b[39mdeepspeed_config[\u001b[38;5;124m'\u001b[39m\u001b[38;5;124mtrain_micro_batch_size_per_gpu\u001b[39m\u001b[38;5;124m'\u001b[39m] \u001b[38;5;241m=\u001b[39m \u001b[38;5;241m1\u001b[39m\n\u001b[1;32m     13\u001b[0m accelerate\u001b[38;5;241m.\u001b[39mstate\u001b[38;5;241m.\u001b[39mAcceleratorState()\n",
      "File \u001b[0;32m~/.conda/envs/llm/lib/python3.8/site-packages/accelerate/accelerator.py:285\u001b[0m, in \u001b[0;36mAccelerator.__init__\u001b[0;34m(self, device_placement, split_batches, mixed_precision, gradient_accumulation_steps, cpu, deepspeed_plugin, fsdp_plugin, megatron_lm_plugin, ipex_plugin, rng_types, log_with, project_dir, project_config, logging_dir, gradient_accumulation_plugin, dispatch_batches, even_batches, step_scheduler_with_optimizer, kwargs_handlers, dynamo_backend)\u001b[0m\n\u001b[1;32m    283\u001b[0m \u001b[38;5;28;01mif\u001b[39;00m deepspeed_plugin:\n\u001b[1;32m    284\u001b[0m     \u001b[38;5;28;01mif\u001b[39;00m \u001b[38;5;129;01mnot\u001b[39;00m is_deepspeed_available():\n\u001b[0;32m--> 285\u001b[0m         \u001b[38;5;28;01mraise\u001b[39;00m \u001b[38;5;167;01mImportError\u001b[39;00m(\u001b[38;5;124m\"\u001b[39m\u001b[38;5;124mDeepSpeed is not installed => run `pip install deepspeed` or build it from source.\u001b[39m\u001b[38;5;124m\"\u001b[39m)\n\u001b[1;32m    286\u001b[0m     \u001b[38;5;28;01mif\u001b[39;00m compare_versions(\u001b[38;5;124m\"\u001b[39m\u001b[38;5;124mdeepspeed\u001b[39m\u001b[38;5;124m\"\u001b[39m, \u001b[38;5;124m\"\u001b[39m\u001b[38;5;124m<\u001b[39m\u001b[38;5;124m\"\u001b[39m, \u001b[38;5;124m\"\u001b[39m\u001b[38;5;124m0.6.5\u001b[39m\u001b[38;5;124m\"\u001b[39m):\n\u001b[1;32m    287\u001b[0m         \u001b[38;5;28;01mraise\u001b[39;00m \u001b[38;5;167;01mImportError\u001b[39;00m(\u001b[38;5;124m\"\u001b[39m\u001b[38;5;124mDeepSpeed version must be >= 0.6.5. Please update DeepSpeed.\u001b[39m\u001b[38;5;124m\"\u001b[39m)\n",
      "\u001b[0;31mImportError\u001b[0m: DeepSpeed is not installed => run `pip install deepspeed` or build it from source."
     ]
    }
   ],
   "source": [
    "from transformers import T5Tokenizer, T5ForConditionalGeneration\n",
    "import torch\n",
    "import accelerate\n",
    "\n",
    "# Prepare deepspeed\n",
    "deepspeed = accelerate.DeepSpeedPlugin(gradient_accumulation_steps=1,\n",
    "                                       zero3_init_flag=False,\n",
    "                                       zero_stage=3,\n",
    "                                       offload_optimizer_device=\"cuda\",\n",
    "                                       offload_param_device=\"cpu\")\n",
    "accelerator = accelerate.Accelerator(deepspeed_plugin=deepspeed)\n",
    "accelerate.state.AcceleratorState().deepspeed_plugin.deepspeed_config['train_micro_batch_size_per_gpu'] = 1\n",
    "accelerate.state.AcceleratorState()"
   ]
  },
  {
   "cell_type": "code",
   "execution_count": 12,
   "id": "7ca7c001-1e7c-4d0d-ae95-f3626e6e8cfb",
   "metadata": {
    "tags": []
   },
   "outputs": [
    {
     "data": {
      "text/plain": [
       "2512"
      ]
     },
     "execution_count": 12,
     "metadata": {},
     "output_type": "execute_result"
    }
   ],
   "source": [
    "len(df['article'].values[0].split(' '))"
   ]
  },
  {
   "cell_type": "code",
   "execution_count": 36,
   "id": "6cea044d-f140-4d42-b7f2-e242e6a9d377",
   "metadata": {
    "tags": []
   },
   "outputs": [],
   "source": [
    "article = df['article'].values[0]\n",
    "instruction = 'Summarize the above article'"
   ]
  },
  {
   "cell_type": "code",
   "execution_count": 37,
   "id": "857f6621-729f-4604-b646-5cb525c4b578",
   "metadata": {
    "tags": []
   },
   "outputs": [],
   "source": [
    "from models.Flan_t5.flan_t5 import FlanT5Inference"
   ]
  },
  {
   "cell_type": "code",
   "execution_count": 38,
   "id": "f2b01beb-85ba-4b6e-98e4-923da591fe1c",
   "metadata": {
    "tags": []
   },
   "outputs": [
    {
     "data": {
      "application/vnd.jupyter.widget-view+json": {
       "model_id": "eb655954296041de9b57d0ee3804f921",
       "version_major": 2,
       "version_minor": 0
      },
      "text/plain": [
       "Loading checkpoint shards:   0%|          | 0/5 [00:00<?, ?it/s]"
      ]
     },
     "metadata": {},
     "output_type": "display_data"
    }
   ],
   "source": [
    "model = FlanT5Inference()"
   ]
  },
  {
   "cell_type": "code",
   "execution_count": 43,
   "id": "80e7bb3b-609d-4d7a-ae29-3168b518000e",
   "metadata": {
    "tags": []
   },
   "outputs": [
    {
     "ename": "NotImplementedError",
     "evalue": "Initializing empty weights to a meta device requires torch >= 1.9.0",
     "output_type": "error",
     "traceback": [
      "\u001b[0;31m---------------------------------------------------------------------------\u001b[0m",
      "\u001b[0;31mNotImplementedError\u001b[0m                       Traceback (most recent call last)",
      "Cell \u001b[0;32mIn[43], line 6\u001b[0m\n\u001b[1;32m      3\u001b[0m checkpoint \u001b[38;5;241m=\u001b[39m \u001b[38;5;124m\"\u001b[39m\u001b[38;5;124mgoogle/flan-t5-xxl\u001b[39m\u001b[38;5;124m\"\u001b[39m\n\u001b[1;32m      4\u001b[0m config \u001b[38;5;241m=\u001b[39m AutoConfig\u001b[38;5;241m.\u001b[39mfrom_pretrained(checkpoint, cache_dir\u001b[38;5;241m=\u001b[39m\u001b[38;5;124m\"\u001b[39m\u001b[38;5;124m/scratch/ramprasad.sa/huggingface_models\u001b[39m\u001b[38;5;124m\"\u001b[39m)\n\u001b[0;32m----> 6\u001b[0m \u001b[38;5;28;01mwith\u001b[39;00m init_empty_weights():\n\u001b[1;32m      7\u001b[0m     model \u001b[38;5;241m=\u001b[39m AutoModel\u001b[38;5;241m.\u001b[39mfrom_config(config)\n",
      "File \u001b[0;32m~/.conda/envs/llm/lib/python3.8/contextlib.py:113\u001b[0m, in \u001b[0;36m_GeneratorContextManager.__enter__\u001b[0;34m(self)\u001b[0m\n\u001b[1;32m    111\u001b[0m \u001b[38;5;28;01mdel\u001b[39;00m \u001b[38;5;28mself\u001b[39m\u001b[38;5;241m.\u001b[39margs, \u001b[38;5;28mself\u001b[39m\u001b[38;5;241m.\u001b[39mkwds, \u001b[38;5;28mself\u001b[39m\u001b[38;5;241m.\u001b[39mfunc\n\u001b[1;32m    112\u001b[0m \u001b[38;5;28;01mtry\u001b[39;00m:\n\u001b[0;32m--> 113\u001b[0m     \u001b[38;5;28;01mreturn\u001b[39;00m \u001b[38;5;28;43mnext\u001b[39;49m\u001b[43m(\u001b[49m\u001b[38;5;28;43mself\u001b[39;49m\u001b[38;5;241;43m.\u001b[39;49m\u001b[43mgen\u001b[49m\u001b[43m)\u001b[49m\n\u001b[1;32m    114\u001b[0m \u001b[38;5;28;01mexcept\u001b[39;00m \u001b[38;5;167;01mStopIteration\u001b[39;00m:\n\u001b[1;32m    115\u001b[0m     \u001b[38;5;28;01mraise\u001b[39;00m \u001b[38;5;167;01mRuntimeError\u001b[39;00m(\u001b[38;5;124m\"\u001b[39m\u001b[38;5;124mgenerator didn\u001b[39m\u001b[38;5;124m'\u001b[39m\u001b[38;5;124mt yield\u001b[39m\u001b[38;5;124m\"\u001b[39m) \u001b[38;5;28;01mfrom\u001b[39;00m \u001b[38;5;28mNone\u001b[39m\n",
      "File \u001b[0;32m~/.conda/envs/llm/lib/python3.8/site-packages/accelerate/big_modeling.py:73\u001b[0m, in \u001b[0;36minit_empty_weights\u001b[0;34m(include_buffers)\u001b[0m\n\u001b[1;32m     46\u001b[0m \u001b[38;5;124;03m\"\"\"\u001b[39;00m\n\u001b[1;32m     47\u001b[0m \u001b[38;5;124;03mA context manager under which models are initialized with all parameters on the meta device, therefore creating an\u001b[39;00m\n\u001b[1;32m     48\u001b[0m \u001b[38;5;124;03mempty model. Useful when just initializing the model would blow the available RAM.\u001b[39;00m\n\u001b[0;32m   (...)\u001b[0m\n\u001b[1;32m     70\u001b[0m \u001b[38;5;124;03m</Tip>\u001b[39;00m\n\u001b[1;32m     71\u001b[0m \u001b[38;5;124;03m\"\"\"\u001b[39;00m\n\u001b[1;32m     72\u001b[0m \u001b[38;5;28;01mif\u001b[39;00m \u001b[38;5;129;01mnot\u001b[39;00m is_torch_version(\u001b[38;5;124m\"\u001b[39m\u001b[38;5;124m>=\u001b[39m\u001b[38;5;124m\"\u001b[39m, \u001b[38;5;124m\"\u001b[39m\u001b[38;5;124m1.9.0\u001b[39m\u001b[38;5;124m\"\u001b[39m):\n\u001b[0;32m---> 73\u001b[0m     \u001b[38;5;28;01mraise\u001b[39;00m \u001b[38;5;167;01mNotImplementedError\u001b[39;00m(\u001b[38;5;124m\"\u001b[39m\u001b[38;5;124mInitializing empty weights to a meta device requires torch >= 1.9.0\u001b[39m\u001b[38;5;124m\"\u001b[39m)\n\u001b[1;32m     74\u001b[0m \u001b[38;5;28;01mwith\u001b[39;00m init_on_device(torch\u001b[38;5;241m.\u001b[39mdevice(\u001b[38;5;124m\"\u001b[39m\u001b[38;5;124mmeta\u001b[39m\u001b[38;5;124m\"\u001b[39m), include_buffers\u001b[38;5;241m=\u001b[39minclude_buffers) \u001b[38;5;28;01mas\u001b[39;00m f:\n\u001b[1;32m     75\u001b[0m     \u001b[38;5;28;01myield\u001b[39;00m f\n",
      "\u001b[0;31mNotImplementedError\u001b[0m: Initializing empty weights to a meta device requires torch >= 1.9.0"
     ]
    }
   ],
   "source": [
    "from accelerate import init_empty_weights\n",
    "from transformers import AutoConfig,AutoModel \n",
    "checkpoint = \"google/flan-t5-xxl\"\n",
    "config = AutoConfig.from_pretrained(checkpoint, cache_dir=\"/scratch/ramprasad.sa/huggingface_models\")\n",
    "\n",
    "with init_empty_weights():\n",
    "    model = AutoModel.from_config(config)\n"
   ]
  },
  {
   "cell_type": "code",
   "execution_count": 1,
   "id": "367e54a5-873b-4509-92f8-e0bf57bdd6ad",
   "metadata": {
    "tags": []
   },
   "outputs": [
    {
     "ename": "NameError",
     "evalue": "name 'load_dataset' is not defined",
     "output_type": "error",
     "traceback": [
      "\u001b[0;31m---------------------------------------------------------------------------\u001b[0m",
      "\u001b[0;31mNameError\u001b[0m                                 Traceback (most recent call last)",
      "Cell \u001b[0;32mIn[1], line 1\u001b[0m\n\u001b[0;32m----> 1\u001b[0m dataset \u001b[38;5;241m=\u001b[39m \u001b[43mload_dataset\u001b[49m(\u001b[38;5;124m\"\u001b[39m\u001b[38;5;124mccdv/pubmed-summarization\u001b[39m\u001b[38;5;124m\"\u001b[39m, split\u001b[38;5;241m=\u001b[39m\u001b[38;5;124m\"\u001b[39m\u001b[38;5;124mtest\u001b[39m\u001b[38;5;124m\"\u001b[39m, cache_dir \u001b[38;5;241m=\u001b[39m \u001b[38;5;124m'\u001b[39m\u001b[38;5;124m/scratch/ramprasad.sa/huggingface_datasets\u001b[39m\u001b[38;5;124m'\u001b[39m)\n",
      "\u001b[0;31mNameError\u001b[0m: name 'load_dataset' is not defined"
     ]
    }
   ],
   "source": [
    " dataset = load_dataset(\"ccdv/pubmed-summarization\", split=\"test\", cache_dir = '/scratch/ramprasad.sa/huggingface_datasets')\n",
    "    \n",
    "    \n",
    "    "
   ]
  },
  {
   "cell_type": "code",
   "execution_count": null,
   "id": "ffaf0d0f-8688-4813-bbd5-2d14f1f72eac",
   "metadata": {},
   "outputs": [],
   "source": []
  }
 ],
 "metadata": {
  "kernelspec": {
   "display_name": "llm",
   "language": "python",
   "name": "llm"
  },
  "language_info": {
   "codemirror_mode": {
    "name": "ipython",
    "version": 3
   },
   "file_extension": ".py",
   "mimetype": "text/x-python",
   "name": "python",
   "nbconvert_exporter": "python",
   "pygments_lexer": "ipython3",
   "version": "3.8.16"
  }
 },
 "nbformat": 4,
 "nbformat_minor": 5
}

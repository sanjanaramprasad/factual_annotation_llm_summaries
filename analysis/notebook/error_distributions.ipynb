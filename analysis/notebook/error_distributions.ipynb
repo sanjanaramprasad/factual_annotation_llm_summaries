{
 "cells": [
  {
   "cell_type": "code",
   "execution_count": 21,
   "id": "80ad4fa6-23bb-46a5-bcbf-a67dababfae1",
   "metadata": {
    "tags": []
   },
   "outputs": [],
   "source": [
    "import math \n",
    "import string \n",
    "import re\n",
    "\n",
    "import json \n",
    "\n",
    "import pandas as pd \n",
    "import sqlite3\n",
    "import spacy\n",
    "import numpy as np\n",
    "from rouge import Rouge \n",
    "import seaborn as sns\n",
    "# sns.set_theme(style=\"whitegrid\")\n",
    "import matplotlib.pyplot as plt\n",
    "\n",
    "\n",
    "\n",
    "nlp = spacy.load('en_core_web_sm')"
   ]
  },
  {
   "cell_type": "code",
   "execution_count": 22,
   "id": "d18a2152-a503-4fe8-b45d-191e5828bbea",
   "metadata": {
    "tags": []
   },
   "outputs": [],
   "source": [
    "def read_annotations(task):\n",
    "    df_ann = pd.read_csv(f'/home/ramprasad.sa/factual_annotation_llm_summaries/annotations/{task}_annotations.csv', keep_default_na=False)\n",
    "    df_ann_scores = pd.read_csv(f'/home/ramprasad.sa/factual_annotation_llm_summaries/annotations/{task}_annotation_scores.csv', keep_default_na=False)\n",
    "    return df_ann, df_ann_scores"
   ]
  },
  {
   "cell_type": "code",
   "execution_count": 23,
   "id": "dc1505e3-8f72-489b-90eb-76fb3596c593",
   "metadata": {
    "tags": []
   },
   "outputs": [],
   "source": [
    "df_ann_news, df_ann_scores_news = read_annotations('news')\n",
    "df_ann_billsum, df_ann_scores_billsum = read_annotations('billsum')\n",
    "df_ann_pubmed, df_ann_scores_pubmed = read_annotations('pubmed')"
   ]
  },
  {
   "cell_type": "code",
   "execution_count": 24,
   "id": "4609c6c5-c4d5-4370-8d6a-ae79147dee41",
   "metadata": {
    "tags": []
   },
   "outputs": [],
   "source": [
    "# df_errors_pubmed"
   ]
  },
  {
   "cell_type": "code",
   "execution_count": 25,
   "id": "5a1bc93f-5970-4ac3-9062-411bea6c0896",
   "metadata": {
    "tags": []
   },
   "outputs": [
    {
     "data": {
      "text/plain": [
       "<Figure size 504x360 with 0 Axes>"
      ]
     },
     "metadata": {},
     "output_type": "display_data"
    },
    {
     "data": {
      "image/png": "[encoded data removed]",
      "text/plain": [
       "<Figure size 288x288 with 1 Axes>"
      ]
     },
     "metadata": {
      "needs_background": "light"
     },
     "output_type": "display_data"
    }
   ],
   "source": [
    "import seaborn as sns\n",
    "# sns.set_theme(style=\"whitegrid\")\n",
    "import matplotlib.pyplot as plt\n",
    "\n",
    "\n",
    "\n",
    "def errors_plot(aggregate_score_df):\n",
    "    clrs = []\n",
    "\n",
    "    plt.figure(figsize=(7,5))\n",
    "    ax = sns.catplot(\n",
    "        \n",
    "        data=aggregate_score_df,\n",
    "        kind=\"bar\",\n",
    "        x=\"model\", y=\"score\", hue=\"task\",\n",
    "         palette=sns.color_palette([  '#993299', '#ffa11c', '#073a67', ]),\n",
    "        height= 4,\n",
    "        legend = None\n",
    "\n",
    "    )\n",
    "    sns.despine(bottom = False, left =True)\n",
    "    ax.set(xlabel='', ylabel='Avg proportion of nonfactual sentences')\n",
    "    plt.legend(loc='center left', bbox_to_anchor=(1.0, 1.0))\n",
    "    plt.savefig('prev_errors.pdf', bbox_inches=\"tight\")\n",
    "    return\n",
    "\n",
    "def aggregate_scores(df_ann_scores_news, df_ann_scores_billsum, df_ann_scores_pubmed):\n",
    "    \n",
    "    df_all_scores = pd.concat([df_ann_scores_news, df_ann_scores_billsum, df_ann_scores_pubmed])\n",
    "\n",
    "    aggregate_score_df_dict = {'model': [], 'task': [], 'score': []}\n",
    "    \n",
    "    for task in list(set(df_all_scores['task'].values)):\n",
    "        for model in list(set(df_all_scores['model'].values)):\n",
    "            \n",
    "            df_task_model = df_all_scores[(df_all_scores['task'] == task) & (df_all_scores['model'] == model)]\n",
    "            \n",
    "            score = np.mean(list(df_task_model['score'].values))\n",
    "            \n",
    "            aggregate_score_df_dict['model'].append(model)\n",
    "            aggregate_score_df_dict['task'].append(task)\n",
    "            aggregate_score_df_dict['score'].append(score)\n",
    "            \n",
    "    aggregate_score_df  = pd.DataFrame(aggregate_score_df_dict)     \n",
    "    aggregate_score_df.sort_values(by=['score'], inplace=True)\n",
    "    return aggregate_score_df\n",
    "    \n",
    "    \n",
    "aggregate_score_df = aggregate_scores(df_ann_scores_news, df_ann_scores_billsum, df_ann_scores_pubmed)\n",
    "errors_plot(aggregate_score_df)"
   ]
  },
  {
   "cell_type": "code",
   "execution_count": 26,
   "id": "8427d4f2-1993-409d-8a9a-a3e6546495db",
   "metadata": {
    "tags": []
   },
   "outputs": [
    {
     "name": "stdout",
     "output_type": "stream",
     "text": [
      "0.008264462809917356\n",
      "set()\n",
      "0.04285714285714286\n",
      "set()\n",
      "0.0297029702970297\n",
      "set()\n"
     ]
    },
    {
     "data": {
      "text/plain": [
       "<Figure size 504x360 with 0 Axes>"
      ]
     },
     "metadata": {},
     "output_type": "display_data"
    },
    {
     "data": {
      "image/png": "[encoded data removed]",
      "text/plain": [
       "<Figure size 432x288 with 1 Axes>"
      ]
     },
     "metadata": {
      "needs_background": "light"
     },
     "output_type": "display_data"
    }
   ],
   "source": [
    "import seaborn as sns\n",
    "# sns.set_theme(style=\"whitegrid\")\n",
    "import matplotlib.pyplot as plt\n",
    "\n",
    "def make_category_plot(df_cat):\n",
    "    f = plt.figure(figsize=(7, 5))\n",
    "    f = plt.figure()\n",
    "    ax = df_cat.plot(kind='bar', stacked=True,  color = ['#ffd966', '#eeb2d5', '#de66ac', '#c90076', '#ff7449', '#6aa84f'],  \n",
    "                     ax=f.gca(),width=0.28, rot=0)\n",
    "    sns.despine(bottom = False, left =True)\n",
    "    ax.spines['bottom'].set_linewidth(0.5)  # change width\n",
    "    ax.spines['bottom'].set_color('black')\n",
    "    ax.spines['top'].set_visible(False)\n",
    "    ax.spines['right'].set_visible(False)\n",
    "    ax.spines['bottom'].set_visible(True)\n",
    "    ax.spines['left'].set_visible(False)\n",
    "    plt.legend(loc='center left', bbox_to_anchor=(0.5, 1.3))\n",
    "    ax.set(xlabel='', ylabel='Ratio of errors')\n",
    "    plt.savefig('error_categories.pdf', bbox_inches=\"tight\")\n",
    "    plt.show()\n",
    "\n",
    "def plot_categories(df_aggrs, tasks):\n",
    "    \n",
    "    \n",
    "    category_aggregate_scores = { \n",
    "                                 'intrinsic': [], \n",
    "                                 'extrinsic(factual)': [], \n",
    "                                 'extrinsic(factual_outdated)': [],\n",
    "                                 'extrinsic(nonfactual)': [], \n",
    "                                 'mixed': [],\n",
    "                                  'other': [],\n",
    "                                 \n",
    "                            \n",
    "                                }\n",
    "\n",
    "    for df_aggr, task in list(zip(df_aggrs, tasks)):\n",
    "        df_aggr_model = df_aggr[(~df_aggr['error_type_ann1'].isnull()) | (~df_aggr['error_type_ann2'].isnull())]\n",
    "        print(len(df_aggr_model[(df_aggr['error_type_ann1'] == 'other')| (df_aggr['error_type_ann2'] == 'other')])/len(df_aggr_model))\n",
    "        error_categories = []\n",
    "        for idx, row in df_aggr_model.iterrows():\n",
    "            error_category_ann1 = row['error_type_ann1']\n",
    "            error_category_ann2 = row['error_type_ann2']\n",
    "\n",
    "            error_factuality_ann1 = row['error_factuality_ann1']\n",
    "            error_factuality_ann2 = row['error_factuality_ann2']\n",
    "    \n",
    "            errors_found = [row['error_type_ann1'], row['error_type_ann2']]\n",
    "            errors_found = [each for each in errors_found if each.strip() ]\n",
    "            # print(errors_found)\n",
    "            \n",
    "            if len(list(set(errors_found))) > 1:\n",
    "                error_categories.append('mixed')\n",
    "                \n",
    "            elif len(list(set(errors_found))) == 1:\n",
    "                errors_mapped = []\n",
    "                if error_category_ann1.strip():\n",
    "                    if error_factuality_ann1:\n",
    "                        error_category_ann1 = f'{error_category_ann1}({error_factuality_ann1})'\n",
    "                    errors_mapped.append(error_category_ann1)\n",
    "                \n",
    "                if error_category_ann2.strip() :\n",
    "                    if error_factuality_ann2:\n",
    "                        error_category_ann2 = f'{error_category_ann2}({error_factuality_ann2})'\n",
    "                    errors_mapped.append(error_category_ann2)\n",
    "                    \n",
    "                \n",
    "                error_categories += list(set(errors_mapped))\n",
    "        \n",
    "        print(set(error_categories) - set(category_aggregate_scores))\n",
    "        for category in category_aggregate_scores:\n",
    "            \n",
    "            score = error_categories.count(category)/len(error_categories)\n",
    "            category_aggregate_scores[category].append(score)\n",
    "        \n",
    "    category_aggregate_scores['tasks'] = tasks\n",
    "    # category_aggregate_scores['model'] = df_aggr['system_id'].values\n",
    "   \n",
    "    df_cat = pd.DataFrame(category_aggregate_scores, index = tasks)\n",
    "    make_category_plot(df_cat)\n",
    "\n",
    "plot_categories([df_ann_news, df_ann_billsum, df_ann_pubmed], ['News', 'Billsum', 'Pubmed' ])"
   ]
  },
  {
   "cell_type": "code",
   "execution_count": null,
   "id": "11ed9c57-199e-448b-9d8d-3db40decbef5",
   "metadata": {},
   "outputs": [],
   "source": []
  }
 ],
 "metadata": {
  "kernelspec": {
   "display_name": "llm",
   "language": "python",
   "name": "llm"
  },
  "language_info": {
   "codemirror_mode": {
    "name": "ipython",
    "version": 3
   },
   "file_extension": ".py",
   "mimetype": "text/x-python",
   "name": "python",
   "nbconvert_exporter": "python",
   "pygments_lexer": "ipython3",
   "version": "3.8.16"
  }
 },
 "nbformat": 4,
 "nbformat_minor": 5
}

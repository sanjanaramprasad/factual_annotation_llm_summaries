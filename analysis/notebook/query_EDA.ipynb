{
 "cells": [
  {
   "cell_type": "code",
   "execution_count": 84,
   "id": "31c54ddb-bcb8-4c0e-a26e-a6784c03aa74",
   "metadata": {
    "tags": []
   },
   "outputs": [],
   "source": [
    "import math \n",
    "import string \n",
    "import re\n",
    "\n",
    "import json \n",
    "\n",
    "import pandas as pd \n",
    "import sqlite3\n",
    "import requests \n",
    "import bs4 "
   ]
  },
  {
   "cell_type": "code",
   "execution_count": 85,
   "id": "f4864650-8da2-47dd-97d5-336da38dc187",
   "metadata": {
    "tags": []
   },
   "outputs": [],
   "source": [
    "from query_config import pubmed_query_map"
   ]
  },
  {
   "cell_type": "code",
   "execution_count": 86,
   "id": "57ea9b6f-148a-4ab0-a648-b4bdeff927bf",
   "metadata": {
    "tags": []
   },
   "outputs": [
    {
     "data": {
      "text/plain": [
       "46"
      ]
     },
     "execution_count": 86,
     "metadata": {},
     "output_type": "execute_result"
    }
   ],
   "source": [
    "len(pubmed_query_map)"
   ]
  },
  {
   "cell_type": "code",
   "execution_count": 87,
   "id": "920da4a1-eb11-40a0-8ef0-d7b173d05432",
   "metadata": {
    "tags": []
   },
   "outputs": [],
   "source": [
    "\n",
    "def connect_to_db(db_path):\n",
    "    conn = sqlite3.connect(db_path)\n",
    "    c = conn.cursor()\n",
    "    return conn, c "
   ]
  },
  {
   "cell_type": "code",
   "execution_count": 228,
   "id": "cce3ec16-e24e-476d-bb0e-8d1fa446407d",
   "metadata": {
    "tags": []
   },
   "outputs": [],
   "source": [
    "parent_path = '/home/ramprasad.sa'\n",
    "db_path = f'{parent_path}/human_annotations_factuality/XSUM_CNN/set1/annotated/news_summaries_set1_final.db'\n",
    "conn, c = connect_to_db(db_path)\n",
    "df_annotations = pd.read_sql('SELECT * from label', conn)\n",
    "articles = list(set(df_annotations['article'].values))\n",
    "articles = sorted(articles)\n"
   ]
  },
  {
   "cell_type": "code",
   "execution_count": 96,
   "id": "1d5f9730-a8b1-41b3-b955-f04e00c3513f",
   "metadata": {
    "tags": []
   },
   "outputs": [
    {
     "data": {
      "text/html": [
       "<div>\n",
       "<style scoped>\n",
       "    .dataframe tbody tr th:only-of-type {\n",
       "        vertical-align: middle;\n",
       "    }\n",
       "\n",
       "    .dataframe tbody tr th {\n",
       "        vertical-align: top;\n",
       "    }\n",
       "\n",
       "    .dataframe thead th {\n",
       "        text-align: right;\n",
       "    }\n",
       "</style>\n",
       "<table border=\"1\" class=\"dataframe\">\n",
       "  <thead>\n",
       "    <tr style=\"text-align: right;\">\n",
       "      <th></th>\n",
       "      <th>uuid</th>\n",
       "      <th>user_id</th>\n",
       "      <th>summary_uuid</th>\n",
       "      <th>summ_id</th>\n",
       "      <th>system_id</th>\n",
       "      <th>label_type</th>\n",
       "      <th>summary</th>\n",
       "      <th>nonfactual_sentences</th>\n",
       "      <th>article</th>\n",
       "    </tr>\n",
       "  </thead>\n",
       "  <tbody>\n",
       "    <tr>\n",
       "      <th>68</th>\n",
       "      <td>69</td>\n",
       "      <td>ann_krcnbm</td>\n",
       "      <td>515677b3-58ae-4e33-b89f-a7e1b6659ce4_gpt3_gen</td>\n",
       "      <td>billsum_generic</td>\n",
       "      <td>gpt3</td>\n",
       "      <td>non_factual</td>\n",
       "      <td>The Social Security Act has been amended to re...</td>\n",
       "      <td>The Social Security Act has been amended to re...</td>\n",
       "      <td>SECTION 1. AMENDMENT.\\r\\n\\r\\n    Section 403 o...</td>\n",
       "    </tr>\n",
       "    <tr>\n",
       "      <th>176</th>\n",
       "      <td>177</td>\n",
       "      <td>ann_hguilf</td>\n",
       "      <td>515677b3-58ae-4e33-b89f-a7e1b6659ce4_gpt3_gen</td>\n",
       "      <td>billsum_generic</td>\n",
       "      <td>gpt3</td>\n",
       "      <td>non_factual</td>\n",
       "      <td>The Social Security Act has been amended to re...</td>\n",
       "      <td>The amendment also requires that general welfa...</td>\n",
       "      <td>SECTION 1. AMENDMENT.\\r\\n\\r\\n    Section 403 o...</td>\n",
       "    </tr>\n",
       "  </tbody>\n",
       "</table>\n",
       "</div>"
      ],
      "text/plain": [
       "     uuid     user_id                                   summary_uuid   \n",
       "68     69  ann_krcnbm  515677b3-58ae-4e33-b89f-a7e1b6659ce4_gpt3_gen  \\\n",
       "176   177  ann_hguilf  515677b3-58ae-4e33-b89f-a7e1b6659ce4_gpt3_gen   \n",
       "\n",
       "             summ_id system_id   label_type   \n",
       "68   billsum_generic      gpt3  non_factual  \\\n",
       "176  billsum_generic      gpt3  non_factual   \n",
       "\n",
       "                                               summary   \n",
       "68   The Social Security Act has been amended to re...  \\\n",
       "176  The Social Security Act has been amended to re...   \n",
       "\n",
       "                                  nonfactual_sentences   \n",
       "68   The Social Security Act has been amended to re...  \\\n",
       "176  The amendment also requires that general welfa...   \n",
       "\n",
       "                                               article  \n",
       "68   SECTION 1. AMENDMENT.\\r\\n\\r\\n    Section 403 o...  \n",
       "176  SECTION 1. AMENDMENT.\\r\\n\\r\\n    Section 403 o...  "
      ]
     },
     "execution_count": 96,
     "metadata": {},
     "output_type": "execute_result"
    }
   ],
   "source": [
    "df_annotations[df_annotations['summary_uuid'] == '515677b3-58ae-4e33-b89f-a7e1b6659ce4_gpt3_gen']\n",
    "\n",
    "      "
   ]
  },
  {
   "cell_type": "code",
   "execution_count": 280,
   "id": "e93738f7-8ff7-46a1-b58a-649122bc5e01",
   "metadata": {
    "tags": []
   },
   "outputs": [
    {
     "name": "stderr",
     "output_type": "stream",
     "text": [
      "Using custom data configuration default\n",
      "Reusing dataset billsum (/scratch/ramprasad.sa/huggingface_datasets/billsum/default/3.0.0/d1e95173aed3acb71327864be74ead49b578522e4c7206048b2f2e5351b57959)\n"
     ]
    },
    {
     "ename": "IndexError",
     "evalue": "list index out of range",
     "output_type": "error",
     "traceback": [
      "\u001b[0;31m---------------------------------------------------------------------------\u001b[0m",
      "\u001b[0;31mIndexError\u001b[0m                                Traceback (most recent call last)",
      "Cell \u001b[0;32mIn[280], line 27\u001b[0m\n\u001b[1;32m     23\u001b[0m         \u001b[38;5;28;01mreturn\u001b[39;00m \u001b[38;5;28;01mNone\u001b[39;00m\n\u001b[1;32m     26\u001b[0m domain_title_config \u001b[38;5;241m=\u001b[39m {}\n\u001b[0;32m---> 27\u001b[0m \u001b[38;5;28;01mfor\u001b[39;00m article \u001b[38;5;129;01min\u001b[39;00m [\u001b[43marticles\u001b[49m\u001b[43m[\u001b[49m\u001b[38;5;241;43m52\u001b[39;49m\u001b[43m]\u001b[49m]:\n\u001b[1;32m     28\u001b[0m     df_art \u001b[38;5;241m=\u001b[39m df_annotations[df_annotations[\u001b[38;5;124m'\u001b[39m\u001b[38;5;124marticle\u001b[39m\u001b[38;5;124m'\u001b[39m] \u001b[38;5;241m==\u001b[39m article]\n\u001b[1;32m     29\u001b[0m     summary_uuids \u001b[38;5;241m=\u001b[39m \u001b[38;5;28mlist\u001b[39m(\u001b[38;5;28mset\u001b[39m(df_art[\u001b[38;5;124m'\u001b[39m\u001b[38;5;124msummary_uuid\u001b[39m\u001b[38;5;124m'\u001b[39m]\u001b[38;5;241m.\u001b[39mvalues))\n",
      "\u001b[0;31mIndexError\u001b[0m: list index out of range"
     ]
    }
   ],
   "source": [
    "from datasets import load_dataset\n",
    "from nltk.tokenize import sent_tokenize\n",
    "\n",
    "dataset = load_dataset(\"billsum\", split=\"test\", cache_dir = '/scratch/ramprasad.sa/huggingface_datasets')\n",
    "\n",
    "def get_title(phrase):\n",
    "    phrase = f'''{phrase}'''\n",
    "    # print(phrase)\n",
    "    all_titles = []\n",
    "    for each in dataset:\n",
    "        txt = each['text']\n",
    "        txt =  txt.replace('\\n', ' ').replace('\\r', '')\n",
    "        if phrase.strip() == txt.strip():\n",
    "            all_titles.append(each['title'])\n",
    "            # print('Title', each['title'])\n",
    "            # print('Summary', each['summary'])\n",
    "            # print(each['text'].lower())\n",
    "            \n",
    "            # print('**'*13)\n",
    "    if len(all_titles) == 1:\n",
    "        return all_titles[0]\n",
    "    else:\n",
    "        return None\n",
    "        \n",
    "\n",
    "domain_title_config = {}\n",
    "for article in [articles[52]]:\n",
    "    df_art = df_annotations[df_annotations['article'] == article]\n",
    "    summary_uuids = list(set(df_art['summary_uuid'].values))\n",
    "    article = article.replace('\\n', ' ').replace('\\r', '')\n",
    "    # title = get_title(article)\n",
    "    # if title:\n",
    "    #     domain_title_config[title] = summary_uuid\n",
    "    # else:\n",
    "    #     print(summary_uuids)\n",
    "    print(list(set(df_art['summary_uuid'].values)))\n",
    "    print(article)"
   ]
  },
  {
   "cell_type": "code",
   "execution_count": null,
   "id": "253fd3b6-7f48-4499-8dc3-ec4d56925c42",
   "metadata": {},
   "outputs": [],
   "source": [
    "dataset[0]\n"
   ]
  },
  {
   "cell_type": "code",
   "execution_count": 52,
   "id": "11359472-dbb8-4116-aed9-64ffa4ae905a",
   "metadata": {
    "tags": []
   },
   "outputs": [],
   "source": [
    "news_quer_map = {\n",
    "    \n",
    "}"
   ]
  },
  {
   "cell_type": "code",
   "execution_count": 84,
   "id": "01850500-7d2d-43bf-9796-4087b7ef7947",
   "metadata": {
    "tags": []
   },
   "outputs": [
    {
     "data": {
      "text/plain": [
       "Dataset({\n",
       "    features: ['text', 'summary', 'title'],\n",
       "    num_rows: 3269\n",
       "})"
      ]
     },
     "execution_count": 84,
     "metadata": {},
     "output_type": "execute_result"
    }
   ],
   "source": [
    "dataset"
   ]
  },
  {
   "cell_type": "code",
   "execution_count": 93,
   "id": "039e82d2-be33-4cb1-a63c-cd626d66adde",
   "metadata": {},
   "outputs": [],
   "source": [
    "# list(zip(df_annotations['summary_uuid'].values, df_annotations['article'].values))"
   ]
  },
  {
   "cell_type": "code",
   "execution_count": 94,
   "id": "73da9ba2-7528-4272-92be-5965f96ba7ce",
   "metadata": {
    "tags": []
   },
   "outputs": [],
   "source": [
    "# query_map = {\n",
    "#     '6662e68fa9d78198ba62bc347bfedd63dd9c6510_gpt3_gen': 'https://c4-search.apps.allenai.org/?q=BMW+road+rage+AND+east+London+AND+shirtless+man',\n",
    "    \n",
    "#     '6662e68fa9d78198ba62bc347bfedd63dd9c6510_flant5_gen': 'https://c4-search.apps.allenai.org/?q=BMW+road+rage+AND+east+London+AND+shirtless+man',\n",
    "    \n",
    "#     'd987468e948d4b351423c1d30a0db202545e879c_gpt3_gen':'https://c4-search.apps.allenai.org/?q=Anti-Hillary+Clinton+street+art++AND+Brooklyn+AND+presidential+candidacy+announcement',\n",
    "    \n",
    "#     'd987468e948d4b351423c1d30a0db202545e879c_flant5_gen':'https://c4-search.apps.allenai.org/?q=Anti-Hillary+Clinton+street+art++AND+Brooklyn+AND+presidential+candidacy+announcement',\n",
    "    \n",
    "#     '30840160_gpt3_gen': 'https://c4-search.apps.allenai.org/?q=Belgian+anti-terror+raid+AND+Verviers+AND+four+Kalashnikovs',\n",
    "   \n",
    "#     '30840160_flant5_gen': 'https://c4-search.apps.allenai.org/?q=Belgian+anti-terror+raid+AND+Verviers+AND+four+Kalashnikovs',\n",
    "    \n",
    "#     '34699414_flant5_gen': 'https://c4-search.apps.allenai.org/?q=Steve+Silberman+AND+autism+book+AND+Samuel+Johnson+prize',\n",
    "    \n",
    "#     '34699414_gpt3_gen': 'https://c4-search.apps.allenai.org/?q=Steve+Silberman+AND+autism+book+AND+Samuel+Johnson+prize',\n",
    "    \n",
    "#     '34276220_flant5_gen': 'https://c4-search.apps.allenai.org/?q=Gareth+Edwards+AND+knighted+AND+Windsor+Castle',\n",
    "    \n",
    "#     '34276220_gpt3_gen': 'https://c4-search.apps.allenai.org/?q=Gareth+Edwards+AND+knighted+AND+Windsor+Castle',\n",
    "    \n",
    "#     '39188164_flant5_gen': 'https://c4-search.apps.allenai.org/?q=Casey+Anthony+AND+breaks+silence+AND+Orlando+mother',\n",
    "    \n",
    "#     '39188164_gpt3_gen': 'https://c4-search.apps.allenai.org/?q=Casey+Anthony+AND+breaks+silence+AND+Orlando+mother',\n",
    "    \n",
    "#     '29911712_gpt3_gen': 'https://c4-search.apps.allenai.org/?q=Bradford+AND+Hanson+Academy+AND+uniform',\n",
    "    \n",
    "#     '29911712_flant5_gen': 'https://c4-search.apps.allenai.org/?q=Bradford+AND+Hanson+Academy+AND+uniform',\n",
    "    \n",
    "#     '39033879_flant5_gen': 'https://c4-search.apps.allenai.org/?q=Half-back+AND+Marc+Sneyd+AND+contract',\n",
    "    \n",
    "#     '39033879_gpt3_gen': 'https://c4-search.apps.allenai.org/?q=Half-back+AND+Marc+Sneyd+AND+contract',\n",
    "    \n",
    "#     '40825915_flant5_gen': 'https://c4-search.apps.allenai.org/?q=Bristol+Rovers+AND+Ryan+Sweeney+AND+Dominic+Telford',\n",
    "    \n",
    "#     '40825915_gpt3_gen': 'https://c4-search.apps.allenai.org/?q=Bristol+Rovers+AND+Ryan+Sweeney+AND+Dominic+Telford',\n",
    "    \n",
    "#     '30002988_gpt3_gen': 'https://c4-search.apps.allenai.org/?q=Adoption+AND+Leadership+AND+Board+AND+James+AND+Munby+AND+2014',\n",
    "    \n",
    "#     '30002988_flant5_gen': 'https://c4-search.apps.allenai.org/?q=Adoption+AND+Leadership+AND+Board+AND+James+AND+Munby+AND+2014',\n",
    "    \n",
    "#     '8bb0d16f2a8ef6f9592d4e539690e666f798e4ba_gpt3_gen': 'https://c4-search.apps.allenai.org/?q=3D+AND+map+AND+German+AND+Aerospace+AND+Center+AND+Mars',\n",
    "    \n",
    "#     '8bb0d16f2a8ef6f9592d4e539690e666f798e4ba_flant5_gen': 'https://c4-search.apps.allenai.org/?q=3D+AND+map+AND+German+AND+Aerospace+AND+Center+AND+Mars',\n",
    "    \n",
    "#     '32691589_flant5_gen' : 'https://c4-search.apps.allenai.org/?q=Transatlantic+AND+Trade+AND+Investment+AND+Partnership+AND+Obama+AND+new+AND+jobs+AND+atlantic',\n",
    "    \n",
    "#     '32691589_gpt3_gen': 'https://c4-search.apps.allenai.org/?q=Transatlantic+AND+Trade+AND+Investment+AND+Partnership+AND+Obama+AND+new+AND+jobs+AND+atlantic',\n",
    "    \n",
    "#     '2e1b50654f3624bc4e671ffb652694c82a2a4115_gpt3_gen': 'https://c4-search.apps.allenai.org/?q=skin+AND+difficult+AND+tear+AND+collagen+AND+Berkeley',\n",
    "    \n",
    "#     '2e1b50654f3624bc4e671ffb652694c82a2a4115_flant5_gen': 'https://c4-search.apps.allenai.org/?q=skin+AND+difficult+AND+tear+AND+collagen+AND+Berkeley',\n",
    "    \n",
    "    \n",
    "# }"
   ]
  },
  {
   "cell_type": "code",
   "execution_count": null,
   "id": "e0aae0bc-8e64-43d1-9809-6cb9e8b7ef27",
   "metadata": {},
   "outputs": [],
   "source": [
    "# pubmed_query_map = {\n",
    "# #     'ab30d3f8-09fe-4d9a-aaad-b7227cfeab74_flant5_gen': 'https://c4-search.apps.allenai.org/?q=java+AND+linkage+AND+disequilibrium+AND+plotter',\n",
    "    \n",
    "# #     'ab30d3f8-09fe-4d9a-aaad-b7227cfeab74_gpt3_gen': 'https://c4-search.apps.allenai.org/?q=java+AND+linkage+AND+disequilibrium+AND+plotter',\n",
    "    \n",
    "# #     'e6a6a5ec-b9f0-4e48-954f-1207f7750d64_flant5_gen': 'https://c4-search.apps.allenai.org/?q=Induction+AND+temperate+AND+cyanophage+AND+metal',\n",
    "    \n",
    "# #     'e6a6a5ec-b9f0-4e48-954f-1207f7750d64_gpt3_gen': 'https://c4-search.apps.allenai.org/?q=Induction+AND+temperate+AND+cyanophage+AND+metal',\n",
    "    \n",
    "# #     '38689e3f-0932-4a5e-9820-dfc4e8a39bfb_flant5_gen': 'https://c4-search.apps.allenai.org/?q=Enrichment+AND+microbial+AND+anaerobic+AND+oxidation+AND+methane+AND+continuous+AND+high+AND+pressure+AND+bioreactor',\n",
    "    \n",
    "# #     '38689e3f-0932-4a5e-9820-dfc4e8a39bfb_gpt3_gen': 'https://c4-search.apps.allenai.org/?q=Enrichment+AND+microbial+AND+anaerobic+AND+oxidation+AND+methane+AND+continuous+AND+high+AND+pressure+AND+bioreactor',\n",
    "    \n",
    "# #     '22e2e9ef-c515-4f2c-89a2-8e5d8792a530_flant5_gen': 'https://c4-search.apps.allenai.org/?q=+PCR+AND+based+AND+method+AND+high+AND+throughput+AND+prokaryotic+AND+expression+AND+antimicrobial+AND+peptide+AND+genes',\n",
    "    \n",
    "# #     '22e2e9ef-c515-4f2c-89a2-8e5d8792a530_gpt3_gen': 'https://c4-search.apps.allenai.org/?q=+PCR+AND+based+AND+method+AND+high+AND+throughput+AND+prokaryotic+AND+expression+AND+antimicrobial+AND+peptide+AND+genes',\n",
    "    \n",
    "# #     '05bbed11-24ff-4f82-b465-e701377361a9_flant5_gen': 'https://c4-search.apps.allenai.org/?q=SIGMA+AND+System+AND+Integrative+AND+Genomic+AND+Microarray+AND+Analysis+AND+Cancer+AND+Genomes',\n",
    "    \n",
    "# #     '05bbed11-24ff-4f82-b465-e701377361a9_gpt3_gen': 'https://c4-search.apps.allenai.org/?q=SIGMA+AND+System+AND+Integrative+AND+Genomic+AND+Microarray+AND+Analysis+AND+Cancer+AND+Genomes'\n",
    "\n",
    "# # }"
   ]
  }
 ],
 "metadata": {
  "kernelspec": {
   "display_name": "llm",
   "language": "python",
   "name": "llm"
  },
  "language_info": {
   "codemirror_mode": {
    "name": "ipython",
    "version": 3
   },
   "file_extension": ".py",
   "mimetype": "text/x-python",
   "name": "python",
   "nbconvert_exporter": "python",
   "pygments_lexer": "ipython3",
   "version": "3.8.16"
  }
 },
 "nbformat": 4,
 "nbformat_minor": 5
}

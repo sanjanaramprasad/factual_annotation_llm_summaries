{
 "cells": [
  {
   "cell_type": "code",
   "execution_count": 1,
   "id": "16796389-da48-4451-8d1f-def385f544db",
   "metadata": {},
   "outputs": [],
   "source": [
    "from billsum_title_config import billsum_title_map\n",
    "from pubmed_title_config import pubmed_title_map\n",
    "from news_title_config import news_title_map"
   ]
  },
  {
   "cell_type": "code",
   "execution_count": 2,
   "id": "42100665-46db-4b9c-b8ee-1459c41e6897",
   "metadata": {},
   "outputs": [],
   "source": [
    "from models.GPT_3.gpt3 import GPTInference\n",
    "from models.Flan_t5.flan_t5 import FlanT5Inference"
   ]
  },
  {
   "cell_type": "code",
   "execution_count": 3,
   "id": "01eb5c74-3ab6-4a53-b2e1-e22720cf2c4f",
   "metadata": {},
   "outputs": [],
   "source": [
    "gpt_model = GPTInference()\n",
    "flan_t5_model = FlanT5Inference()\n",
    "\n",
    "def make_summaries(title_map, task, uuid_summary_map):\n",
    "    idx = 0\n",
    "    for title, title_ids in title_map.items():\n",
    "        prompt = f'Generate a comprehensive overview of the following topic: {title}'\n",
    "        title_gen_gpt = gpt_model.get_chatgpt_response(prompt)\n",
    "        titlt_gen_flant5 = flan_t5_model.get_response(prompt)\n",
    "        \n",
    "        if idx == 0:\n",
    "            print(titlt_gen_flant5)\n",
    "        idx += 1\n",
    "        for title_id in title_ids:\n",
    "            if 'gpt' in title_id:\n",
    "                uuid_summary_map[title_id] = title_gen_gpt\n",
    "            elif 'flan' in title_id:\n",
    "                uuid_summary_map[title_id] = titlt_gen_flant5\n",
    "    return uuid_summary_map"
   ]
  },
  {
   "cell_type": "code",
   "execution_count": 5,
   "id": "361fc2a9-4cb8-4812-923f-f7174959b457",
   "metadata": {},
   "outputs": [
    {
     "name": "stdout",
     "output_type": "stream",
     "text": [
      "The Responsible Deficit Reduction Act of 1995 (S. 944) was a bill introduced in the United States Congress on December 15, 1995, to reduce the federal deficit.\n"
     ]
    }
   ],
   "source": [
    "uuid_summary_map = {}\n",
    "uuid_summary_map = make_summaries(billsum_title_map, 'billsum', uuid_summary_map)"
   ]
  },
  {
   "cell_type": "code",
   "execution_count": 6,
   "id": "4d54cb03-65f4-4766-9509-7603c1509c78",
   "metadata": {},
   "outputs": [
    {
     "name": "stdout",
     "output_type": "stream",
     "text": [
      "JLIN is a Java based linkage disequilibrium plotter.\n"
     ]
    }
   ],
   "source": [
    "uuid_summary_map = make_summaries(pubmed_title_map, 'pubmed', uuid_summary_map)\n",
    "\n"
   ]
  },
  {
   "cell_type": "code",
   "execution_count": 7,
   "id": "75aa65f9-0a2c-4d31-9d7a-1e0656e1674d",
   "metadata": {},
   "outputs": [
    {
     "name": "stdout",
     "output_type": "stream",
     "text": [
      "Casey Anthony was found not guilty of murdering her two-year-old daughter Caylee in Orlando, Florida on Wednesday. Anthony, who was convicted of killing her daughter in a Florida courtroom, was sentenced to life in prison without the possibility of parole. Anthony was convicted of first-degree murder and sentenced to life in prison without the possibility of parole.\n"
     ]
    }
   ],
   "source": [
    "uuid_summary_map = make_summaries(news_title_map, 'news', uuid_summary_map)"
   ]
  },
  {
   "cell_type": "code",
   "execution_count": 8,
   "id": "79e6336b-eab6-4d81-ae1b-85be99584252",
   "metadata": {},
   "outputs": [],
   "source": [
    "import json\n",
    "with open('uuid_doc_map.json', 'w') as fp:\n",
    "    json.dump(uuid_summary_map, fp)"
   ]
  },
  {
   "cell_type": "code",
   "execution_count": 9,
   "id": "60a1077c-7464-4ed7-8bb6-c4102b29e912",
   "metadata": {},
   "outputs": [
    {
     "data": {
      "text/plain": [
       "299"
      ]
     },
     "execution_count": 9,
     "metadata": {},
     "output_type": "execute_result"
    }
   ],
   "source": [
    "len(uuid_summary_map)"
   ]
  },
  {
   "cell_type": "code",
   "execution_count": 12,
   "id": "e5a6064e-2c59-4d25-a246-35a0cf4741dc",
   "metadata": {},
   "outputs": [
    {
     "name": "stdout",
     "output_type": "stream",
     "text": [
      "Downloading and preparing dataset cnn_dailymail/3.0.0 (download: Unknown size, generated: Unknown size, post-processed: Unknown size, total: Unknown size) to /scratch/ramprasad.sa/huggingface_datasets/cnn_dailymail/3.0.0/3.0.0/0107f7388b5c6fae455a5661bcd134fc22da53ea75852027040d8d1e997f101f...\n"
     ]
    },
    {
     "data": {
      "application/vnd.jupyter.widget-view+json": {
       "model_id": "",
       "version_major": 2,
       "version_minor": 0
      },
      "text/plain": [
       "HBox(children=(FloatProgress(value=1.0, bar_style='info', layout=Layout(width='20px'), max=1.0), HTML(value=''…"
      ]
     },
     "metadata": {},
     "output_type": "display_data"
    },
    {
     "data": {
      "application/vnd.jupyter.widget-view+json": {
       "model_id": "",
       "version_major": 2,
       "version_minor": 0
      },
      "text/plain": [
       "HBox(children=(FloatProgress(value=1.0, bar_style='info', layout=Layout(width='20px'), max=1.0), HTML(value=''…"
      ]
     },
     "metadata": {},
     "output_type": "display_data"
    },
    {
     "data": {
      "application/vnd.jupyter.widget-view+json": {
       "model_id": "",
       "version_major": 2,
       "version_minor": 0
      },
      "text/plain": [
       "HBox(children=(FloatProgress(value=1.0, bar_style='info', layout=Layout(width='20px'), max=1.0), HTML(value=''…"
      ]
     },
     "metadata": {},
     "output_type": "display_data"
    },
    {
     "name": "stdout",
     "output_type": "stream",
     "text": [
      "Dataset cnn_dailymail downloaded and prepared to /scratch/ramprasad.sa/huggingface_datasets/cnn_dailymail/3.0.0/3.0.0/0107f7388b5c6fae455a5661bcd134fc22da53ea75852027040d8d1e997f101f. Subsequent calls will reuse this data.\n"
     ]
    }
   ],
   "source": [
    "from datasets import load_dataset\n",
    "cnndm_dataset = load_dataset(\"ccdv/cnn_dailymail\", '3.0.0', split = 'test', cache_dir = '/scratch/ramprasad.sa/huggingface_datasets')"
   ]
  },
  {
   "cell_type": "code",
   "execution_count": null,
   "id": "e53d82c7-69bb-4fab-b26d-5f648138f572",
   "metadata": {},
   "outputs": [],
   "source": []
  }
 ],
 "metadata": {
  "kernelspec": {
   "display_name": "llm",
   "language": "python",
   "name": "llm"
  },
  "language_info": {
   "codemirror_mode": {
    "name": "ipython",
    "version": 3
   },
   "file_extension": ".py",
   "mimetype": "text/x-python",
   "name": "python",
   "nbconvert_exporter": "python",
   "pygments_lexer": "ipython3",
   "version": "3.8.16"
  }
 },
 "nbformat": 4,
 "nbformat_minor": 5
}

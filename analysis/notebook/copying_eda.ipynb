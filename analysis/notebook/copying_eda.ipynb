{
 "cells": [
  {
   "cell_type": "code",
   "execution_count": 48,
   "id": "53b6aa3f-4ef4-42ce-bb87-c1e89395e6e2",
   "metadata": {
    "tags": []
   },
   "outputs": [],
   "source": [
    "from nltk import ngrams\n",
    "import math \n",
    "import string \n",
    "import re\n",
    "\n",
    "import json \n",
    "\n",
    "import pandas as pd \n",
    "import sqlite3\n",
    "import requests \n",
    "import bs4 \n",
    "import query_config as query_config\n",
    "\n",
    "# sentence = 'this is a foo bar sentences and I want to ngramize it'\n",
    "\n",
    "# n = 6\n",
    "# sixgrams = ngrams(sentence.split(), n)\n",
    "\n",
    "# for grams in sixgrams:\n",
    "#   print(grams)"
   ]
  },
  {
   "cell_type": "code",
   "execution_count": 49,
   "id": "f2f275b2-4b7a-4f75-8ccd-e49d7964a1b7",
   "metadata": {
    "tags": []
   },
   "outputs": [],
   "source": [
    "\n",
    "def connect_to_db(db_path):\n",
    "    conn = sqlite3.connect(db_path)\n",
    "    c = conn.cursor()\n",
    "    return conn, c "
   ]
  },
  {
   "cell_type": "code",
   "execution_count": 50,
   "id": "3b607c18-a3e0-4f4b-bff7-a1649229cc1f",
   "metadata": {
    "tags": []
   },
   "outputs": [],
   "source": [
    "def read_db(db_path):\n",
    "    parent_path = '/home/ramprasad.sa'\n",
    "    db_path = f'{parent_path}/{db_path}'\n",
    "    conn, c = connect_to_db(db_path)\n",
    "    df_annotations = pd.read_sql('SELECT * from label', conn)\n",
    "    return df_annotations"
   ]
  },
  {
   "cell_type": "code",
   "execution_count": 51,
   "id": "e7932a53-5712-45e3-9a9c-0c3521bb7cab",
   "metadata": {
    "tags": []
   },
   "outputs": [
    {
     "data": {
      "text/html": [
       "<div>\n",
       "<style scoped>\n",
       "    .dataframe tbody tr th:only-of-type {\n",
       "        vertical-align: middle;\n",
       "    }\n",
       "\n",
       "    .dataframe tbody tr th {\n",
       "        vertical-align: top;\n",
       "    }\n",
       "\n",
       "    .dataframe thead th {\n",
       "        text-align: right;\n",
       "    }\n",
       "</style>\n",
       "<table border=\"1\" class=\"dataframe\">\n",
       "  <thead>\n",
       "    <tr style=\"text-align: right;\">\n",
       "      <th></th>\n",
       "      <th>uuid</th>\n",
       "      <th>user_id</th>\n",
       "      <th>summary_uuid</th>\n",
       "      <th>summ_id</th>\n",
       "      <th>system_id</th>\n",
       "      <th>label_type</th>\n",
       "      <th>summary</th>\n",
       "      <th>nonfactual_sentences</th>\n",
       "      <th>article</th>\n",
       "    </tr>\n",
       "  </thead>\n",
       "  <tbody>\n",
       "    <tr>\n",
       "      <th>0</th>\n",
       "      <td>1</td>\n",
       "      <td>sanjana</td>\n",
       "      <td>044200e5-f15a-44e2-a77a-e850e8792891_flant5_gen</td>\n",
       "      <td>billsum_generic</td>\n",
       "      <td>flant5</td>\n",
       "      <td>factual</td>\n",
       "      <td>Veterans Back and Spinal Therapy Act</td>\n",
       "      <td></td>\n",
       "      <td>SECTION 1. SHORT TITLE.\\r\\n\\r\\n    This Act ma...</td>\n",
       "    </tr>\n",
       "    <tr>\n",
       "      <th>1</th>\n",
       "      <td>2</td>\n",
       "      <td>sanjana</td>\n",
       "      <td>044200e5-f15a-44e2-a77a-e850e8792891_gpt3_gen</td>\n",
       "      <td>billsum_generic</td>\n",
       "      <td>gpt3</td>\n",
       "      <td>factual</td>\n",
       "      <td>The \"Veterans Back and Spinal Therapy Act\" is ...</td>\n",
       "      <td></td>\n",
       "      <td>SECTION 1. SHORT TITLE.\\r\\n\\r\\n    This Act ma...</td>\n",
       "    </tr>\n",
       "    <tr>\n",
       "      <th>2</th>\n",
       "      <td>3</td>\n",
       "      <td>sanjana</td>\n",
       "      <td>09484b42-bbf4-4225-906e-d88653ca5c72_flant5_gen</td>\n",
       "      <td>billsum_generic</td>\n",
       "      <td>flant5</td>\n",
       "      <td>factual</td>\n",
       "      <td>To amend the Federal Food, Drug, and Cosmetic ...</td>\n",
       "      <td></td>\n",
       "      <td>SECTION 1. SHORT TITLE.\\r\\n    This Act may be...</td>\n",
       "    </tr>\n",
       "    <tr>\n",
       "      <th>3</th>\n",
       "      <td>4</td>\n",
       "      <td>sanjana</td>\n",
       "      <td>09484b42-bbf4-4225-906e-d88653ca5c72_gpt3_gen</td>\n",
       "      <td>billsum_generic</td>\n",
       "      <td>gpt3</td>\n",
       "      <td>factual</td>\n",
       "      <td>The Improving Regulatory Transparency for New ...</td>\n",
       "      <td></td>\n",
       "      <td>SECTION 1. SHORT TITLE.\\r\\n    This Act may be...</td>\n",
       "    </tr>\n",
       "    <tr>\n",
       "      <th>4</th>\n",
       "      <td>5</td>\n",
       "      <td>sanjana</td>\n",
       "      <td>0dbcdcc5-7e3d-47aa-9c03-aea7a6734246_flant5_gen</td>\n",
       "      <td>billsum_generic</td>\n",
       "      <td>flant5</td>\n",
       "      <td>factual</td>\n",
       "      <td>A bill to establish the Oil Region National He...</td>\n",
       "      <td></td>\n",
       "      <td>SECTION 1. SHORT TITLE; DEFINITIONS.\\r\\n\\r\\n  ...</td>\n",
       "    </tr>\n",
       "  </tbody>\n",
       "</table>\n",
       "</div>"
      ],
      "text/plain": [
       "   uuid  user_id                                     summary_uuid   \n",
       "0     1  sanjana  044200e5-f15a-44e2-a77a-e850e8792891_flant5_gen  \\\n",
       "1     2  sanjana    044200e5-f15a-44e2-a77a-e850e8792891_gpt3_gen   \n",
       "2     3  sanjana  09484b42-bbf4-4225-906e-d88653ca5c72_flant5_gen   \n",
       "3     4  sanjana    09484b42-bbf4-4225-906e-d88653ca5c72_gpt3_gen   \n",
       "4     5  sanjana  0dbcdcc5-7e3d-47aa-9c03-aea7a6734246_flant5_gen   \n",
       "\n",
       "           summ_id system_id label_type   \n",
       "0  billsum_generic    flant5    factual  \\\n",
       "1  billsum_generic      gpt3    factual   \n",
       "2  billsum_generic    flant5    factual   \n",
       "3  billsum_generic      gpt3    factual   \n",
       "4  billsum_generic    flant5    factual   \n",
       "\n",
       "                                             summary nonfactual_sentences   \n",
       "0               Veterans Back and Spinal Therapy Act                       \\\n",
       "1  The \"Veterans Back and Spinal Therapy Act\" is ...                        \n",
       "2  To amend the Federal Food, Drug, and Cosmetic ...                        \n",
       "3  The Improving Regulatory Transparency for New ...                        \n",
       "4  A bill to establish the Oil Region National He...                        \n",
       "\n",
       "                                             article  \n",
       "0  SECTION 1. SHORT TITLE.\\r\\n\\r\\n    This Act ma...  \n",
       "1  SECTION 1. SHORT TITLE.\\r\\n\\r\\n    This Act ma...  \n",
       "2  SECTION 1. SHORT TITLE.\\r\\n    This Act may be...  \n",
       "3  SECTION 1. SHORT TITLE.\\r\\n    This Act may be...  \n",
       "4  SECTION 1. SHORT TITLE; DEFINITIONS.\\r\\n\\r\\n  ...  "
      ]
     },
     "execution_count": 51,
     "metadata": {},
     "output_type": "execute_result"
    }
   ],
   "source": [
    "\n",
    "db_path = 'human_annotations_factuality/billsum/set1/annotated/billsum_summaries_set1.db'\n",
    "\n",
    "df_annotations = read_db(db_path)\n",
    "df_annotations.head()"
   ]
  },
  {
   "cell_type": "code",
   "execution_count": 68,
   "id": "dd89153e-a055-4906-92b2-c2b9b9b52fe7",
   "metadata": {
    "tags": []
   },
   "outputs": [],
   "source": [
    "from scipy import stats\n",
    "def get_copy_scores(df_annotations):\n",
    "    unique_models = list(set(df_annotations['model']))\n",
    "    for model in unique_models:\n",
    "        df_annotations_model = df_annotations[df_annotations['model'] == model]\n",
    "        three_gram_overlaps = []\n",
    "        four_gram_overlaps = []\n",
    "        five_gram_overlaps = []\n",
    "        non_factual_sents_scores = df_annotations_model['non_factual_sents'].values\n",
    "        for idx, row in df_annotations_model.iterrows():\n",
    "            doc = row['article']\n",
    "            summary = row['summary']\n",
    "    \n",
    "            for n in range(3,6):\n",
    "                doc_ngrams = [each for each in ngrams(doc.split(), n)]\n",
    "                summary_ngrams = [each for each in ngrams(summary.split(), n)]\n",
    "                # print(summary_ngrams)\n",
    "                n_overlap_perc = 0\n",
    "                if summary_ngrams:\n",
    "                    n_overlap_perc = len(set(doc_ngrams).intersection(set(summary_ngrams)))/len(set(summary_ngrams))\n",
    "                if n == 3:\n",
    "                    three_gram_overlaps.append(n_overlap_perc)\n",
    "                elif n == 4:\n",
    "                    four_gram_overlaps.append(n_overlap_perc)\n",
    "                else:\n",
    "                    five_gram_overlaps.append(n_overlap_perc)\n",
    "        print(len(three_gram_overlaps), len(non_factual_sents_scores))\n",
    "        print('MODEL: ', model)\n",
    "        print('THREE GRAM: ', np.mean(three_gram_overlaps), stats.spearmanr(non_factual_sents_scores, three_gram_overlaps ))\n",
    "        print('FOUR GRAM: ', np.mean(four_gram_overlaps), stats.spearmanr(non_factual_sents_scores, four_gram_overlaps ))\n",
    "        print('FIVE GRAM: ', np.mean(five_gram_overlaps), stats.spearmanr(non_factual_sents_scores, four_gram_overlaps ))\n",
    "        print('==='*13)"
   ]
  },
  {
   "cell_type": "code",
   "execution_count": 77,
   "id": "13982431-aeb6-43c3-8614-ffc089e8e262",
   "metadata": {
    "tags": []
   },
   "outputs": [
    {
     "name": "stdout",
     "output_type": "stream",
     "text": [
      "50 50\n",
      "MODEL:  gpt3\n",
      "THREE GRAM:  0.3172436066891092 SignificanceResult(statistic=0.2305411788429308, pvalue=0.10724050601566602)\n",
      "FOUR GRAM:  0.22513467986574492 SignificanceResult(statistic=0.17447113141583717, pvalue=0.22558355471834612)\n",
      "FIVE GRAM:  0.16639212774477893 SignificanceResult(statistic=0.17447113141583717, pvalue=0.22558355471834612)\n",
      "=======================================\n",
      "50 50\n",
      "MODEL:  flant5\n",
      "THREE GRAM:  0.6246517508780146 SignificanceResult(statistic=-0.3211204872302476, pvalue=0.022976639152992973)\n",
      "FOUR GRAM:  0.5120863326895289 SignificanceResult(statistic=-0.27876959521376965, pvalue=0.04994950257917889)\n",
      "FIVE GRAM:  0.4476264710220774 SignificanceResult(statistic=-0.27876959521376965, pvalue=0.04994950257917889)\n",
      "=======================================\n"
     ]
    }
   ],
   "source": [
    "df_errors = pd.read_csv('/home/ramprasad.sa/factual_annotation_llm_summaries/analysis/notebook/error_scores_pubmed.csv')\n",
    "get_copy_scores(df_errors)"
   ]
  },
  {
   "cell_type": "code",
   "execution_count": 78,
   "id": "b0835cbe-d524-4624-951b-d46b6de805df",
   "metadata": {
    "tags": []
   },
   "outputs": [],
   "source": [
    "import seaborn as sns\n",
    "import matplotlib.pyplot as plt"
   ]
  },
  {
   "cell_type": "code",
   "execution_count": 153,
   "id": "bbf4b919-1c92-4bf9-8c81-7c43b1e1a1a8",
   "metadata": {},
   "outputs": [
    {
     "data": {
      "text/html": [
       "<div>\n",
       "<style scoped>\n",
       "    .dataframe tbody tr th:only-of-type {\n",
       "        vertical-align: middle;\n",
       "    }\n",
       "\n",
       "    .dataframe tbody tr th {\n",
       "        vertical-align: top;\n",
       "    }\n",
       "\n",
       "    .dataframe thead th {\n",
       "        text-align: right;\n",
       "    }\n",
       "</style>\n",
       "<table border=\"1\" class=\"dataframe\">\n",
       "  <thead>\n",
       "    <tr style=\"text-align: right;\">\n",
       "      <th></th>\n",
       "      <th>inconsistencies</th>\n",
       "      <th>domain</th>\n",
       "      <th>model</th>\n",
       "    </tr>\n",
       "  </thead>\n",
       "  <tbody>\n",
       "    <tr>\n",
       "      <th>0</th>\n",
       "      <td>0.22</td>\n",
       "      <td>news</td>\n",
       "      <td>gpt3</td>\n",
       "    </tr>\n",
       "    <tr>\n",
       "      <th>1</th>\n",
       "      <td>0.30</td>\n",
       "      <td>news</td>\n",
       "      <td>flant5</td>\n",
       "    </tr>\n",
       "    <tr>\n",
       "      <th>2</th>\n",
       "      <td>0.21</td>\n",
       "      <td>legal</td>\n",
       "      <td>gpt3</td>\n",
       "    </tr>\n",
       "    <tr>\n",
       "      <th>3</th>\n",
       "      <td>0.23</td>\n",
       "      <td>legal</td>\n",
       "      <td>flant5</td>\n",
       "    </tr>\n",
       "    <tr>\n",
       "      <th>4</th>\n",
       "      <td>0.02</td>\n",
       "      <td>biomed</td>\n",
       "      <td>gpt3</td>\n",
       "    </tr>\n",
       "    <tr>\n",
       "      <th>5</th>\n",
       "      <td>0.06</td>\n",
       "      <td>biomed</td>\n",
       "      <td>flant5</td>\n",
       "    </tr>\n",
       "  </tbody>\n",
       "</table>\n",
       "</div>"
      ],
      "text/plain": [
       "   inconsistencies  domain   model\n",
       "0             0.22    news    gpt3\n",
       "1             0.30    news  flant5\n",
       "2             0.21   legal    gpt3\n",
       "3             0.23   legal  flant5\n",
       "4             0.02  biomed    gpt3\n",
       "5             0.06  biomed  flant5"
      ]
     },
     "execution_count": 153,
     "metadata": {},
     "output_type": "execute_result"
    }
   ],
   "source": [
    "df_dict = {'copying': [0.28, 0.22, 0.42, 0.30], 'model': ['gpt3', 'gpt3', 'flant5', 'flant5'], 'domain':['news','news', 'news','news'], \n",
    "           'var': ['copy', 'inc', 'copy', 'inc']}\n",
    "\n",
    "\n",
    "# df_dict = {'scores': [0.28, 0.42, 0.22, 0.30, 0.28, 0.31],\n",
    "#            'domain': ['news', 'news', 'news', 'news', 'legal', 'legal'],\n",
    "#            'model': ['gpt3', 'flant5', 'gpt3', 'flant5', 'gpt3', 'flant5'],\n",
    "#            'var': ['copy (news)' , 'copy (news)', 'inacc (news)', 'inacc (news)', 'copy', 'copy']}\n",
    "df_dict_1 = {\n",
    "            'scores': [0.28, 0.42, 0.28, 0.41, 0.31, 0.62],\n",
    "           'domain': ['news', 'news', 'legal', 'legal', 'biomed', 'biomed'],\n",
    "           'model': ['gpt3', 'flant5', 'gpt3', 'flant5', 'gpt3', 'flant5'],\n",
    "           \n",
    "}\n",
    "\n",
    "df_dict_2 = {\n",
    "            'inconsistencies': [0.22, 0.30, 0.21, 0.23, 0.02, 0.06],\n",
    "           'domain': ['news', 'news', 'legal', 'legal', 'biomed', 'biomed'],\n",
    "           'model': ['gpt3', 'flant5', 'gpt3', 'flant5', 'gpt3', 'flant5'],\n",
    "           \n",
    "}\n",
    "df_1 = pd.DataFrame(df_dict_1)\n",
    "df_2 = pd.DataFrame(df_dict_2)\n",
    "df_2"
   ]
  },
  {
   "cell_type": "code",
   "execution_count": 149,
   "id": "a08dd929-4f53-4bca-80e7-baa47186efa8",
   "metadata": {
    "tags": []
   },
   "outputs": [],
   "source": [
    "# stats.spearmanr(df_1['scores'].values, df_2['inconsistencies'].values )"
   ]
  },
  {
   "cell_type": "code",
   "execution_count": 156,
   "id": "ebf8bfcb-c047-4ff4-bf1a-63ae337a2b35",
   "metadata": {
    "tags": []
   },
   "outputs": [
    {
     "data": {
      "text/plain": [
       "<seaborn.axisgrid.FacetGrid at 0x2acfdffe7400>"
      ]
     },
     "execution_count": 156,
     "metadata": {},
     "output_type": "execute_result"
    },
    {
     "data": {
      "image/png": "[encoded data removed]",
      "text/plain": [
       "<Figure size 433.25x360 with 1 Axes>"
      ]
     },
     "metadata": {
      "needs_background": "light"
     },
     "output_type": "display_data"
    }
   ],
   "source": [
    "sns.catplot(\n",
    "    data=df_1, kind=\"bar\",\n",
    "    x=\"model\", y=\"scores\", hue=\"domain\",\n",
    "    errorbar=\"sd\", palette=\"colorblind\"\n",
    ")\n"
   ]
  },
  {
   "cell_type": "code",
   "execution_count": 122,
   "id": "c64ebc2b-e519-4a9f-9559-f08bff3500d1",
   "metadata": {
    "tags": []
   },
   "outputs": [
    {
     "data": {
      "text/plain": [
       "[('gpt3', 'copy'), ('flant5', 'copy'), ('gpt3', 'inacc'), ('flant5', 'inacc')]"
      ]
     },
     "execution_count": 122,
     "metadata": {},
     "output_type": "execute_result"
    }
   ],
   "source": [
    "hue_filter = list(df[['model', 'var']].apply(tuple, axis=1).values)\n",
    "hue_filter = ['"
   ]
  },
  {
   "cell_type": "code",
   "execution_count": null,
   "id": "abb605b3-fb4b-4a63-806b-4213d85bb33e",
   "metadata": {},
   "outputs": [],
   "source": []
  }
 ],
 "metadata": {
  "kernelspec": {
   "display_name": "llm",
   "language": "python",
   "name": "llm"
  },
  "language_info": {
   "codemirror_mode": {
    "name": "ipython",
    "version": 3
   },
   "file_extension": ".py",
   "mimetype": "text/x-python",
   "name": "python",
   "nbconvert_exporter": "python",
   "pygments_lexer": "ipython3",
   "version": "3.8.16"
  }
 },
 "nbformat": 4,
 "nbformat_minor": 5
}

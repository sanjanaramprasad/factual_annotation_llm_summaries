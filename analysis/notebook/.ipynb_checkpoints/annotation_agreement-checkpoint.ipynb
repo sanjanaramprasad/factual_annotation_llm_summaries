{
 "cells": [
  {
   "cell_type": "code",
   "execution_count": 5,
   "id": "35eda160-16b5-4c51-b6e1-86fbeb0eefd7",
   "metadata": {
    "tags": []
   },
   "outputs": [],
   "source": [
    "import math \n",
    "import string \n",
    "import re\n",
    "\n",
    "import json \n",
    "\n",
    "import pandas as pd \n",
    "import sqlite3\n",
    "import spacy\n",
    "import numpy as np\n",
    "from rouge import Rouge \n",
    "nlp = spacy.load('en_core_web_sm')"
   ]
  },
  {
   "cell_type": "code",
   "execution_count": 7,
   "id": "46563dc2-97d1-4b1f-b780-ebad2add5cb0",
   "metadata": {
    "tags": []
   },
   "outputs": [],
   "source": [
    "annotations_path = '/home/ramprasad.sa/factual_annotation_llm_summaries/annotations'\n",
    "def read_files(task):\n",
    "    df_errors = pd.read_csv(f'{annotations_path}/{task}_annotations_scores.csv')\n",
    "    df_aggreg = pd.read_csv(f'{annotations_path}/{task}_annotations.csv')\n",
    "    return df_aggreg, df_errors\n",
    "\n"
   ]
  },
  {
   "cell_type": "code",
   "execution_count": 13,
   "id": "c4e94850-d517-4171-83cf-0a25039b0e22",
   "metadata": {
    "tags": []
   },
   "outputs": [],
   "source": [
    "def agreement_label(df):\n",
    "    agreement_summ_ids = []\n",
    "    for summid in list(set(df['summary_uuid'])):\n",
    "        df_summ = df[df['summary_uuid'] == summid]\n",
    "        if len(list(set(df_summ['label_type_ann1']))) > 1:\n",
    "            print(summid)\n",
    "\n",
    "# def annotator_agreement_scores(df):\n",
    "    \n",
    "    \n",
    "    \n",
    "    "
   ]
  },
  {
   "cell_type": "code",
   "execution_count": 14,
   "id": "bb9c0c69-02a4-4800-8510-e119c8a66507",
   "metadata": {
    "tags": []
   },
   "outputs": [],
   "source": [
    "df_errors_news, df_aggr_news = read_files('news')"
   ]
  },
  {
   "cell_type": "code",
   "execution_count": 17,
   "id": "31a023fd-f0bf-4413-aac7-5601eb1aa60c",
   "metadata": {
    "tags": []
   },
   "outputs": [
    {
     "data": {
      "text/html": [
       "<div>\n",
       "<style scoped>\n",
       "    .dataframe tbody tr th:only-of-type {\n",
       "        vertical-align: middle;\n",
       "    }\n",
       "\n",
       "    .dataframe tbody tr th {\n",
       "        vertical-align: top;\n",
       "    }\n",
       "\n",
       "    .dataframe thead th {\n",
       "        text-align: right;\n",
       "    }\n",
       "</style>\n",
       "<table border=\"1\" class=\"dataframe\">\n",
       "  <thead>\n",
       "    <tr style=\"text-align: right;\">\n",
       "      <th></th>\n",
       "      <th>Unnamed: 0</th>\n",
       "      <th>summary_uuid</th>\n",
       "      <th>pid</th>\n",
       "      <th>summary</th>\n",
       "      <th>article</th>\n",
       "      <th>summ_id</th>\n",
       "      <th>system_id</th>\n",
       "      <th>nonfactual_sentence</th>\n",
       "      <th>label_type_ann1</th>\n",
       "      <th>label_type_ann2</th>\n",
       "      <th>inaccuracy_severity_ann1</th>\n",
       "      <th>inaccuracy_severity_ann2</th>\n",
       "      <th>error_type_ann1</th>\n",
       "      <th>error_type_ann2</th>\n",
       "      <th>error_factuality_ann1</th>\n",
       "      <th>error_factuality_ann2</th>\n",
       "      <th>comments_ann1</th>\n",
       "      <th>comments_ann2</th>\n",
       "    </tr>\n",
       "  </thead>\n",
       "  <tbody>\n",
       "    <tr>\n",
       "      <th>90</th>\n",
       "      <td>90</td>\n",
       "      <td>40825915_gpt3_gen</td>\n",
       "      <td>['40825915_gpt3_gen_1', '40825915_gpt3_gen_0']</td>\n",
       "      <td>Bristol Rovers have signed Ryan Sweeney and Do...</td>\n",
       "      <td>Sweeney, 20, made 16 appearances for Rovers du...</td>\n",
       "      <td>xsum_generic</td>\n",
       "      <td>gpt3</td>\n",
       "      <td>Bristol Rovers start their League One campaign...</td>\n",
       "      <td>factual</td>\n",
       "      <td>non_factual</td>\n",
       "      <td>NaN</td>\n",
       "      <td>minor</td>\n",
       "      <td>NaN</td>\n",
       "      <td>intrinsic</td>\n",
       "      <td>NaN</td>\n",
       "      <td>NaN</td>\n",
       "      <td>This one is accurate</td>\n",
       "      <td>Unclear if The Gas is a nickname for the Brist...</td>\n",
       "    </tr>\n",
       "    <tr>\n",
       "      <th>91</th>\n",
       "      <td>91</td>\n",
       "      <td>40825915_gpt3_gen</td>\n",
       "      <td>['40825915_gpt3_gen_1', '40825915_gpt3_gen_0']</td>\n",
       "      <td>Bristol Rovers have signed Ryan Sweeney and Do...</td>\n",
       "      <td>Sweeney, 20, made 16 appearances for Rovers du...</td>\n",
       "      <td>xsum_generic</td>\n",
       "      <td>gpt3</td>\n",
       "      <td>Sweeney, named Young Player of the Year last s...</td>\n",
       "      <td>non_factual</td>\n",
       "      <td>non_factual</td>\n",
       "      <td>NaN</td>\n",
       "      <td>minor</td>\n",
       "      <td>NaN</td>\n",
       "      <td>intrinsic</td>\n",
       "      <td>NaN</td>\n",
       "      <td>NaN</td>\n",
       "      <td>NaN</td>\n",
       "      <td>Memorial Stadium is not mentioned in the source.</td>\n",
       "    </tr>\n",
       "  </tbody>\n",
       "</table>\n",
       "</div>"
      ],
      "text/plain": [
       "    Unnamed: 0       summary_uuid   \n",
       "90          90  40825915_gpt3_gen  \\\n",
       "91          91  40825915_gpt3_gen   \n",
       "\n",
       "                                               pid   \n",
       "90  ['40825915_gpt3_gen_1', '40825915_gpt3_gen_0']  \\\n",
       "91  ['40825915_gpt3_gen_1', '40825915_gpt3_gen_0']   \n",
       "\n",
       "                                              summary   \n",
       "90  Bristol Rovers have signed Ryan Sweeney and Do...  \\\n",
       "91  Bristol Rovers have signed Ryan Sweeney and Do...   \n",
       "\n",
       "                                              article       summ_id system_id   \n",
       "90  Sweeney, 20, made 16 appearances for Rovers du...  xsum_generic      gpt3  \\\n",
       "91  Sweeney, 20, made 16 appearances for Rovers du...  xsum_generic      gpt3   \n",
       "\n",
       "                                  nonfactual_sentence label_type_ann1   \n",
       "90  Bristol Rovers start their League One campaign...         factual  \\\n",
       "91  Sweeney, named Young Player of the Year last s...     non_factual   \n",
       "\n",
       "   label_type_ann2 inaccuracy_severity_ann1 inaccuracy_severity_ann2   \n",
       "90     non_factual                      NaN                    minor  \\\n",
       "91     non_factual                      NaN                    minor   \n",
       "\n",
       "   error_type_ann1 error_type_ann2 error_factuality_ann1   \n",
       "90             NaN       intrinsic                   NaN  \\\n",
       "91             NaN       intrinsic                   NaN   \n",
       "\n",
       "   error_factuality_ann2         comments_ann1   \n",
       "90                   NaN  This one is accurate  \\\n",
       "91                   NaN                   NaN   \n",
       "\n",
       "                                        comments_ann2  \n",
       "90  Unclear if The Gas is a nickname for the Brist...  \n",
       "91   Memorial Stadium is not mentioned in the source.  "
      ]
     },
     "execution_count": 17,
     "metadata": {},
     "output_type": "execute_result"
    }
   ],
   "source": [
    "df_errors_news[df_errors_news['summary_uuid'] == '40825915_gpt3_gen']\n",
    "\n"
   ]
  },
  {
   "cell_type": "code",
   "execution_count": 16,
   "id": "0af968f4-02a3-4740-bea8-caaef287fed3",
   "metadata": {
    "tags": []
   },
   "outputs": [
    {
     "name": "stdout",
     "output_type": "stream",
     "text": [
      "40825915_gpt3_gen\n",
      "37653769_gpt3_gen\n"
     ]
    }
   ],
   "source": [
    "agreement_label(df_errors_news)"
   ]
  },
  {
   "cell_type": "code",
   "execution_count": null,
   "id": "7c257edd-82ed-47a1-a679-ee7810991c48",
   "metadata": {},
   "outputs": [],
   "source": []
  }
 ],
 "metadata": {
  "kernelspec": {
   "display_name": "llm",
   "language": "python",
   "name": "llm"
  },
  "language_info": {
   "codemirror_mode": {
    "name": "ipython",
    "version": 3
   },
   "file_extension": ".py",
   "mimetype": "text/x-python",
   "name": "python",
   "nbconvert_exporter": "python",
   "pygments_lexer": "ipython3",
   "version": "3.8.16"
  }
 },
 "nbformat": 4,
 "nbformat_minor": 5
}

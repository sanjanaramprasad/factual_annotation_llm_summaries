{
 "cells": [
  {
   "cell_type": "code",
   "execution_count": 1,
   "id": "4d781874-244a-4747-b594-88f94048deab",
   "metadata": {},
   "outputs": [],
   "source": [
    "import math \n",
    "import string \n",
    "import re\n",
    "\n",
    "import json \n",
    "\n",
    "import pandas as pd \n",
    "import sqlite3\n",
    "import spacy\n",
    "import numpy as np\n",
    "from rouge import Rouge \n",
    "nlp = spacy.load('en_core_web_sm')"
   ]
  },
  {
   "cell_type": "code",
   "execution_count": 2,
   "id": "e3d76329-4193-4a31-b668-08fa0ffe0f38",
   "metadata": {},
   "outputs": [],
   "source": [
    "def read_annotations(task):\n",
    "    df_ann = pd.read_csv(f'/home/ramprasad.sa/factual_annotation_llm_summaries/annotations/{task}_annotations.csv', keep_default_na=False)\n",
    "    df_ann_scores = pd.read_csv(f'/home/ramprasad.sa/factual_annotation_llm_summaries/annotations/{task}_annotation_scores.csv', keep_default_na=False)\n",
    "    return df_ann, df_ann_scores"
   ]
  },
  {
   "cell_type": "code",
   "execution_count": 3,
   "id": "b03b033e-4afe-4aa0-a050-fca92e9c8acd",
   "metadata": {},
   "outputs": [],
   "source": [
    "df_ann_news, df_ann_scores_news = read_annotations('news')\n",
    "df_ann_billsum, df_ann_scores_billsum = read_annotations('billsum')\n",
    "df_ann_pubmed, df_ann_scores_pubmed = read_annotations('pubmed')"
   ]
  },
  {
   "cell_type": "code",
   "execution_count": 4,
   "id": "4d1171dc-9aeb-4604-bf31-f13f5d0bc20a",
   "metadata": {},
   "outputs": [
    {
     "data": {
      "text/plain": [
       "<Figure size 504x360 with 0 Axes>"
      ]
     },
     "metadata": {},
     "output_type": "display_data"
    },
    {
     "data": {
      "image/png": "[encoded data removed]",
      "text/plain": [
       "<Figure size 288x288 with 1 Axes>"
      ]
     },
     "metadata": {
      "needs_background": "light"
     },
     "output_type": "display_data"
    }
   ],
   "source": [
    "import seaborn as sns\n",
    "# sns.set_theme(style=\"whitegrid\")\n",
    "import matplotlib.pyplot as plt\n",
    "\n",
    "\n",
    "\n",
    "def errors_plot(aggregate_score_df):\n",
    "    clrs = []\n",
    "\n",
    "    plt.figure(figsize=(7,5))\n",
    "    ax = sns.catplot(\n",
    "        \n",
    "        data=aggregate_score_df,\n",
    "        kind=\"bar\",\n",
    "        x=\"model\", y=\"score\", hue=\"task\",\n",
    "         palette=sns.color_palette([  '#993299', '#ffa11c', '#073a67', ]),\n",
    "        height= 4,\n",
    "        legend = None\n",
    "\n",
    "    )\n",
    "    sns.despine(bottom = False, left =True)\n",
    "    ax.set(xlabel='', ylabel='Avg proportion of nonfactual sentences')\n",
    "    plt.legend(loc='center left', bbox_to_anchor=(1.0, 1.0))\n",
    "    plt.savefig('prev_errors.pdf', bbox_inches=\"tight\")\n",
    "    return\n",
    "\n",
    "def aggregate_scores(df_ann_scores_news, df_ann_scores_billsum, df_ann_scores_pubmed):\n",
    "    \n",
    "    df_all_scores = pd.concat([df_ann_scores_news, df_ann_scores_billsum, df_ann_scores_pubmed])\n",
    "\n",
    "    aggregate_score_df_dict = {'model': [], 'task': [], 'score': []}\n",
    "    \n",
    "    for task in list(set(df_all_scores['task'].values)):\n",
    "        for model in list(set(df_all_scores['model'].values)):\n",
    "            \n",
    "            df_task_model = df_all_scores[(df_all_scores['task'] == task) & (df_all_scores['model'] == model)]\n",
    "            \n",
    "            score = np.mean(list(df_task_model['score'].values))\n",
    "            \n",
    "            aggregate_score_df_dict['model'].append(model)\n",
    "            aggregate_score_df_dict['task'].append(task)\n",
    "            aggregate_score_df_dict['score'].append(score)\n",
    "            \n",
    "    aggregate_score_df  = pd.DataFrame(aggregate_score_df_dict)     \n",
    "    aggregate_score_df.sort_values(by=['score'], inplace=True)\n",
    "    return aggregate_score_df\n",
    "    \n",
    "    \n",
    "aggregate_score_df = aggregate_scores(df_ann_scores_news, df_ann_scores_billsum, df_ann_scores_pubmed)\n",
    "errors_plot(aggregate_score_df)"
   ]
  },
  {
   "cell_type": "code",
   "execution_count": 7,
   "id": "a2bbedbf-9afc-4e79-a391-b9f0caad6aee",
   "metadata": {},
   "outputs": [
    {
     "name": "stdout",
     "output_type": "stream",
     "text": [
      "0.008264462809917356\n",
      "set()\n",
      "0.04285714285714286\n",
      "set()\n",
      "0.0297029702970297\n",
      "set()\n"
     ]
    },
    {
     "data": {
      "text/plain": [
       "<Figure size 504x360 with 0 Axes>"
      ]
     },
     "metadata": {},
     "output_type": "display_data"
    },
    {
     "data": {
      "image/png": "[encoded data removed]",
      "text/plain": [
       "<Figure size 432x288 with 1 Axes>"
      ]
     },
     "metadata": {
      "needs_background": "light"
     },
     "output_type": "display_data"
    }
   ],
   "source": [
    "import seaborn as sns\n",
    "# sns.set_theme(style=\"whitegrid\")\n",
    "import matplotlib.pyplot as plt\n",
    "\n",
    "def make_category_plot(df_cat):\n",
    "    f = plt.figure(figsize=(7, 5))\n",
    "    f = plt.figure()\n",
    "    ax = df_cat.plot(kind='bar', stacked=True,  color = ['#ffd966', '#eeb2d5', '#de66ac', '#c90076', '#ff7449', '#6aa84f'],  \n",
    "                     ax=f.gca(),width=0.28, rot=0)\n",
    "    sns.despine(bottom = False, left =True)\n",
    "    ax.spines['bottom'].set_linewidth(0.5)  # change width\n",
    "    ax.spines['bottom'].set_color('black')\n",
    "    ax.spines['top'].set_visible(False)\n",
    "    ax.spines['right'].set_visible(False)\n",
    "    ax.spines['bottom'].set_visible(True)\n",
    "    ax.spines['left'].set_visible(False)\n",
    "    plt.legend(loc='center left', bbox_to_anchor=(0.5, 1.3))\n",
    "    ax.set(xlabel='', ylabel='Ratio of errors')\n",
    "    plt.savefig('error_categories.pdf', bbox_inches=\"tight\")\n",
    "    plt.show()\n",
    "\n",
    "def plot_categories(df_aggrs, tasks):\n",
    "    \n",
    "    \n",
    "    category_aggregate_scores = { \n",
    "                                 'intrinsic': [], \n",
    "                                 'extrinsic(factual)': [], \n",
    "                                 'extrinsic(factual_outdated)': [],\n",
    "                                 'extrinsic(nonfactual)': [], \n",
    "                                 'mixed': [],\n",
    "                                  'other': [],\n",
    "                                 \n",
    "                            \n",
    "                                }\n",
    "\n",
    "    for df_aggr, task in list(zip(df_aggrs, tasks)):\n",
    "        df_aggr_model = df_aggr[(~df_aggr['error_type_ann1'].isnull()) | (~df_aggr['error_type_ann2'].isnull())]\n",
    "        print(len(df_aggr_model[(df_aggr['error_type_ann1'] == 'other')| (df_aggr['error_type_ann2'] == 'other')])/len(df_aggr_model))\n",
    "        error_categories = []\n",
    "        for idx, row in df_aggr_model.iterrows():\n",
    "            error_category_ann1 = row['error_type_ann1']\n",
    "            error_category_ann2 = row['error_type_ann2']\n",
    "\n",
    "            error_factuality_ann1 = row['error_factuality_ann1']\n",
    "            error_factuality_ann2 = row['error_factuality_ann2']\n",
    "    \n",
    "            errors_found = [row['error_type_ann1'], row['error_type_ann2']]\n",
    "            errors_found = [each for each in errors_found if each.strip() ]\n",
    "            # print(errors_found)\n",
    "            \n",
    "            if len(list(set(errors_found))) > 1:\n",
    "                error_categories.append('mixed')\n",
    "                \n",
    "            elif len(list(set(errors_found))) == 1:\n",
    "                errors_mapped = []\n",
    "                if error_category_ann1.strip():\n",
    "                    if error_factuality_ann1:\n",
    "                        error_category_ann1 = f'{error_category_ann1}({error_factuality_ann1})'\n",
    "                    errors_mapped.append(error_category_ann1)\n",
    "                \n",
    "                if error_category_ann2.strip() :\n",
    "                    if error_factuality_ann2:\n",
    "                        error_category_ann2 = f'{error_category_ann2}({error_factuality_ann2})'\n",
    "                    errors_mapped.append(error_category_ann2)\n",
    "                    \n",
    "                \n",
    "                error_categories += list(set(errors_mapped))\n",
    "        \n",
    "        print(set(error_categories) - set(category_aggregate_scores))\n",
    "        for category in category_aggregate_scores:\n",
    "            \n",
    "            score = error_categories.count(category)/len(error_categories)\n",
    "            category_aggregate_scores[category].append(score)\n",
    "        \n",
    "    category_aggregate_scores['tasks'] = tasks\n",
    "    # category_aggregate_scores['model'] = df_aggr['system_id'].values\n",
    "   \n",
    "    df_cat = pd.DataFrame(category_aggregate_scores, index = tasks)\n",
    "    make_category_plot(df_cat)\n",
    "\n",
    "plot_categories([df_ann_news, df_ann_billsum, df_ann_pubmed], ['News', 'Billsum', 'Pubmed' ])"
   ]
  },
  {
   "cell_type": "code",
   "execution_count": 9,
   "id": "a4f481a0-092a-4f68-8406-b9e97e3dcc0e",
   "metadata": {},
   "outputs": [
    {
     "name": "stdout",
     "output_type": "stream",
     "text": [
      "NEWS CORRELATION\n",
      "SignificanceResult(statistic=0.6135115923283032, pvalue=1.1507768424332292e-11)\n",
      "BILLSUM CORRELATION\n",
      "SignificanceResult(statistic=0.3794063242200168, pvalue=9.902559085037215e-05)\n",
      "PUBMED CORRELATION\n",
      "SignificanceResult(statistic=0.15741920011087568, pvalue=0.11777766456248408)\n"
     ]
    },
    {
     "data": {
      "image/png": "[encoded data removed]",
      "text/plain": [
       "<Figure size 432x288 with 1 Axes>"
      ]
     },
     "metadata": {
      "needs_background": "light"
     },
     "output_type": "display_data"
    }
   ],
   "source": [
    "from nltk import ngrams\n",
    "from scipy import stats\n",
    "from sklearn.metrics.pairwise import cosine_similarity\n",
    "import math \n",
    "import numpy as np\n",
    "from nltk.tokenize import sent_tokenize\n",
    "from numpy.linalg import norm\n",
    "\n",
    "def copying(df_errors):\n",
    "    ngram_overlap_scores = []\n",
    "    for idx, row in df_errors.iterrows():\n",
    "        article = row['article']\n",
    "        summary = row['summary']\n",
    "        article_3_grams = ngrams(article.split(), 3)\n",
    "        article_3_grams = [each for each in article_3_grams]\n",
    "        \n",
    "        \n",
    "        summary_3_grams = ngrams(summary.split(), 3)\n",
    "        summary_3_grams = [each for each in summary_3_grams]\n",
    "        \n",
    "        n_grams_overlap = list(set(article_3_grams).intersection(set(summary_3_grams)))\n",
    "        perc_overlap = len(n_grams_overlap)/ len(set(summary_3_grams))\n",
    "        ngram_overlap_scores.append(perc_overlap)\n",
    "        \n",
    "    df_errors['ngram_overlap'] = ngram_overlap_scores\n",
    "    return df_errors\n",
    "\n",
    "def get_copying_tendencies(df_errors, task):\n",
    "    print(task.upper())\n",
    "    print('FLANT5', np.mean(df_errors[df_errors['model'] == 'flant5']['ngram_overlap']))\n",
    "    print('GPT3', np.mean(df_errors[df_errors['model'] == 'gpt3']['ngram_overlap']))\n",
    "    print('**'*13)\n",
    "\n",
    "df_ann_scores_news = copying(df_ann_scores_news)\n",
    "df_ann_scores_billsum = copying(df_ann_scores_billsum)\n",
    "df_ann_scores_pubmed = copying(df_ann_scores_pubmed)\n",
    "\n",
    "\n",
    "\n",
    "df_all_scores = pd.concat([df_ann_scores_news, df_ann_scores_billsum, df_ann_scores_pubmed])\n",
    "\n",
    "print('NEWS CORRELATION')\n",
    "fact_scores = [1 - each for each in df_ann_scores_news['score']]\n",
    "print(stats.spearmanr(fact_scores, df_ann_scores_news['ngram_overlap']))\n",
    "\n",
    "print('BILLSUM CORRELATION')\n",
    "fact_scores = [1 - each for each in df_ann_scores_billsum['score']]\n",
    "print(stats.spearmanr(fact_scores, df_ann_scores_billsum['ngram_overlap']))\n",
    "\n",
    "print('PUBMED CORRELATION')\n",
    "fact_scores = [1 - each for each in df_ann_scores_pubmed['score']]\n",
    "print(stats.spearmanr(fact_scores, df_ann_scores_pubmed['ngram_overlap']))\n",
    "\n",
    "ax = sns.violinplot(data=df_all_scores, y=\"ngram_overlap\", x = 'model', hue = 'task',  \n",
    "                    palette=sns.color_palette([  '#073a67',  '#ffa11c', '#993299']))\n",
    "sns.despine(top = True, right =True)\n",
    "plt.legend(loc='upper right')\n",
    "ax.set(xlabel='Model', ylabel='Proportion of 3-gram overlap')\n",
    "plt.savefig('copying_models.pdf', bbox_inches=\"tight\")\n",
    "plt.show()"
   ]
  },
  {
   "cell_type": "code",
   "execution_count": 19,
   "id": "ad487aa6-d1b4-4118-8bf9-fbf363344381",
   "metadata": {},
   "outputs": [],
   "source": [
    "from rouge import Rouge \n",
    "def get_generated_docs(df_all_scores):\n",
    "    with open('uuid_doc_map.json', 'r') as fp:\n",
    "        uuid_doc_map = json.load( fp)\n",
    "        \n",
    "    generated_training_docs = []\n",
    "    for idx, row in df_all_scores.iterrows():\n",
    "        uuid = row['summary_uuid']\n",
    "        if uuid in uuid_doc_map:\n",
    "            generated_training_docs.append(uuid_doc_map[uuid])\n",
    "        else:\n",
    "            generated_training_docs.append(None)\n",
    "    df_all_scores['generated_doc'] = generated_training_docs\n",
    "    return df_all_scores\n",
    "\n",
    "def get_generated_docs_rouge_scores(df_all_scores):\n",
    "    df_all_scores = df_all_scores[~df_all_scores['generated_doc'].isnull()]\n",
    "    df_all_scores = get_generated_docs(df_all_scores)\n",
    "    rouge_2_r = []\n",
    "    rouge_l_r =[]\n",
    "    \n",
    "    rouge = Rouge()\n",
    "    for idx, row in df_all_scores.iterrows():\n",
    "        gpt3_generated_article = row['generated_doc']\n",
    "        source_article = row['article']\n",
    "        scores = rouge.get_scores(gpt3_generated_article, source_article)\n",
    "        rouge_2_r.append(scores[0]['rouge-2']['r'])\n",
    "        rouge_l_r.append(scores[0]['rouge-l']['r'])\n",
    "    df_all_scores['rouge-2_r'] = rouge_2_r\n",
    "    df_all_scores['rouge-l_r'] = rouge_l_r\n",
    "    return df_all_scores"
   ]
  },
  {
   "cell_type": "code",
   "execution_count": 20,
   "id": "51a51c61-04db-40b8-8b58-f3166e828730",
   "metadata": {},
   "outputs": [
    {
     "data": {
      "text/html": [
       "<div>\n",
       "<style scoped>\n",
       "    .dataframe tbody tr th:only-of-type {\n",
       "        vertical-align: middle;\n",
       "    }\n",
       "\n",
       "    .dataframe tbody tr th {\n",
       "        vertical-align: top;\n",
       "    }\n",
       "\n",
       "    .dataframe thead th {\n",
       "        text-align: right;\n",
       "    }\n",
       "</style>\n",
       "<table border=\"1\" class=\"dataframe\">\n",
       "  <thead>\n",
       "    <tr style=\"text-align: right;\">\n",
       "      <th></th>\n",
       "      <th>Unnamed: 0</th>\n",
       "      <th>summary_uuid</th>\n",
       "      <th>score</th>\n",
       "      <th>model</th>\n",
       "      <th>task</th>\n",
       "      <th>summary</th>\n",
       "      <th>article</th>\n",
       "      <th>ngram_overlap</th>\n",
       "      <th>generated_doc</th>\n",
       "      <th>rouge-2_r</th>\n",
       "      <th>rouge-l_r</th>\n",
       "    </tr>\n",
       "  </thead>\n",
       "  <tbody>\n",
       "    <tr>\n",
       "      <th>0</th>\n",
       "      <td>0</td>\n",
       "      <td>6662e68fa9d78198ba62bc347bfedd63dd9c6510_flant...</td>\n",
       "      <td>0.0</td>\n",
       "      <td>Flan T5</td>\n",
       "      <td>news</td>\n",
       "      <td>Footage shows one of the men emerging from his...</td>\n",
       "      <td>This is the shocking moment a BMW driver ramme...</td>\n",
       "      <td>0.622951</td>\n",
       "      <td>A BMW driver rammed a shirtless man in the str...</td>\n",
       "      <td>0.042373</td>\n",
       "      <td>0.075758</td>\n",
       "    </tr>\n",
       "    <tr>\n",
       "      <th>2</th>\n",
       "      <td>2</td>\n",
       "      <td>34028042_flant5_gen</td>\n",
       "      <td>1.0</td>\n",
       "      <td>Flan T5</td>\n",
       "      <td>news</td>\n",
       "      <td>Police are searching for a man who was found d...</td>\n",
       "      <td>The body of Malcolm Ballantyne, known as Malky...</td>\n",
       "      <td>0.153846</td>\n",
       "      <td>Police have appealed for witnesses to a fatal ...</td>\n",
       "      <td>0.000000</td>\n",
       "      <td>0.028846</td>\n",
       "    </tr>\n",
       "    <tr>\n",
       "      <th>3</th>\n",
       "      <td>3</td>\n",
       "      <td>38323832_flant5_gen</td>\n",
       "      <td>0.0</td>\n",
       "      <td>Flan T5</td>\n",
       "      <td>news</td>\n",
       "      <td>Scientists are using radar satellites to map t...</td>\n",
       "      <td>The team is processing satellite images to sho...</td>\n",
       "      <td>0.000000</td>\n",
       "      <td>The Sentinels are a series of satellites that ...</td>\n",
       "      <td>0.009464</td>\n",
       "      <td>0.040000</td>\n",
       "    </tr>\n",
       "    <tr>\n",
       "      <th>4</th>\n",
       "      <td>4</td>\n",
       "      <td>b37629114b527b98bf0e0850b35b90c1ee928b34_flant...</td>\n",
       "      <td>0.0</td>\n",
       "      <td>Flan T5</td>\n",
       "      <td>news</td>\n",
       "      <td>Alec Stewart is yet to speak to the ECB about ...</td>\n",
       "      <td>Alec Stewart is intrigued to hear more about t...</td>\n",
       "      <td>0.808511</td>\n",
       "      <td>Alasdair Stewart is interested in the England ...</td>\n",
       "      <td>0.008571</td>\n",
       "      <td>0.031674</td>\n",
       "    </tr>\n",
       "    <tr>\n",
       "      <th>5</th>\n",
       "      <td>5</td>\n",
       "      <td>39335887_flant5_gen</td>\n",
       "      <td>0.0</td>\n",
       "      <td>Flan T5</td>\n",
       "      <td>news</td>\n",
       "      <td>US President Donald Trump has appointed his fi...</td>\n",
       "      <td>The 35-year-old will have security clearance a...</td>\n",
       "      <td>0.000000</td>\n",
       "      <td>Ivanka Trump is to have an office in the White...</td>\n",
       "      <td>0.037037</td>\n",
       "      <td>0.096886</td>\n",
       "    </tr>\n",
       "  </tbody>\n",
       "</table>\n",
       "</div>"
      ],
      "text/plain": [
       "   Unnamed: 0                                       summary_uuid  score   \n",
       "0           0  6662e68fa9d78198ba62bc347bfedd63dd9c6510_flant...    0.0  \\\n",
       "2           2                                34028042_flant5_gen    1.0   \n",
       "3           3                                38323832_flant5_gen    0.0   \n",
       "4           4  b37629114b527b98bf0e0850b35b90c1ee928b34_flant...    0.0   \n",
       "5           5                                39335887_flant5_gen    0.0   \n",
       "\n",
       "     model  task                                            summary   \n",
       "0  Flan T5  news  Footage shows one of the men emerging from his...  \\\n",
       "2  Flan T5  news  Police are searching for a man who was found d...   \n",
       "3  Flan T5  news  Scientists are using radar satellites to map t...   \n",
       "4  Flan T5  news  Alec Stewart is yet to speak to the ECB about ...   \n",
       "5  Flan T5  news  US President Donald Trump has appointed his fi...   \n",
       "\n",
       "                                             article  ngram_overlap   \n",
       "0  This is the shocking moment a BMW driver ramme...       0.622951  \\\n",
       "2  The body of Malcolm Ballantyne, known as Malky...       0.153846   \n",
       "3  The team is processing satellite images to sho...       0.000000   \n",
       "4  Alec Stewart is intrigued to hear more about t...       0.808511   \n",
       "5  The 35-year-old will have security clearance a...       0.000000   \n",
       "\n",
       "                                       generated_doc  rouge-2_r  rouge-l_r  \n",
       "0  A BMW driver rammed a shirtless man in the str...   0.042373   0.075758  \n",
       "2  Police have appealed for witnesses to a fatal ...   0.000000   0.028846  \n",
       "3  The Sentinels are a series of satellites that ...   0.009464   0.040000  \n",
       "4  Alasdair Stewart is interested in the England ...   0.008571   0.031674  \n",
       "5  Ivanka Trump is to have an office in the White...   0.037037   0.096886  "
      ]
     },
     "execution_count": 20,
     "metadata": {},
     "output_type": "execute_result"
    }
   ],
   "source": [
    "df_all_scores = get_generated_docs_rouge_scores(df_all_scores)\n",
    "\n",
    "df_all_scores.head()"
   ]
  },
  {
   "cell_type": "code",
   "execution_count": 21,
   "id": "9bb8ffc4-e73a-494b-9adb-3ba19fb88aff",
   "metadata": {},
   "outputs": [
    {
     "data": {
      "image/png": "[encoded data removed]",
      "text/plain": [
       "<Figure size 432x288 with 1 Axes>"
      ]
     },
     "metadata": {
      "needs_background": "light"
     },
     "output_type": "display_data"
    }
   ],
   "source": [
    "ax = sns.violinplot(data=df_all_scores, y=\"rouge-l_r\", x=\"model\", hue = 'task', \n",
    "                    palette=sns.color_palette([  '#073a67',  '#ffa11c', '#993299']))\n",
    "ax.set(xlabel='Model', ylabel='Rouge-L (recall) scores')\n",
    "sns.despine(top = True, right =True)\n",
    "plt.savefig('rougel_recall.pdf', bbox_inches=\"tight\")"
   ]
  },
  {
   "cell_type": "code",
   "execution_count": null,
   "id": "130b1760-6047-40ce-93c4-ac3f0a496f52",
   "metadata": {},
   "outputs": [],
   "source": []
  }
 ],
 "metadata": {
  "kernelspec": {
   "display_name": "llm",
   "language": "python",
   "name": "llm"
  },
  "language_info": {
   "codemirror_mode": {
    "name": "ipython",
    "version": 3
   },
   "file_extension": ".py",
   "mimetype": "text/x-python",
   "name": "python",
   "nbconvert_exporter": "python",
   "pygments_lexer": "ipython3",
   "version": "3.8.16"
  }
 },
 "nbformat": 4,
 "nbformat_minor": 5
}

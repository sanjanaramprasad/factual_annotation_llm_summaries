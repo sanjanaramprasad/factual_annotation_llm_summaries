{
 "cells": [
  {
   "cell_type": "code",
   "execution_count": null,
   "id": "16796389-da48-4451-8d1f-def385f544db",
   "metadata": {},
   "outputs": [],
   "source": [
    "from billsum_title_config import billsum_title_map\n",
    "from pubmed_title_config import pubmed_title_map\n",
    "from news_title_config import news_title_map"
   ]
  },
  {
   "cell_type": "code",
   "execution_count": 2,
   "id": "42100665-46db-4b9c-b8ee-1459c41e6897",
   "metadata": {},
   "outputs": [],
   "source": [
    "from models.GPT_3.gpt3 import GPTInference\n",
    "from models.Flan_t5.flan_t5 import FlanT5Inference"
   ]
  },
  {
   "cell_type": "code",
   "execution_count": 3,
   "id": "83441465-0704-4f9e-8018-fa4e42aa2902",
   "metadata": {
    "tags": []
   },
   "outputs": [],
   "source": [
    "# flan_t5_model = FlanT5Inference()"
   ]
  },
  {
   "cell_type": "code",
   "execution_count": 7,
   "id": "0be75230-5560-48fc-888c-e700913de27b",
   "metadata": {
    "tags": []
   },
   "outputs": [
    {
     "data": {
      "text/plain": [
       "'Casey Anthony who was found not guilty of murdering her two-year old daughter Caylee broke her silence on Monday, a day after her trial ended.'"
      ]
     },
     "execution_count": 7,
     "metadata": {},
     "output_type": "execute_result"
    }
   ],
   "source": [
    "title = 'Casey Anthony who was found not guilty of murdering her two-year old daughter Caylee breaks silence'\n",
    "prompt = f'Generate an overview of the following topic: {title}'\n",
    "flan_t5_model.get_response(prompt)"
   ]
  },
  {
   "cell_type": "code",
   "execution_count": 8,
   "id": "01eb5c74-3ab6-4a53-b2e1-e22720cf2c4f",
   "metadata": {},
   "outputs": [],
   "source": [
    "gpt_model = GPTInference()\n",
    "flan_t5_model = FlanT5Inference()\n",
    "# prompts = {'billsum': \n",
    "def make_summaries(title_map, task, uuid_summary_map):\n",
    "    # task = 'billsum'\n",
    "    idx = 0\n",
    "    for title, title_ids in title_map.items():\n",
    "        # if task == 'billsum':\n",
    "        #     prompt = f'Give me a brief comprehensive summary of the bill: {title}'\n",
    "        # elif task == 'pubmed':\n",
    "        #     prompt = f'Give me a comprehensive summary of the study: {title}'\n",
    "        # else:\n",
    "        prompt = f'Please provide a thorough overview of the following topic: {title}'\n",
    "        title_gen_gpt = gpt_model.get_chatgpt_response(prompt)\n",
    "        titlt_gen_flant5 = flan_t5_model.get_response(prompt)\n",
    "        \n",
    "        if idx == 0:\n",
    "            print(titlt_gen_flant5)\n",
    "        idx += 1\n",
    "        for title_id in title_ids:\n",
    "            if 'gpt' in title_id:\n",
    "                uuid_summary_map[title_id] = title_gen_gpt\n",
    "            elif 'flan' in title_id:\n",
    "                uuid_summary_map[title_id] = titlt_gen_flant5\n",
    "    return uuid_summary_map"
   ]
  },
  {
   "cell_type": "code",
   "execution_count": 9,
   "id": "361fc2a9-4cb8-4812-923f-f7174959b457",
   "metadata": {},
   "outputs": [
    {
     "ename": "NameError",
     "evalue": "name 'title_gen' is not defined",
     "output_type": "error",
     "traceback": [
      "\u001b[0;31m---------------------------------------------------------------------------\u001b[0m",
      "\u001b[0;31mNameError\u001b[0m                                 Traceback (most recent call last)",
      "Cell \u001b[0;32mIn[9], line 2\u001b[0m\n\u001b[1;32m      1\u001b[0m uuid_summary_map \u001b[38;5;241m=\u001b[39m {}\n\u001b[0;32m----> 2\u001b[0m uuid_summary_map \u001b[38;5;241m=\u001b[39m \u001b[43mmake_summaries\u001b[49m\u001b[43m(\u001b[49m\u001b[43mbillsum_title_map\u001b[49m\u001b[43m,\u001b[49m\u001b[43m \u001b[49m\u001b[38;5;124;43m'\u001b[39;49m\u001b[38;5;124;43mbillsum\u001b[39;49m\u001b[38;5;124;43m'\u001b[39;49m\u001b[43m,\u001b[49m\u001b[43m \u001b[49m\u001b[43muuid_summary_map\u001b[49m\u001b[43m)\u001b[49m\n",
      "Cell \u001b[0;32mIn[8], line 18\u001b[0m, in \u001b[0;36mmake_summaries\u001b[0;34m(title_map, task, uuid_summary_map)\u001b[0m\n\u001b[1;32m     15\u001b[0m titlt_gen_flant5 \u001b[38;5;241m=\u001b[39m flan_t5_model\u001b[38;5;241m.\u001b[39mget_response(prompt)\n\u001b[1;32m     17\u001b[0m \u001b[38;5;28;01mif\u001b[39;00m idx \u001b[38;5;241m==\u001b[39m \u001b[38;5;241m0\u001b[39m:\n\u001b[0;32m---> 18\u001b[0m     \u001b[38;5;28mprint\u001b[39m(\u001b[43mtitle_gen\u001b[49m)\n\u001b[1;32m     19\u001b[0m idx \u001b[38;5;241m+\u001b[39m\u001b[38;5;241m=\u001b[39m \u001b[38;5;241m1\u001b[39m\n\u001b[1;32m     20\u001b[0m \u001b[38;5;28;01mfor\u001b[39;00m title_id \u001b[38;5;129;01min\u001b[39;00m title_ids:\n",
      "\u001b[0;31mNameError\u001b[0m: name 'title_gen' is not defined"
     ]
    }
   ],
   "source": [
    "uuid_summary_map = {}\n",
    "uuid_summary_map = make_summaries(billsum_title_map, 'billsum', uuid_summary_map)"
   ]
  },
  {
   "cell_type": "code",
   "execution_count": 16,
   "id": "4d54cb03-65f4-4766-9509-7603c1509c78",
   "metadata": {},
   "outputs": [
    {
     "name": "stdout",
     "output_type": "stream",
     "text": [
      "JLIN is a java-based software program that is used to visualize and analyze linkage disequilibrium (LD) patterns in genetic data. LD is a phenomenon that occurs when genetic markers that are physically close to each other on a chromosome are inherited together more often than would be expected by chance. By examining LD patterns, researchers can gain insights into the genetic architecture of complex traits, such as disease susceptibility.\n",
      "\n",
      "The JLIN program was designed to be user-friendly and easily accessible to researchers, regardless of their level of expertise in genetics or computer programming. The program can be run on any platform that supports Java, including Windows, Mac OS, and Linux. It is also available as a web-based application, making it easy to use on any computer with an internet connection.\n",
      "\n",
      "JLIN generates LD plots that display the strength of LD between pairs of genetic markers in a dataset. Users can adjust the plot settings, such as the marker spacing and color scheme, to optimize the visualization of their data. The program can also perform statistical analyses to determine the significance of LD between markers and to identify LD blocks, which are regions of high LD.\n",
      "\n",
      "One of the unique features of JLIN is its ability to integrate LD results with genotype data. This allows researchers to identify specific genetic variants that are associated with a trait of interest and to explore the functional implications of these variants. JLIN can also output LD results in a variety of formats, including images, tables, and text files, to facilitate further analysis and data sharing.\n",
      "\n",
      "Overall, JLIN is a valuable tool for researchers working in the field of human genetics, providing a user-friendly and powerful platform for visualizing and analyzing LD patterns in genetic data.\n"
     ]
    }
   ],
   "source": [
    "uuid_summary_map = make_summaries(pubmed_title_map, 'pubmed', uuid_summary_map)\n",
    "\n"
   ]
  },
  {
   "cell_type": "code",
   "execution_count": 17,
   "id": "75aa65f9-0a2c-4d31-9d7a-1e0656e1674d",
   "metadata": {},
   "outputs": [
    {
     "name": "stdout",
     "output_type": "stream",
     "text": [
      "Casey Anthony is an American woman who was accused of murdering her two-year old daughter, Caylee Anthony. The incident took place in Florida in 2008, and the case gained national attention due to the nature of the crime and several inconsistencies surrounding the evidence and testimony.\n",
      "\n",
      "Casey was arrested in 2008, and the trial began in 2011. Several pieces of evidence were presented during the trial, including forensic evidence, witness testimony, and circumstantial evidence. The prosecution argued that Casey suffocated her daughter and disposed of the body, while the defense claimed that Caylee drowned accidentally in the family's swimming pool, and Casey's father was responsible for disposing of the body.\n",
      "\n",
      "After a lengthy trial, the jury found Casey not guilty of first-degree murder, aggravated child abuse, and aggravated manslaughter. However, she was found guilty of misdemeanor charges for providing false information to law enforcement officers. Casey was sentenced to four years in jail, but since she had already spent nearly three years in custody, she was released in 2011.\n",
      "\n",
      "Since her release, Casey has remained largely out of the public eye and has not given interviews or statements to the media. However, in 2020, she broke her silence in a series of interviews with several media outlets. During the interviews, Casey maintained her innocence and claimed that she still grieved for her daughter. She also expressed regret for some of her past behavior and acknowledged that her actions led to the public's negative perception of her.\n",
      "\n",
      "Casey's sudden decision to break her silence sparked controversy and outrage among many people, particularly those who believe she is responsible for Caylee's death. Some critics have accused her of cashing in on her notoriety and using her daughter's death for personal gain. Others have expressed frustration that Casey has not taken responsibility for her actions, even though she was found guilty of misleading the authorities.\n",
      "\n",
      "In conclusion, Casey Anthony's case remains one of the most controversial and widely discussed criminal cases in recent years. While the verdict may have been divisive, it is clear that the case continues to captivate the public's attention, and the impact of the tragic events on the family will likely be felt for years to come.\n"
     ]
    }
   ],
   "source": [
    "uuid_summary_map = make_summaries(news_title_map, 'news', uuid_summary_map)"
   ]
  },
  {
   "cell_type": "code",
   "execution_count": 18,
   "id": "79e6336b-eab6-4d81-ae1b-85be99584252",
   "metadata": {},
   "outputs": [],
   "source": [
    "import json\n",
    "with open('uuid_doc_map.json', 'w') as fp:\n",
    "    json.dump(uuid_summary_map, fp)"
   ]
  },
  {
   "cell_type": "code",
   "execution_count": 19,
   "id": "60a1077c-7464-4ed7-8bb6-c4102b29e912",
   "metadata": {},
   "outputs": [
    {
     "data": {
      "text/plain": [
       "299"
      ]
     },
     "execution_count": 19,
     "metadata": {},
     "output_type": "execute_result"
    }
   ],
   "source": [
    "uuid"
   ]
  },
  {
   "cell_type": "code",
   "execution_count": 12,
   "id": "e5a6064e-2c59-4d25-a246-35a0cf4741dc",
   "metadata": {},
   "outputs": [
    {
     "name": "stdout",
     "output_type": "stream",
     "text": [
      "Downloading and preparing dataset cnn_dailymail/3.0.0 (download: Unknown size, generated: Unknown size, post-processed: Unknown size, total: Unknown size) to /scratch/ramprasad.sa/huggingface_datasets/cnn_dailymail/3.0.0/3.0.0/0107f7388b5c6fae455a5661bcd134fc22da53ea75852027040d8d1e997f101f...\n"
     ]
    },
    {
     "data": {
      "application/vnd.jupyter.widget-view+json": {
       "model_id": "",
       "version_major": 2,
       "version_minor": 0
      },
      "text/plain": [
       "HBox(children=(FloatProgress(value=1.0, bar_style='info', layout=Layout(width='20px'), max=1.0), HTML(value=''…"
      ]
     },
     "metadata": {},
     "output_type": "display_data"
    },
    {
     "data": {
      "application/vnd.jupyter.widget-view+json": {
       "model_id": "",
       "version_major": 2,
       "version_minor": 0
      },
      "text/plain": [
       "HBox(children=(FloatProgress(value=1.0, bar_style='info', layout=Layout(width='20px'), max=1.0), HTML(value=''…"
      ]
     },
     "metadata": {},
     "output_type": "display_data"
    },
    {
     "data": {
      "application/vnd.jupyter.widget-view+json": {
       "model_id": "",
       "version_major": 2,
       "version_minor": 0
      },
      "text/plain": [
       "HBox(children=(FloatProgress(value=1.0, bar_style='info', layout=Layout(width='20px'), max=1.0), HTML(value=''…"
      ]
     },
     "metadata": {},
     "output_type": "display_data"
    },
    {
     "name": "stdout",
     "output_type": "stream",
     "text": [
      "Dataset cnn_dailymail downloaded and prepared to /scratch/ramprasad.sa/huggingface_datasets/cnn_dailymail/3.0.0/3.0.0/0107f7388b5c6fae455a5661bcd134fc22da53ea75852027040d8d1e997f101f. Subsequent calls will reuse this data.\n"
     ]
    }
   ],
   "source": [
    "from datasets import load_dataset\n",
    "cnndm_dataset = load_dataset(\"ccdv/cnn_dailymail\", '3.0.0', split = 'test', cache_dir = '/scratch/ramprasad.sa/huggingface_datasets')"
   ]
  },
  {
   "cell_type": "code",
   "execution_count": null,
   "id": "e53d82c7-69bb-4fab-b26d-5f648138f572",
   "metadata": {},
   "outputs": [],
   "source": []
  }
 ],
 "metadata": {
  "kernelspec": {
   "display_name": "llm",
   "language": "python",
   "name": "llm"
  },
  "language_info": {
   "codemirror_mode": {
    "name": "ipython",
    "version": 3
   },
   "file_extension": ".py",
   "mimetype": "text/x-python",
   "name": "python",
   "nbconvert_exporter": "python",
   "pygments_lexer": "ipython3",
   "version": "3.8.16"
  }
 },
 "nbformat": 4,
 "nbformat_minor": 5
}

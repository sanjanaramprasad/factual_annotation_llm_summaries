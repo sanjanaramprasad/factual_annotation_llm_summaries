{
 "cells": [
  {
   "cell_type": "code",
   "execution_count": 48,
   "id": "53b6aa3f-4ef4-42ce-bb87-c1e89395e6e2",
   "metadata": {
    "tags": []
   },
   "outputs": [],
   "source": [
    "from nltk import ngrams\n",
    "import math \n",
    "import string \n",
    "import re\n",
    "\n",
    "import json \n",
    "\n",
    "import pandas as pd \n",
    "import sqlite3\n",
    "import requests \n",
    "import bs4 \n",
    "import query_config as query_config\n",
    "\n",
    "# sentence = 'this is a foo bar sentences and I want to ngramize it'\n",
    "\n",
    "# n = 6\n",
    "# sixgrams = ngrams(sentence.split(), n)\n",
    "\n",
    "# for grams in sixgrams:\n",
    "#   print(grams)"
   ]
  },
  {
   "cell_type": "code",
   "execution_count": 49,
   "id": "f2f275b2-4b7a-4f75-8ccd-e49d7964a1b7",
   "metadata": {
    "tags": []
   },
   "outputs": [],
   "source": [
    "\n",
    "def connect_to_db(db_path):\n",
    "    conn = sqlite3.connect(db_path)\n",
    "    c = conn.cursor()\n",
    "    return conn, c "
   ]
  },
  {
   "cell_type": "code",
   "execution_count": 50,
   "id": "3b607c18-a3e0-4f4b-bff7-a1649229cc1f",
   "metadata": {
    "tags": []
   },
   "outputs": [],
   "source": [
    "def read_db(db_path):\n",
    "    parent_path = '/home/ramprasad.sa'\n",
    "    db_path = f'{parent_path}/{db_path}'\n",
    "    conn, c = connect_to_db(db_path)\n",
    "    df_annotations = pd.read_sql('SELECT * from label', conn)\n",
    "    return df_annotations"
   ]
  },
  {
   "cell_type": "code",
   "execution_count": 51,
   "id": "e7932a53-5712-45e3-9a9c-0c3521bb7cab",
   "metadata": {
    "tags": []
   },
   "outputs": [
    {
     "data": {
      "text/html": [
       "<div>\n",
       "<style scoped>\n",
       "    .dataframe tbody tr th:only-of-type {\n",
       "        vertical-align: middle;\n",
       "    }\n",
       "\n",
       "    .dataframe tbody tr th {\n",
       "        vertical-align: top;\n",
       "    }\n",
       "\n",
       "    .dataframe thead th {\n",
       "        text-align: right;\n",
       "    }\n",
       "</style>\n",
       "<table border=\"1\" class=\"dataframe\">\n",
       "  <thead>\n",
       "    <tr style=\"text-align: right;\">\n",
       "      <th></th>\n",
       "      <th>uuid</th>\n",
       "      <th>user_id</th>\n",
       "      <th>summary_uuid</th>\n",
       "      <th>summ_id</th>\n",
       "      <th>system_id</th>\n",
       "      <th>label_type</th>\n",
       "      <th>summary</th>\n",
       "      <th>nonfactual_sentences</th>\n",
       "      <th>article</th>\n",
       "    </tr>\n",
       "  </thead>\n",
       "  <tbody>\n",
       "    <tr>\n",
       "      <th>0</th>\n",
       "      <td>1</td>\n",
       "      <td>sanjana</td>\n",
       "      <td>044200e5-f15a-44e2-a77a-e850e8792891_flant5_gen</td>\n",
       "      <td>billsum_generic</td>\n",
       "      <td>flant5</td>\n",
       "      <td>factual</td>\n",
       "      <td>Veterans Back and Spinal Therapy Act</td>\n",
       "      <td></td>\n",
       "      <td>SECTION 1. SHORT TITLE.\\r\\n\\r\\n    This Act ma...</td>\n",
       "    </tr>\n",
       "    <tr>\n",
       "      <th>1</th>\n",
       "      <td>2</td>\n",
       "      <td>sanjana</td>\n",
       "      <td>044200e5-f15a-44e2-a77a-e850e8792891_gpt3_gen</td>\n",
       "      <td>billsum_generic</td>\n",
       "      <td>gpt3</td>\n",
       "      <td>factual</td>\n",
       "      <td>The \"Veterans Back and Spinal Therapy Act\" is ...</td>\n",
       "      <td></td>\n",
       "      <td>SECTION 1. SHORT TITLE.\\r\\n\\r\\n    This Act ma...</td>\n",
       "    </tr>\n",
       "    <tr>\n",
       "      <th>2</th>\n",
       "      <td>3</td>\n",
       "      <td>sanjana</td>\n",
       "      <td>09484b42-bbf4-4225-906e-d88653ca5c72_flant5_gen</td>\n",
       "      <td>billsum_generic</td>\n",
       "      <td>flant5</td>\n",
       "      <td>factual</td>\n",
       "      <td>To amend the Federal Food, Drug, and Cosmetic ...</td>\n",
       "      <td></td>\n",
       "      <td>SECTION 1. SHORT TITLE.\\r\\n    This Act may be...</td>\n",
       "    </tr>\n",
       "    <tr>\n",
       "      <th>3</th>\n",
       "      <td>4</td>\n",
       "      <td>sanjana</td>\n",
       "      <td>09484b42-bbf4-4225-906e-d88653ca5c72_gpt3_gen</td>\n",
       "      <td>billsum_generic</td>\n",
       "      <td>gpt3</td>\n",
       "      <td>factual</td>\n",
       "      <td>The Improving Regulatory Transparency for New ...</td>\n",
       "      <td></td>\n",
       "      <td>SECTION 1. SHORT TITLE.\\r\\n    This Act may be...</td>\n",
       "    </tr>\n",
       "    <tr>\n",
       "      <th>4</th>\n",
       "      <td>5</td>\n",
       "      <td>sanjana</td>\n",
       "      <td>0dbcdcc5-7e3d-47aa-9c03-aea7a6734246_flant5_gen</td>\n",
       "      <td>billsum_generic</td>\n",
       "      <td>flant5</td>\n",
       "      <td>factual</td>\n",
       "      <td>A bill to establish the Oil Region National He...</td>\n",
       "      <td></td>\n",
       "      <td>SECTION 1. SHORT TITLE; DEFINITIONS.\\r\\n\\r\\n  ...</td>\n",
       "    </tr>\n",
       "  </tbody>\n",
       "</table>\n",
       "</div>"
      ],
      "text/plain": [
       "   uuid  user_id                                     summary_uuid   \n",
       "0     1  sanjana  044200e5-f15a-44e2-a77a-e850e8792891_flant5_gen  \\\n",
       "1     2  sanjana    044200e5-f15a-44e2-a77a-e850e8792891_gpt3_gen   \n",
       "2     3  sanjana  09484b42-bbf4-4225-906e-d88653ca5c72_flant5_gen   \n",
       "3     4  sanjana    09484b42-bbf4-4225-906e-d88653ca5c72_gpt3_gen   \n",
       "4     5  sanjana  0dbcdcc5-7e3d-47aa-9c03-aea7a6734246_flant5_gen   \n",
       "\n",
       "           summ_id system_id label_type   \n",
       "0  billsum_generic    flant5    factual  \\\n",
       "1  billsum_generic      gpt3    factual   \n",
       "2  billsum_generic    flant5    factual   \n",
       "3  billsum_generic      gpt3    factual   \n",
       "4  billsum_generic    flant5    factual   \n",
       "\n",
       "                                             summary nonfactual_sentences   \n",
       "0               Veterans Back and Spinal Therapy Act                       \\\n",
       "1  The \"Veterans Back and Spinal Therapy Act\" is ...                        \n",
       "2  To amend the Federal Food, Drug, and Cosmetic ...                        \n",
       "3  The Improving Regulatory Transparency for New ...                        \n",
       "4  A bill to establish the Oil Region National He...                        \n",
       "\n",
       "                                             article  \n",
       "0  SECTION 1. SHORT TITLE.\\r\\n\\r\\n    This Act ma...  \n",
       "1  SECTION 1. SHORT TITLE.\\r\\n\\r\\n    This Act ma...  \n",
       "2  SECTION 1. SHORT TITLE.\\r\\n    This Act may be...  \n",
       "3  SECTION 1. SHORT TITLE.\\r\\n    This Act may be...  \n",
       "4  SECTION 1. SHORT TITLE; DEFINITIONS.\\r\\n\\r\\n  ...  "
      ]
     },
     "execution_count": 51,
     "metadata": {},
     "output_type": "execute_result"
    }
   ],
   "source": [
    "\n",
    "db_path = 'human_annotations_factuality/billsum/set1/annotated/billsum_summaries_set1.db'\n",
    "\n",
    "df_annotations = read_db(db_path)\n",
    "df_annotations.head()"
   ]
  },
  {
   "cell_type": "code",
   "execution_count": 68,
   "id": "dd89153e-a055-4906-92b2-c2b9b9b52fe7",
   "metadata": {
    "tags": []
   },
   "outputs": [],
   "source": [
    "from scipy import stats\n",
    "def get_copy_scores(df_annotations):\n",
    "    unique_models = list(set(df_annotations['model']))\n",
    "    for model in unique_models:\n",
    "        df_annotations_model = df_annotations[df_annotations['model'] == model]\n",
    "        three_gram_overlaps = []\n",
    "        four_gram_overlaps = []\n",
    "        five_gram_overlaps = []\n",
    "        non_factual_sents_scores = df_annotations_model['non_factual_sents'].values\n",
    "        for idx, row in df_annotations_model.iterrows():\n",
    "            doc = row['article']\n",
    "            summary = row['summary']\n",
    "    \n",
    "            for n in range(3,6):\n",
    "                doc_ngrams = [each for each in ngrams(doc.split(), n)]\n",
    "                summary_ngrams = [each for each in ngrams(summary.split(), n)]\n",
    "                # print(summary_ngrams)\n",
    "                n_overlap_perc = 0\n",
    "                if summary_ngrams:\n",
    "                    n_overlap_perc = len(set(doc_ngrams).intersection(set(summary_ngrams)))/len(set(summary_ngrams))\n",
    "                if n == 3:\n",
    "                    three_gram_overlaps.append(n_overlap_perc)\n",
    "                elif n == 4:\n",
    "                    four_gram_overlaps.append(n_overlap_perc)\n",
    "                else:\n",
    "                    five_gram_overlaps.append(n_overlap_perc)\n",
    "        print(len(three_gram_overlaps), len(non_factual_sents_scores))\n",
    "        print('MODEL: ', model)\n",
    "        print('THREE GRAM: ', np.mean(three_gram_overlaps), stats.spearmanr(non_factual_sents_scores, three_gram_overlaps ))\n",
    "        print('FOUR GRAM: ', np.mean(four_gram_overlaps), stats.spearmanr(non_factual_sents_scores, four_gram_overlaps ))\n",
    "        print('FIVE GRAM: ', np.mean(five_gram_overlaps), stats.spearmanr(non_factual_sents_scores, four_gram_overlaps ))\n",
    "        print('==='*13)"
   ]
  },
  {
   "cell_type": "code",
   "execution_count": 70,
   "id": "13982431-aeb6-43c3-8614-ffc089e8e262",
   "metadata": {
    "tags": []
   },
   "outputs": [
    {
     "name": "stdout",
     "output_type": "stream",
     "text": [
      "51 51\n",
      "MODEL:  gpt3\n",
      "THREE GRAM:  0.2881059585427516 SignificanceResult(statistic=-0.500290044628375, pvalue=0.00018520429510001315)\n",
      "FOUR GRAM:  0.2069184321143776 SignificanceResult(statistic=-0.42973892239106104, pvalue=0.0016487827854165186)\n",
      "FIVE GRAM:  0.15425022951883094 SignificanceResult(statistic=-0.42973892239106104, pvalue=0.0016487827854165186)\n",
      "=======================================\n",
      "50 50\n",
      "MODEL:  flant5\n",
      "THREE GRAM:  0.42241374905836876 SignificanceResult(statistic=-0.5814607996301865, pvalue=9.505222014969134e-06)\n",
      "FOUR GRAM:  0.36779962514477915 SignificanceResult(statistic=-0.5852574946084773, pvalue=8.043217395849741e-06)\n",
      "FIVE GRAM:  0.32615153869297664 SignificanceResult(statistic=-0.5852574946084773, pvalue=8.043217395849741e-06)\n",
      "=======================================\n"
     ]
    }
   ],
   "source": [
    "df_errors = pd.read_csv('/home/ramprasad.sa/factual_annotation_llm_summaries/analysis/notebook/error_scores_xsum_cnndm.csv')\n",
    "get_copy_scores(df_errors)"
   ]
  },
  {
   "cell_type": "code",
   "execution_count": 45,
   "id": "ecb5d370-6db0-4dfc-9273-f1f85b0cc5d3",
   "metadata": {
    "tags": []
   },
   "outputs": [],
   "source": [
    "three_gram_overlaps = []\n",
    "four_gram_overlaps = []\n",
    "\n",
    "for idx, row in df_annotations.iterrows():\n",
    "    doc = row['article']\n",
    "    summary = row['summary']\n",
    "    \n",
    "    for n in range(3,5):\n",
    "        doc_ngrams = [each for each in ngrams(doc.split(), n)]\n",
    "        summary_ngrams = [each for each in ngrams(summary.split(), n)]\n",
    "        # print(summary_ngrams)\n",
    "        n_overlap_perc = len(set(doc_ngrams).intersection(set(summary_ngrams)))/len(set(summary_ngrams))\n",
    "        if n == 3:\n",
    "            three_gram_overlaps.append(n_overlap_perc)\n",
    "        else:\n",
    "            four_gram_overlaps.append(n_overlap_perc)"
   ]
  },
  {
   "cell_type": "code",
   "execution_count": 46,
   "id": "0820ac55-3cc1-4225-be1f-bb5d21810b1f",
   "metadata": {
    "tags": []
   },
   "outputs": [],
   "source": [
    "df_annotations['3_gram'] = three_gram_overlaps"
   ]
  },
  {
   "cell_type": "code",
   "execution_count": 34,
   "id": "59843660-2746-4844-9495-4607568ebb9a",
   "metadata": {
    "tags": []
   },
   "outputs": [
    {
     "data": {
      "text/plain": [
       "0.27212644064893243"
      ]
     },
     "execution_count": 34,
     "metadata": {},
     "output_type": "execute_result"
    }
   ],
   "source": [
    "import numpy as np\n",
    "np.mean(four_gram_overlaps)"
   ]
  },
  {
   "cell_type": "code",
   "execution_count": 39,
   "id": "b1570214-a09c-4f9e-ac2e-e4fb19ac545d",
   "metadata": {
    "tags": []
   },
   "outputs": [
    {
     "name": "stdout",
     "output_type": "stream",
     "text": [
      "NEWS\n",
      "0.3334534697087751\n",
      "0.2431335510176836\n"
     ]
    }
   ],
   "source": [
    "print('NEWS')\n",
    "print(np.mean(three_gram_overlaps))\n",
    "print(np.mean(four_gram_overlaps))"
   ]
  },
  {
   "cell_type": "code",
   "execution_count": 42,
   "id": "7157bddf-b58d-463c-8a3f-30958b7b8755",
   "metadata": {
    "tags": []
   },
   "outputs": [
    {
     "name": "stdout",
     "output_type": "stream",
     "text": [
      "PUBMED\n",
      "0.48259102405468646\n",
      "0.35507569698540886\n"
     ]
    }
   ],
   "source": [
    "print('PUBMED')\n",
    "print(np.mean(three_gram_overlaps))\n",
    "print(np.mean(four_gram_overlaps))"
   ]
  },
  {
   "cell_type": "code",
   "execution_count": 47,
   "id": "a1e8cba6-812a-4a22-976c-b09cf614a1c8",
   "metadata": {
    "tags": []
   },
   "outputs": [
    {
     "name": "stdout",
     "output_type": "stream",
     "text": [
      "BILLSUM\n",
      "0.3493948621152101\n",
      "0.27212644064893243\n"
     ]
    }
   ],
   "source": [
    "print('BILLSUM')\n",
    "print(np.mean(three_gram_overlaps))\n",
    "print(np.mean(four_gram_overlaps))"
   ]
  },
  {
   "cell_type": "code",
   "execution_count": null,
   "id": "bbf4b919-1c92-4bf9-8c81-7c43b1e1a1a8",
   "metadata": {},
   "outputs": [],
   "source": []
  }
 ],
 "metadata": {
  "kernelspec": {
   "display_name": "llm",
   "language": "python",
   "name": "llm"
  },
  "language_info": {
   "codemirror_mode": {
    "name": "ipython",
    "version": 3
   },
   "file_extension": ".py",
   "mimetype": "text/x-python",
   "name": "python",
   "nbconvert_exporter": "python",
   "pygments_lexer": "ipython3",
   "version": "3.8.16"
  }
 },
 "nbformat": 4,
 "nbformat_minor": 5
}

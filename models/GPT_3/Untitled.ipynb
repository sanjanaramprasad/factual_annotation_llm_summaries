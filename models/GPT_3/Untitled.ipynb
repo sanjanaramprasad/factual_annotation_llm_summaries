{
 "cells": [
  {
   "cell_type": "code",
   "execution_count": 46,
   "id": "41a6b036-d919-4b6d-accf-3003110389a0",
   "metadata": {},
   "outputs": [
    {
     "name": "stdout",
     "output_type": "stream",
     "text": [
      "Random string of length 6 is: vzxvqm\n",
      "Random string of length 4 is: ttsh\n"
     ]
    }
   ],
   "source": [
    "import random\n",
    "import string\n",
    "\n",
    "def get_random_string(length):\n",
    "    # choose from all lowercase letter\n",
    "    letters = string.ascii_lowercase\n",
    "    result_str = ''.join(random.choice(letters) for i in range(length))\n",
    "    print(\"Random string of length\", length, \"is:\", result_str)\n",
    "    return result_str\n",
    "\n",
    "strid = get_random_string(6)\n",
    "strid2 = get_random_string(4)"
   ]
  },
  {
   "cell_type": "code",
   "execution_count": 47,
   "id": "8dd4a45e-68fe-4b7d-b9ff-460d94f2694b",
   "metadata": {
    "tags": []
   },
   "outputs": [
    {
     "name": "stdout",
     "output_type": "stream",
     "text": [
      "\"ann_vzxvqm\": User(1, \"ann_vzxvqm\", \"ttsh\")\n"
     ]
    }
   ],
   "source": [
    "print(f'\"ann_{strid}\": User(1, \"ann_{strid}\", \"{strid2}\")')"
   ]
  },
  {
   "cell_type": "code",
   "execution_count": null,
   "id": "e706f8df-7284-4981-a60c-65aa0758e2b1",
   "metadata": {},
   "outputs": [],
   "source": []
  }
 ],
 "metadata": {
  "kernelspec": {
   "display_name": "llm",
   "language": "python",
   "name": "llm"
  },
  "language_info": {
   "codemirror_mode": {
    "name": "ipython",
    "version": 3
   },
   "file_extension": ".py",
   "mimetype": "text/x-python",
   "name": "python",
   "nbconvert_exporter": "python",
   "pygments_lexer": "ipython3",
   "version": "3.8.16"
  }
 },
 "nbformat": 4,
 "nbformat_minor": 5
}

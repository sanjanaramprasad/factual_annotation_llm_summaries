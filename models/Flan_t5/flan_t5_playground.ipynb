{
 "cells": [
  {
   "cell_type": "code",
   "execution_count": 7,
   "id": "46d44261",
   "metadata": {},
   "outputs": [],
   "source": [
    "from transformers import T5Tokenizer, T5ForConditionalGeneration\n",
    "\n",
    "class FlanT5Inference:\n",
    "    \n",
    "    def __init__(self):\n",
    "        self.model = T5ForConditionalGeneration.from_pretrained(\"google/flan-t5-xl\")\n",
    "        self.tokenizer = T5Tokenizer.from_pretrained(\"google/flan-t5-xl\")\n",
    "        self.model.to('cuda')\n",
    "#         self.tokenizer.to('cuda')\n",
    "\n",
    "    def get_response(self, prompt):\n",
    "        input_ids = self.tokenizer(prompt, return_tensors=\"pt\").input_ids.to('cuda')\n",
    "        response = self.model.generate(input_ids, max_length = 2048)\n",
    "        return self.tokenizer.decode(response[0], skip_special_tokens = True)\n",
    "\n",
    "    \n",
    "    def get_news_response(self,  article, instruction = '', token_limit = 4096):\n",
    "        article_ids = self.tokenizer(article).input_ids\n",
    "        instruction_ids = self.tokenizer(instruction).input_ids \n",
    "        article_token_limit = (4096 - len(instruction_ids)) - len(article_ids)\n",
    "        \n",
    "        article_ids = article_ids[:article_token_limit]\n",
    "        article = self.tokenizer.decode(article_ids, skip_special_tokens = True )\n",
    "        prompt = f'Article: {article}\\n{instruction}'\n",
    "        print(prompt)\n",
    "        \n",
    "        response = self.get_response(prompt)\n",
    "        return response "
   ]
  },
  {
   "cell_type": "code",
   "execution_count": 8,
   "id": "8776d01e",
   "metadata": {},
   "outputs": [
    {
     "data": {
      "application/vnd.jupyter.widget-view+json": {
       "model_id": "118df15a43ae4d7c8d647a55a544d529",
       "version_major": 2,
       "version_minor": 0
      },
      "text/plain": [
       "HBox(children=(FloatProgress(value=0.0, description='Loading checkpoint shards', max=2.0, style=ProgressStyle(…"
      ]
     },
     "metadata": {},
     "output_type": "display_data"
    },
    {
     "name": "stdout",
     "output_type": "stream",
     "text": [
      "\n"
     ]
    }
   ],
   "source": [
    "flan_t5 = FlanT5Inference()"
   ]
  },
  {
   "cell_type": "code",
   "execution_count": 9,
   "id": "2a5c3c73",
   "metadata": {},
   "outputs": [],
   "source": [
    "import pandas as pd\n",
    "data_path = '/home/ramprasad.sa/factual_annotation_llm_summaries/datasets/news_sample'\n",
    "datafile = 'cnndm_sample.csv'\n",
    "df = pd.read_csv(f'{data_path}/{datafile}')"
   ]
  },
  {
   "cell_type": "code",
   "execution_count": 10,
   "id": "87d28273",
   "metadata": {},
   "outputs": [
    {
     "data": {
      "text/html": [
       "<div>\n",
       "<style scoped>\n",
       "    .dataframe tbody tr th:only-of-type {\n",
       "        vertical-align: middle;\n",
       "    }\n",
       "\n",
       "    .dataframe tbody tr th {\n",
       "        vertical-align: top;\n",
       "    }\n",
       "\n",
       "    .dataframe thead th {\n",
       "        text-align: right;\n",
       "    }\n",
       "</style>\n",
       "<table border=\"1\" class=\"dataframe\">\n",
       "  <thead>\n",
       "    <tr style=\"text-align: right;\">\n",
       "      <th></th>\n",
       "      <th>Unnamed: 0</th>\n",
       "      <th>doc</th>\n",
       "      <th>summary</th>\n",
       "      <th>id</th>\n",
       "    </tr>\n",
       "  </thead>\n",
       "  <tbody>\n",
       "    <tr>\n",
       "      <th>0</th>\n",
       "      <td>2641</td>\n",
       "      <td>President Barack . Obama and Cuban President R...</td>\n",
       "      <td>Obama and Raul, Fidel Castro's brother, shook ...</td>\n",
       "      <td>26143091e308fc0bdc9154558dbfb410c9f71118</td>\n",
       "    </tr>\n",
       "    <tr>\n",
       "      <th>1</th>\n",
       "      <td>1299</td>\n",
       "      <td>The mother of a New York City TV reporter blam...</td>\n",
       "      <td>WABC reporter Lisa Colagrossi died March 19 wh...</td>\n",
       "      <td>04e85938cc7f82a209f5ea5ace51a30de51026c0</td>\n",
       "    </tr>\n",
       "    <tr>\n",
       "      <th>2</th>\n",
       "      <td>2491</td>\n",
       "      <td>Martin Tyler has been in the commentary game f...</td>\n",
       "      <td>Martin Tyler revealed 1996 Anfield thriller is...</td>\n",
       "      <td>21f81b0be812850a7c25f803d693d2ad051c9f53</td>\n",
       "    </tr>\n",
       "    <tr>\n",
       "      <th>3</th>\n",
       "      <td>423</td>\n",
       "      <td>(CNN)Deputies rushed Kenneth Morgan Stancil II...</td>\n",
       "      <td>Kenneth Morgan Stancil, charged with first-deg...</td>\n",
       "      <td>5ec241bce317fef97331e1d385b67dab05f5b1dc</td>\n",
       "    </tr>\n",
       "    <tr>\n",
       "      <th>4</th>\n",
       "      <td>7123</td>\n",
       "      <td>Apology: Clydesdale chief Debbie Crosbie whose...</td>\n",
       "      <td>Staff at Clydesdale and Yorkshire Banks misled...</td>\n",
       "      <td>939cf8be4c6ac24477766bf7879877dd37e21528</td>\n",
       "    </tr>\n",
       "  </tbody>\n",
       "</table>\n",
       "</div>"
      ],
      "text/plain": [
       "   Unnamed: 0                                                doc  \\\n",
       "0        2641  President Barack . Obama and Cuban President R...   \n",
       "1        1299  The mother of a New York City TV reporter blam...   \n",
       "2        2491  Martin Tyler has been in the commentary game f...   \n",
       "3         423  (CNN)Deputies rushed Kenneth Morgan Stancil II...   \n",
       "4        7123  Apology: Clydesdale chief Debbie Crosbie whose...   \n",
       "\n",
       "                                             summary  \\\n",
       "0  Obama and Raul, Fidel Castro's brother, shook ...   \n",
       "1  WABC reporter Lisa Colagrossi died March 19 wh...   \n",
       "2  Martin Tyler revealed 1996 Anfield thriller is...   \n",
       "3  Kenneth Morgan Stancil, charged with first-deg...   \n",
       "4  Staff at Clydesdale and Yorkshire Banks misled...   \n",
       "\n",
       "                                         id  \n",
       "0  26143091e308fc0bdc9154558dbfb410c9f71118  \n",
       "1  04e85938cc7f82a209f5ea5ace51a30de51026c0  \n",
       "2  21f81b0be812850a7c25f803d693d2ad051c9f53  \n",
       "3  5ec241bce317fef97331e1d385b67dab05f5b1dc  \n",
       "4  939cf8be4c6ac24477766bf7879877dd37e21528  "
      ]
     },
     "execution_count": 10,
     "metadata": {},
     "output_type": "execute_result"
    }
   ],
   "source": [
    "df.head()"
   ]
  },
  {
   "cell_type": "code",
   "execution_count": 11,
   "id": "0e61725e",
   "metadata": {},
   "outputs": [],
   "source": [
    "article = df['doc'].values[0]\n",
    "# article"
   ]
  },
  {
   "cell_type": "code",
   "execution_count": 12,
   "id": "9d5bac30",
   "metadata": {},
   "outputs": [
    {
     "name": "stderr",
     "output_type": "stream",
     "text": [
      "Token indices sequence length is longer than the specified maximum sequence length for this model (1393 > 512). Running this sequence through the model will result in indexing errors\n"
     ]
    },
    {
     "name": "stdout",
     "output_type": "stream",
     "text": [
      "Article: President Barack. Obama and Cuban President Raul Castro shook hands last night ahead of a historic meeting which may see Cuba declassified as a state sponsor of terrorism. The two leaders, who clasped hands yesterday at a brief meeting, are both attending the Summit of the Americas in Panama. The gesture of friendships is an outward symbol of Obama's project to thaw diplomatic relations with Cuba, which have been frozen since the 1960s. The White House has set expectations for a'substantive' exchange between Castro, brother of revolutionary leader Fidel, and Obama today. Speculation is high that a result of the exchange could be the official removal of Cuba from the State Department's list of state terror sponsors. That removal would also lift some economic sanctions on Cuba. Scroll down for video. Warmth: President Barack Obama and Cuban President Raul Castro shook hands on Friday at a summit in Panama, a symbolically charged gesture as the pair seek to restore ties between the Cold War foes. Until next time: The White House said the two men will have a more robust exchange on Saturday. Obama and Castro have met once before - at the 2013 funeral of Nelson Mandela in South Africa - but today could mark their first robust, in-person meeting. The President's eventual aim is to restore full diplomatic relations. and boost trade and travel between the two countries. Their rapprochement, first unveiled in a historic policy. shift in December, is the central issue at the Summit of the. Americas meeting in Panama. Obama said: 'As we move towards the process of normalization, we'll have. our differences, government to government, with Cuba on many. issues. Just as we differ at times with other nations within the. Americas, just as we differ with our closest allies.' But the 53-year-old Obama, who was not even born when Fidel. and Raul Castro swept to power in Cuba's 1959 revolution, also. said the United States is no longer interested in trying to. impose its will on Latin America. 'The days in which our agenda in this hemisphere so often. presumed that the United States could meddle with impunity,. those days are past,' he said. Apart from a couple of brief, informal encounters, the. leaders of the United States and Cuba have not had any. significant meetings since the Castro brothers toppled. U.S.-backed dictator Fulgencio Batista and then steered their. Caribbean country into a close alliance with the Soviet Union. Last time: Obama and Castro are pictured above shaking hands at the funeral of Nelson Mandela, held in Johannesburg, South Africa, in December 2013. Out of the deep freeze: Obama and Castro are expected to meet again on Saturday and talk about their efforts to restore full diplomatic relations and boost trade and travel between the two countries. Gang's all here: President Barack Obama (far right middle row) and Cuba's President Raul Castro (far left middle row) attend the Summit of the Americas opening ceremony. Colombian President Juan Manuel Santos hailed Obama's push. to improve relations with Cuba, saying it was helping to heal a 'blister' that was hurting the region. However, Cuban dissident Guillermo Farinas said civic groups. in Cuba have been sidelined from talks and appealed to Obama to. support their push for more democracy. 'The Cuban government is showing no goodwill... They don't. want to make any kind of concessions,' he said. Obama, who met with activists from across Latin America,. including two Cuban dissidents, appears to be close to removing. communist-run Cuba from a U.S. list of countries that it says. sponsor terrorism. Its inclusion on the list brings a series of automatic U.S. sanctions and Cuba is insisting it be taken off as a condition. of restoring diplomatic ties. Washington imposed trade sanctions on Cuba from 1960 and. broke off diplomatic relations in 1961, but the. ensuing freeze did it no favors, said Ben Rhodes, Obama's deputy. national security adviser. 'Our Cuba policy, instead of isolating Cuba, was isolating. the United States in our own backyard,' he noted. The two countries have maintained contact through interests. sections in Havana and Washington since 1977, and in recent. years they have increasingly cooperated on issues such as. migration and drug trafficking. The State Department has now recommended that Cuba be taken. off the terrorism list, a U.S. Senate Foreign Relations. Committee aide said. Obama is expected to agree, although it is. not clear whether he will announce it during the summit. Historic: President Barack Obama (right) waving among Raul Castro other Presidents before the opening ceremony of the VII Americas Summit. Obama has already used his executive authority to ease some. trade and travel restrictions, and is seeking to encourage. nascent small businesses in Cuba by allowing more exports there. But only Congress, controlled by Republicans, can remove the. overall U.S. economic embargo on the island. The rapprochement. by Obama has met some resistance in Washington and. among some influential Cuban-Americans. Critics say Cuba should not be rewarded unless it changes. its one-party political system. While Obama's policy has been widely praised around Latin. America, this was tempered last month when his administration. imposed sanctions on Venezuela, Cuba's closest ally and main. benefactor. That controversy now hangs over the summit this weekend. Venezuelan President Nicolas Maduro plans to present Obama. with a petition signed by millions of people demanding that the. sanctions be reversed. He is certain to receive support from. Castro and other left-wing leaders in Latin America. 'It is no time for imperialism, threats, it is time for. peace, co-operation, union, progress, prosperity,' Maduro said on. arrival in Panama.\n",
      "Summarize the above article\n"
     ]
    },
    {
     "data": {
      "text/plain": [
       "\"President Barack Obama and Cuban President Raul Castro shook hands at the Summit of the Americas in Panama. The gesture of friendships is an outward symbol of Obama's project to thaw diplomatic relations with Cuba, which have been frozen since the 1960s. The White House has set expectations for a'substantive' exchange between Castro, brother of revolutionary leader Fidel, and Obama today. Speculation is high that a result of the exchange could be the official removal of Cuba from the State Department's list of state terror sponsors. That removal would also lift some economic sanctions on Cuba.\""
      ]
     },
     "execution_count": 12,
     "metadata": {},
     "output_type": "execute_result"
    }
   ],
   "source": [
    "flan_t5.get_news_response(article, 'Summarize the above article')"
   ]
  },
  {
   "cell_type": "code",
   "execution_count": null,
   "id": "278278de",
   "metadata": {},
   "outputs": [],
   "source": []
  },
  {
   "cell_type": "code",
   "execution_count": null,
   "id": "995153c3",
   "metadata": {},
   "outputs": [],
   "source": []
  }
 ],
 "metadata": {
  "kernelspec": {
   "display_name": "Python 3 (ipykernel)",
   "language": "python",
   "name": "python3"
  },
  "language_info": {
   "codemirror_mode": {
    "name": "ipython",
    "version": 3
   },
   "file_extension": ".py",
   "mimetype": "text/x-python",
   "name": "python",
   "nbconvert_exporter": "python",
   "pygments_lexer": "ipython3",
   "version": "3.8.16"
  }
 },
 "nbformat": 4,
 "nbformat_minor": 5
}

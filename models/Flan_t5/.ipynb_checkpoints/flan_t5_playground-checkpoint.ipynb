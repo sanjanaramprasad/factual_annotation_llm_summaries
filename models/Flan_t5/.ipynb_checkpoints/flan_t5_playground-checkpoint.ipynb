{
 "cells": [
  {
   "cell_type": "code",
   "execution_count": 5,
   "id": "5894264d",
   "metadata": {},
   "outputs": [
    {
     "data": {
      "application/vnd.jupyter.widget-view+json": {
       "model_id": "ae57f832011e40c5ba800ed4356c47b8",
       "version_major": 2,
       "version_minor": 0
      },
      "text/plain": [
       "HBox(children=(FloatProgress(value=0.0, description='Loading checkpoint shards', max=2.0, style=ProgressStyle(…"
      ]
     },
     "metadata": {},
     "output_type": "display_data"
    },
    {
     "name": "stdout",
     "output_type": "stream",
     "text": [
      "\n"
     ]
    },
    {
     "name": "stderr",
     "output_type": "stream",
     "text": [
      "/home/ramprasad.sa/.local/lib/python3.7/site-packages/transformers/generation/utils.py:1317: UserWarning: Using `max_length`'s default (20) to control the generation length. This behaviour is deprecated and will be removed from the config in v5 of Transformers -- we recommend using `max_new_tokens` to control the maximum length of the generation.\n",
      "  UserWarning,\n"
     ]
    },
    {
     "name": "stdout",
     "output_type": "stream",
     "text": [
      "<pad> Wie alt sind Sie?</s>\n"
     ]
    }
   ],
   "source": [
    "from transformers import T5Tokenizer, T5ForConditionalGeneration\n",
    "\n",
    "tokenizer = T5Tokenizer.from_pretrained(\"google/flan-t5-xl\")\n",
    "model = T5ForConditionalGeneration.from_pretrained(\"google/flan-t5-xl\")\n",
    "model.to('cuda')\n"
   ]
  },
  {
   "cell_type": "code",
   "execution_count": 18,
   "id": "2f3bf9b6",
   "metadata": {},
   "outputs": [
    {
     "data": {
      "text/plain": [
       "'translate English to German: How old are you?'"
      ]
     },
     "execution_count": 18,
     "metadata": {},
     "output_type": "execute_result"
    }
   ],
   "source": [
    "input_text = \"translate English to German: How old are you?\"\n",
    "input_ids = tokenizer(input_text).input_ids\n",
    "tokenizer.decode(input_ids[:100], skip_special_tokens = True)"
   ]
  },
  {
   "cell_type": "code",
   "execution_count": null,
   "id": "365c3c68",
   "metadata": {},
   "outputs": [],
   "source": [
    "def FlanT5Inference:\n",
    "    \n",
    "    def __init__(self):\n",
    "        self.model = T5ForConditionalGeneration.from_pretrained(\"google/flan-t5-xl\")\n",
    "        self.tokenizer = T5Tokenizer.from_pretrained(\"google/flan-t5-xl\")\n",
    "        self.model.to('cuda')\n",
    "#         self.tokenizer.to('cuda')\n",
    "\n",
    "    def get_response(self, prompt):\n",
    "        input_ids = self.tokenizer(prompt, return_tensor = 'pt').input_ids.to('cuda')\n",
    "        response = self.model.generate(input_ids)\n",
    "        return self.tokenizer.decode(response[0])\n",
    "    \n",
    "    def make_summary_prompt(self, article, instruction = '', token_limit = 4096):\n",
    "        article_ids = self.tokenizer(article).input_ids\n",
    "        instruction_ids = self.tokenizer(instruction).input_ids \n",
    "        \n",
    "        article_token_limit = (4096 - len(instruction_ids)) - len(article_ids)\n",
    "        \n",
    "        article_ids = article_ids[:article_token_limit]\n",
    "        \n",
    "        article = self.tokenizer.decode(article_ids, skip_special_tokens = True )\n",
    "        prompt = f'Article: {article}\\n{instruction}'\n",
    "        print(prompt)\n",
    "        return prompt\n",
    "    "
   ]
  }
 ],
 "metadata": {
  "kernelspec": {
   "display_name": "Python 3",
   "language": "python",
   "name": "python3"
  },
  "language_info": {
   "codemirror_mode": {
    "name": "ipython",
    "version": 3
   },
   "file_extension": ".py",
   "mimetype": "text/x-python",
   "name": "python",
   "nbconvert_exporter": "python",
   "pygments_lexer": "ipython3",
   "version": "3.7.6"
  }
 },
 "nbformat": 4,
 "nbformat_minor": 5
}
